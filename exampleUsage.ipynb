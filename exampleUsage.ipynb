{
 "cells": [
  {
   "cell_type": "markdown",
   "id": "d767f83b",
   "metadata": {},
   "source": [
    "## Install modules to environment"
   ]
  },
  {
   "cell_type": "code",
   "execution_count": 1,
   "id": "f955709c",
   "metadata": {},
   "outputs": [
    {
     "name": "stdout",
     "output_type": "stream",
     "text": [
      "Requirement already satisfied: pandas in c:\\users\\jtyap\\appdata\\local\\programs\\python\\python310\\lib\\site-packages (2.2.3)\n",
      "Requirement already satisfied: numpy in c:\\users\\jtyap\\appdata\\local\\programs\\python\\python310\\lib\\site-packages (2.1.3)\n",
      "Requirement already satisfied: requests in c:\\users\\jtyap\\appdata\\local\\programs\\python\\python310\\lib\\site-packages (2.32.3)\n",
      "Requirement already satisfied: seaborn in c:\\users\\jtyap\\appdata\\local\\programs\\python\\python310\\lib\\site-packages (0.13.2)\n",
      "Requirement already satisfied: matplotlib in c:\\users\\jtyap\\appdata\\local\\programs\\python\\python310\\lib\\site-packages (3.10.1)\n",
      "Requirement already satisfied: pytz>=2020.1 in c:\\users\\jtyap\\appdata\\local\\programs\\python\\python310\\lib\\site-packages (from pandas) (2025.2)\n",
      "Requirement already satisfied: tzdata>=2022.7 in c:\\users\\jtyap\\appdata\\local\\programs\\python\\python310\\lib\\site-packages (from pandas) (2025.2)\n",
      "Requirement already satisfied: python-dateutil>=2.8.2 in c:\\users\\jtyap\\appdata\\local\\programs\\python\\python310\\lib\\site-packages (from pandas) (2.9.0.post0)\n",
      "Requirement already satisfied: charset-normalizer<4,>=2 in c:\\users\\jtyap\\appdata\\local\\programs\\python\\python310\\lib\\site-packages (from requests) (3.4.1)\n",
      "Requirement already satisfied: idna<4,>=2.5 in c:\\users\\jtyap\\appdata\\local\\programs\\python\\python310\\lib\\site-packages (from requests) (3.10)\n",
      "Requirement already satisfied: certifi>=2017.4.17 in c:\\users\\jtyap\\appdata\\local\\programs\\python\\python310\\lib\\site-packages (from requests) (2025.1.31)\n",
      "Requirement already satisfied: urllib3<3,>=1.21.1 in c:\\users\\jtyap\\appdata\\local\\programs\\python\\python310\\lib\\site-packages (from requests) (2.4.0)\n",
      "Requirement already satisfied: packaging>=20.0 in c:\\users\\jtyap\\appdata\\local\\programs\\python\\python310\\lib\\site-packages (from matplotlib) (24.2)\n",
      "Requirement already satisfied: pyparsing>=2.3.1 in c:\\users\\jtyap\\appdata\\local\\programs\\python\\python310\\lib\\site-packages (from matplotlib) (3.2.3)\n",
      "Requirement already satisfied: cycler>=0.10 in c:\\users\\jtyap\\appdata\\local\\programs\\python\\python310\\lib\\site-packages (from matplotlib) (0.12.1)\n",
      "Requirement already satisfied: fonttools>=4.22.0 in c:\\users\\jtyap\\appdata\\local\\programs\\python\\python310\\lib\\site-packages (from matplotlib) (4.57.0)\n",
      "Requirement already satisfied: pillow>=8 in c:\\users\\jtyap\\appdata\\local\\programs\\python\\python310\\lib\\site-packages (from matplotlib) (11.2.1)\n",
      "Requirement already satisfied: kiwisolver>=1.3.1 in c:\\users\\jtyap\\appdata\\local\\programs\\python\\python310\\lib\\site-packages (from matplotlib) (1.4.8)\n",
      "Requirement already satisfied: contourpy>=1.0.1 in c:\\users\\jtyap\\appdata\\local\\programs\\python\\python310\\lib\\site-packages (from matplotlib) (1.3.2)\n",
      "Requirement already satisfied: six>=1.5 in c:\\users\\jtyap\\appdata\\local\\programs\\python\\python310\\lib\\site-packages (from python-dateutil>=2.8.2->pandas) (1.17.0)\n",
      "Note: you may need to restart the kernel to use updated packages.\n"
     ]
    },
    {
     "name": "stderr",
     "output_type": "stream",
     "text": [
      "\n",
      "[notice] A new release of pip is available: 23.0.1 -> 25.0.1\n",
      "[notice] To update, run: python.exe -m pip install --upgrade pip\n"
     ]
    }
   ],
   "source": [
    "%pip install pandas numpy requests seaborn matplotlib"
   ]
  },
  {
   "cell_type": "markdown",
   "id": "5137dcce",
   "metadata": {},
   "source": [
    "## Import modules"
   ]
  },
  {
   "cell_type": "code",
   "execution_count": 2,
   "id": "8d6e0611",
   "metadata": {},
   "outputs": [],
   "source": [
    "from Backtesting.dataFetchers.marketDataFetchers import CoinbaseFetcher\n",
    "from Backtesting.dataFetchers.onChainMetricsFetchers import CryptoQuantFetcher\n",
    "from Backtesting.dataFetchers.onChainMetricsFetchers import CryptoQuantFetcherWithoutExchange\n",
    "from Backtesting.dataFetchers.onChainMetricsFetchers import GlassnodeFetcher\n",
    "from Backtesting.backtest import Backtest\n",
    "from Backtesting.strategies.marketRegimeStrategy import MarketRegimeStrategy\n",
    "\n",
    "from datetime import datetime\n",
    "\n"
   ]
  },
  {
   "cell_type": "markdown",
   "id": "dac0535b",
   "metadata": {},
   "source": [
    "## Fetch Data"
   ]
  },
  {
   "cell_type": "markdown",
   "id": "b66e005f",
   "metadata": {},
   "source": [
    "Input API key and desired interval and window"
   ]
  },
  {
   "cell_type": "code",
   "execution_count": 3,
   "id": "a1dc5a33",
   "metadata": {},
   "outputs": [],
   "source": [
    "API_KEY = \"GlYxSZP9hnooNl6gGAjtkptkeqehSnk5C60Akhpw5zupBK6O\"\n",
    "LIMIT = 1000\n"
   ]
  },
  {
   "cell_type": "markdown",
   "id": "03697dc9",
   "metadata": {},
   "source": [
    "### Market Data"
   ]
  },
  {
   "cell_type": "code",
   "execution_count": 4,
   "id": "0e391637",
   "metadata": {},
   "outputs": [],
   "source": [
    "MARKET_DATA_BASE_URL = \"https://api.datasource.cybotrade.rs/coinbase/candle\"\n",
    "\n",
    "SYMBOL = \"BTC-USD\" # Can be any symbol available on Coinbase\n",
    "INTERVAL = \"1h\" # Can be any interval such as \"1d\", \"1h\", \"15m\", etc."
   ]
  },
  {
   "cell_type": "code",
   "execution_count": 5,
   "id": "bb7a99db",
   "metadata": {},
   "outputs": [],
   "source": [
    "# start_time = int(datetime(2023, 1, 1).timestamp() * 1000)\n",
    "# end_time = int(datetime(2024, 12, 31, 23, 59).timestamp() * 1000)\n",
    "\n",
    "bt_start_time = int(datetime(2021, 1, 1).timestamp() * 1000)\n",
    "bt_end_time = int(datetime(2023, 12, 31, 23, 59).timestamp() * 1000)\n"
   ]
  },
  {
   "cell_type": "code",
   "execution_count": 6,
   "id": "b23e8d70",
   "metadata": {},
   "outputs": [
    {
     "name": "stdout",
     "output_type": "stream",
     "text": [
      "Fetching 1h data for BTC-USD from 2020-12-31 16:00:00 to 2023-12-31 15:59:00...\n",
      "✅ Retrieved 1000 candles. Total: 1000\n",
      "✅ Retrieved 1000 candles. Total: 1000\n",
      "✅ Retrieved 1000 candles. Total: 1000\n",
      "✅ Retrieved 1000 candles. Total: 1000\n",
      "✅ Retrieved 1000 candles. Total: 1000\n",
      "✅ Retrieved 1000 candles. Total: 1000\n",
      "✅ Retrieved 1000 candles. Total: 1000\n",
      "✅ Retrieved 1000 candles. Total: 1000\n",
      "✅ Retrieved 1000 candles. Total: 1000\n",
      "✅ Retrieved 1000 candles. Total: 1000\n",
      "✅ Retrieved 1000 candles. Total: 1000\n",
      "✅ Retrieved 1000 candles. Total: 1000\n",
      "✅ Retrieved 1000 candles. Total: 1000\n",
      "✅ Retrieved 1000 candles. Total: 1000\n",
      "✅ Retrieved 1000 candles. Total: 1000\n",
      "✅ Retrieved 1000 candles. Total: 1000\n",
      "✅ Retrieved 1000 candles. Total: 1000\n",
      "✅ Retrieved 1000 candles. Total: 1000\n",
      "✅ Retrieved 1000 candles. Total: 1000\n",
      "✅ Retrieved 996 candles. Total: 996\n",
      "✅ Retrieved 1000 candles. Total: 1000\n",
      "✅ Retrieved 1000 candles. Total: 1000\n",
      "✅ Retrieved 1000 candles. Total: 1000\n",
      "✅ Retrieved 1000 candles. Total: 1000\n",
      "✅ Retrieved 1000 candles. Total: 1000\n",
      "✅ Retrieved 1000 candles. Total: 1000\n",
      "✅ Retrieved 1000 candles. Total: 1000\n",
      "💾 Saved to datasets/BTC-USD_1h_Training data_1706630400000_to_1704038340000.csv with 26996 rows.\n",
      "                         open      high       low     close       volume\n",
      "timestamp                                                               \n",
      "2024-01-30 11:00:00  43472.51  43558.98  43407.26  43526.96   321.065704\n",
      "2024-01-30 12:00:00  43526.95  43872.99  43253.55  43394.50  1045.114230\n",
      "2024-01-30 13:00:00  43388.55  43480.75  43144.99  43291.84   641.664111\n",
      "2024-01-30 14:00:00  43290.68  43507.24  43115.47  43479.72   762.811522\n",
      "2024-01-30 15:00:00  43479.72  43630.93  43293.12  43379.53  1261.506661\n"
     ]
    }
   ],
   "source": [
    "market_data_fetcher = CoinbaseFetcher(API_KEY, MARKET_DATA_BASE_URL, SYMBOL, LIMIT)\n",
    "market_data_fetcher.fetch(bt_start_time, bt_end_time, INTERVAL)\n",
    "\n"
   ]
  },
  {
   "cell_type": "markdown",
   "id": "4e998221",
   "metadata": {},
   "source": [
    "### On Chain Metrics Data (TBU)"
   ]
  },
  {
   "cell_type": "code",
   "execution_count": 7,
   "id": "65b728d6",
   "metadata": {},
   "outputs": [],
   "source": [
    "ONCHAIN_API_KEY = \"GlYxSZP9hnooNl6gGAjtkptkeqehSnk5C60Akhpw5zupBK6O\"\n",
    "ONCHAIN_DATA_BASE_URL = \"https://api.datasource.cybotrade.rs/cryptoquant\"\n",
    "GLASSNODE_BASE_URL = \"https://api.datasource.cybotrade.rs/glassnode\"\n",
    "EXCHANGE = \"binance\" # Can be any exchange available on CryptoQuant\n",
    "CURRENCY = \"btc\" # Can be any symbol available on CryptoQuant\n",
    "ASSET = \"BTC\"\n",
    "ON_CHAIN_LIMIT = None # Number of data points to fetch\n",
    "\n",
    "\n",
    "netflow_window = \"hour\"\n",
    "netflow_endpoint_category = \"exchange-flows\"\n",
    "netflow_metric = \"netflow\"\n",
    "\n",
    "exchange_whale_ratio_window = \"hour\"\n",
    "exchange_whale_ratio_endpoint_category = \"flow-indicator\"\n",
    "exchange_whale_ratio_metric = \"exchange-whale-ratio\"\n",
    "\n",
    "funding_rates_window = \"hour\"\n",
    "funding_rates_endpoint_category = \"market-data\"\n",
    "funding_rates_metric = \"funding-rates\"\n",
    "\n",
    "dormancy_window = \"day\"\n",
    "dormancy_endpoint_category = \"network-indicator\"\n",
    "dormancy_metric = \"dormancy\"\n",
    "\n",
    "new_address_endpoint = \"addresses/new_non_zero_count\"\n",
    "active_address_endpoint = \"addresses/active_count\"\n",
    "\n",
    "# mvrv_window = \"day\"\n",
    "# mvrv_endpoint_category = \"market-indicator\"\n",
    "# mvrv_metric = \"mvrv\"\n",
    "\n",
    "# sopr_window = \"day\"\n",
    "# sopr_endpoint_category = \"market-indicator\"\n",
    "# sopr_metric = \"sopr-ratio\"\n",
    "\n",
    "# nupl_window = \"day\"\n",
    "# nupl_endpoint_category = \"network-indicator\"\n",
    "# nupl_metric = \"nupl\"\n",
    "\n",
    "# cdd_window = \"day\"\n",
    "# cdd_endpoint_category = \"network-indicator\"\n",
    "# cdd_metric = \"cdd\"\n",
    "\n",
    "# puell_multiple_window = \"day\"\n",
    "# puell_multiple_endpoint_category = \"network-indicator\"\n",
    "# puell_multiple_metric = \"puell-multiple\"\n",
    "\n",
    "# hashrate_window = \"hour\"\n",
    "# hashrate_endpoint_category = \"network-data\"\n",
    "# hashrate_metric = \"hashrate\"\n"
   ]
  },
  {
   "cell_type": "code",
   "execution_count": 8,
   "id": "fe69a656",
   "metadata": {},
   "outputs": [
    {
     "name": "stdout",
     "output_type": "stream",
     "text": [
      "Fetching exchange-flows/netflow data for btc from binance with window 'hour'...\n",
      "Using range: 2020-12-31 16:00:00 to 2023-12-31 15:59:00\n",
      "✅ Retrieved 26280 records. Total so far: 26280\n",
      "Using range: 2023-12-31 15:00:01 to 2023-12-31 15:59:00\n",
      "❌ Error 400: {\"error\":\"'limit' must be between [1, 100000]\"}\n",
      "💾 Saved to datasets/binance_netflow_hour_Training data_1704034801000_to_1704038340000.csv with 26280 rows.\n",
      "                     netflow_total\n",
      "timestamp                         \n",
      "2023-12-31 11:00:00     -92.970151\n",
      "2023-12-31 12:00:00    -336.005022\n",
      "2023-12-31 13:00:00     677.350307\n",
      "2023-12-31 14:00:00    -156.612435\n",
      "2023-12-31 15:00:00    -143.570204\n",
      "Fetching flow-indicator/exchange-whale-ratio data for btc from binance with window 'hour'...\n",
      "Using range: 2020-12-31 16:00:00 to 2023-12-31 15:59:00\n",
      "✅ Retrieved 26280 records. Total so far: 26280\n",
      "Using range: 2023-12-31 15:00:01 to 2023-12-31 15:59:00\n",
      "❌ Error 400: {\"error\":\"'limit' must be between [1, 100000]\"}\n",
      "💾 Saved to datasets/binance_exchange-whale-ratio_hour_Training data_1704034801000_to_1704038340000.csv with 26280 rows.\n",
      "                     exchange_whale_ratio\n",
      "timestamp                                \n",
      "2023-12-31 11:00:00              0.887809\n",
      "2023-12-31 12:00:00              0.482861\n",
      "2023-12-31 13:00:00              0.923522\n",
      "2023-12-31 14:00:00              0.493126\n",
      "2023-12-31 15:00:00              0.680418\n",
      "Fetching market-data/funding-rates data for btc from binance with window 'hour'...\n",
      "Using range: 2020-12-31 16:00:00 to 2023-12-31 15:59:00\n",
      "✅ Retrieved 26274 records. Total so far: 26274\n",
      "Using range: 2023-12-31 15:00:01 to 2023-12-31 15:59:00\n",
      "❌ Error 400: {\"error\":\"'limit' must be between [1, 100000]\"}\n",
      "💾 Saved to datasets/binance_funding-rates_hour_Training data_1704034801000_to_1704038340000.csv with 26274 rows.\n",
      "                     funding_rates\n",
      "timestamp                         \n",
      "2023-12-31 11:00:00       0.038350\n",
      "2023-12-31 12:00:00       0.038883\n",
      "2023-12-31 13:00:00       0.037859\n",
      "2023-12-31 14:00:00       0.036788\n",
      "2023-12-31 15:00:00       0.035041\n",
      "Fetching network-indicator/dormancy data for btc with window 'day'...\n",
      "Using range: 2020-12-31 16:00:00 to 2023-12-31 15:59:00\n",
      "✅ Retrieved 1095 records. Total so far: 1095\n",
      "Using range: 2023-12-31 00:00:01 to 2023-12-31 15:59:00\n",
      "❌ Error 400: {\"error\":\"'limit' must be between [1, 100000]\"}\n",
      "💾 Saved to datasets/dormancy_day_Training data_1703980801000_to_1704038340000.csv with 1095 rows.\n",
      "            average_dormancy  sa_average_dormancy\n",
      "timestamp                                        \n",
      "2023-12-27         72.868482         3.720000e-06\n",
      "2023-12-28         13.070825         6.700000e-07\n",
      "2023-12-29         38.364098         1.960000e-06\n",
      "2023-12-30         14.851544         7.600000e-07\n",
      "2023-12-31         10.119704         5.200000e-07\n",
      "📁 Netflow path: datasets/binance_netflow_hour_Training data_1704034801000_to_1704038340000.csv\n",
      "📁 Whale Ratio path: datasets/binance_exchange-whale-ratio_hour_Training data_1704034801000_to_1704038340000.csv\n",
      "📁 Funding Rates path: datasets/binance_funding-rates_hour_Training data_1704034801000_to_1704038340000.csv\n",
      "📁 Dormancy path: datasets/dormancy_day_Training data_1703980801000_to_1704038340000.csv\n",
      "Fetching addresses/new_non_zero_count data for BTC at interval '1h'...\n",
      "Fetching from https://api.datasource.cybotrade.rs/glassnode/addresses/new_non_zero_count with params: {'a': 'BTC', 'i': '1h', 'start_timestamp': 1609430400000, 'end_timestamp': 1612195140000, 'f': 'json', 'limit': 1000}\n",
      "❌ Error 400: {\"error\":\"'end_timestamp' is not a valid parameter for endpoint 'addresses/new_non_zero_count' on glassnode\"}\n",
      "💾 Saved to datasets/glassnode_addresses_new_non_zero_count_1h_Training data_1609430400000_to_1612195140000.csv with 0 rows.\n",
      "Empty DataFrame\n",
      "Columns: []\n",
      "Index: []\n",
      "Fetching addresses/active_count data for BTC at interval '1h'...\n",
      "Fetching from https://api.datasource.cybotrade.rs/glassnode/addresses/active_count with params: {'a': 'BTC', 'i': '1h', 'start_timestamp': 1609430400000, 'end_timestamp': 1612195140000, 'f': 'json', 'limit': 1000}\n",
      "❌ Error 400: {\"error\":\"'end_timestamp' is not a valid parameter for endpoint 'addresses/active_count' on glassnode\"}\n",
      "💾 Saved to datasets/glassnode_addresses_active_count_1h_Training data_1609430400000_to_1612195140000.csv with 0 rows.\n",
      "Empty DataFrame\n",
      "Columns: []\n",
      "Index: []\n"
     ]
    }
   ],
   "source": [
    "on_chain_fetcher_netflow = CryptoQuantFetcher(API_KEY, ONCHAIN_DATA_BASE_URL, CURRENCY, netflow_endpoint_category, netflow_metric, EXCHANGE, ON_CHAIN_LIMIT)\n",
    "on_chain_fetcher_netflow.fetch_netflow(netflow_window, bt_start_time, bt_end_time)\n",
    "\n",
    "on_chain_fetecher_exchange_whale_ratio = CryptoQuantFetcher(API_KEY, ONCHAIN_DATA_BASE_URL, CURRENCY, exchange_whale_ratio_endpoint_category, exchange_whale_ratio_metric, EXCHANGE, ON_CHAIN_LIMIT)\n",
    "on_chain_fetecher_exchange_whale_ratio.fetch_exchange_whale_ratio(exchange_whale_ratio_window, bt_start_time, bt_end_time)\n",
    "\n",
    "on_chain_fetcher_funding_rates = CryptoQuantFetcher(API_KEY, ONCHAIN_DATA_BASE_URL, CURRENCY, funding_rates_endpoint_category, funding_rates_metric, EXCHANGE, ON_CHAIN_LIMIT)\n",
    "on_chain_fetcher_funding_rates.fetch_funding_rates(funding_rates_window, bt_start_time, bt_end_time)\n",
    "\n",
    "dormancy_limit = None\n",
    "\n",
    "on_chain_fetcher_without_exchange_dormancy = CryptoQuantFetcherWithoutExchange(API_KEY, ONCHAIN_DATA_BASE_URL, CURRENCY, dormancy_endpoint_category, dormancy_metric, ON_CHAIN_LIMIT)\n",
    "on_chain_fetcher_without_exchange_dormancy.fetch_dormancy(dormancy_window, bt_start_time, bt_end_time)\n",
    "\n",
    "print(\"📁 Netflow path:\", on_chain_fetcher_netflow.saved_filepath)\n",
    "print(\"📁 Whale Ratio path:\", on_chain_fetecher_exchange_whale_ratio.saved_filepath)\n",
    "print(\"📁 Funding Rates path:\", on_chain_fetcher_funding_rates.saved_filepath)\n",
    "print(\"📁 Dormancy path:\", on_chain_fetcher_without_exchange_dormancy.saved_filepath)\n",
    "\n",
    "\n",
    "gn_start_time = int(datetime(2021, 1, 1).timestamp() * 1000)\n",
    "gn_end_time = int(datetime(2021, 2, 1, 23, 59).timestamp() * 1000)\n",
    "\n",
    "glassnode_fetcher_new_address = GlassnodeFetcher(API_KEY, GLASSNODE_BASE_URL, ASSET, new_address_endpoint, None, bt_start_time, bt_end_time, '1h', 'json', 'unix', LIMIT)\n",
    "new_address_fetcher = glassnode_fetcher_new_address.fetch_new_address('1h', gn_start_time, gn_end_time)\n",
    "\n",
    "glassnode_fetcher_active_address = GlassnodeFetcher(API_KEY, GLASSNODE_BASE_URL, ASSET, active_address_endpoint, None, bt_start_time, bt_end_time, '1h', 'json', 'unix', LIMIT)\n",
    "active_address_fetcher = glassnode_fetcher_active_address.fetch_active_address('1h', gn_start_time, gn_end_time)\n",
    "\n",
    "# on_chain_fetcher_without_exchange_mvrv = CryptoQuantFetcherWithoutExchange(API_KEY, ONCHAIN_DATA_BASE_URL, CURRENCY, mvrv_endpoint_category, mvrv_metric, ON_CHAIN_LIMIT)\n",
    "# on_chain_fetcher_without_exchange_sopr = CryptoQuantFetcherWithoutExchange(API_KEY, ONCHAIN_DATA_BASE_URL, CURRENCY,  sopr_endpoint_category, sopr_metric, ON_CHAIN_LIMIT)\n",
    "# on_chain_fetcher_without_exchange_nupl = CryptoQuantFetcherWithoutExchange(API_KEY, ONCHAIN_DATA_BASE_URL, CURRENCY, nupl_endpoint_category, nupl_metric, ON_CHAIN_LIMIT)\n",
    "# on_chain_fetcher_without_exchange_cdd = CryptoQuantFetcherWithoutExchange(API_KEY, ONCHAIN_DATA_BASE_URL, CURRENCY, cdd_endpoint_category, cdd_metric, ON_CHAIN_LIMIT)\n",
    "# on_chain_fetcher_without_exchange_puell_multiple = CryptoQuantFetcherWithoutExchange(API_KEY, ONCHAIN_DATA_BASE_URL, CURRENCY, puell_multiple_endpoint_category, puell_multiple_metric, ON_CHAIN_LIMIT)\n",
    "# on_chain_fetcher_without_exchange_hashrate = CryptoQuantFetcherWithoutExchange(API_KEY, ONCHAIN_DATA_BASE_URL, CURRENCY, hashrate_endpoint_category, hashrate_metric, ON_CHAIN_LIMIT)\n",
    "# on_chain_fetcher_without_exchange_mvrv.fetch_mvrv(mvrv_window, bt_start_time, bt_end_time)\n",
    "# on_chain_fetcher_without_exchange_sopr.fetch_sopr(sopr_window, bt_start_time, bt_end_time)\n",
    "# on_chain_fetcher_without_exchange_nupl.fetch_nupl(nupl_window, bt_start_time, bt_end_time)\n",
    "# on_chain_fetcher_without_exchange_cdd.fetch_cdd(cdd_window, bt_start_time, bt_end_time)\n",
    "# on_chain_fetcher_without_exchange_puell_multiple.fetch_puell_multiple(puell_multiple_window, bt_start_time, bt_end_time)\n",
    "# on_chain_fetcher_without_exchange_hashrate.fetch_hashrate(hashrate_window, bt_start_time, bt_end_time)"
   ]
  },
  {
   "cell_type": "code",
   "execution_count": 9,
   "id": "188b07bd",
   "metadata": {},
   "outputs": [
    {
     "name": "stdout",
     "output_type": "stream",
     "text": [
      "✅ Merged CSV saved to: datasets\\merged_on_chain_metrics.csv\n"
     ]
    },
    {
     "name": "stderr",
     "output_type": "stream",
     "text": [
      "c:\\Users\\JTYAP\\VSCodeProjects\\um-hackathon-budget-gang\\Backtesting\\dataFetchers\\onChainMetricsFetchers.py:45: FutureWarning: 'H' is deprecated and will be removed in a future version, please use 'h' instead.\n",
      "  df = df.resample(\"1H\").ffill()\n",
      "c:\\Users\\JTYAP\\VSCodeProjects\\um-hackathon-budget-gang\\Backtesting\\dataFetchers\\onChainMetricsFetchers.py:60: FutureWarning: 'H' is deprecated and will be removed in a future version, please use 'h' instead.\n",
      "  time_index = pd.date_range(start=start_ts, end=end_ts, freq=\"1H\")\n"
     ]
    }
   ],
   "source": [
    "csvs_to_merge = [\n",
    "    on_chain_fetcher_netflow.saved_filepath,\n",
    "    on_chain_fetecher_exchange_whale_ratio.saved_filepath,\n",
    "    on_chain_fetcher_funding_rates.saved_filepath,\n",
    "    on_chain_fetcher_without_exchange_dormancy.saved_filepath\n",
    "]\n",
    "\n",
    "CryptoQuantFetcher.merge_selected_csv_files(csvs_to_merge, \"merged_on_chain_metrics.csv\")"
   ]
  },
  {
   "cell_type": "markdown",
   "id": "ae7fb549",
   "metadata": {},
   "source": [
    "## Perform Backtesting"
   ]
  },
  {
   "cell_type": "code",
   "execution_count": 10,
   "id": "337fadc7",
   "metadata": {},
   "outputs": [
    {
     "name": "stderr",
     "output_type": "stream",
     "text": [
      "         1 -2874033.95701127             +nan\n",
      "         2 -2661095.42302603 +212938.53398524\n",
      "         3 -2655802.52383050   +5292.89919553\n",
      "         4 -2654344.71643252   +1457.80739798\n",
      "         5 -2652982.27968789   +1362.43674463\n",
      "         6 -2652319.58473832    +662.69494957\n",
      "         7 -2652123.16342670    +196.42131162\n",
      "         8 -2652001.48571801    +121.67770869\n",
      "         9 -2651795.19334361    +206.29237440\n",
      "        10 -2651637.72432844    +157.46901518\n",
      "        11 -2651417.19909675    +220.52523168\n",
      "        12 -2651282.01797304    +135.18112371\n",
      "        13 -2651076.12473234    +205.89324070\n",
      "        14 -2650930.44818635    +145.67654599\n",
      "        15 -2650835.35512600     +95.09306035\n",
      "        16 -2650770.78119209     +64.57393391\n",
      "        17 -2650714.31274878     +56.46844332\n",
      "        18 -2650650.47159578     +63.84115300\n",
      "        19 -2650567.89731638     +82.57427939\n",
      "        20 -2650492.87007616     +75.02724023\n",
      "        21 -2650418.19284837     +74.67722779\n",
      "        22 -2650377.14318977     +41.04965859\n",
      "        23 -2650357.81100080     +19.33218897\n",
      "        24 -2650345.76189929     +12.04910151\n",
      "        25 -2650335.37311615     +10.38878314\n",
      "        26 -2650326.51218882      +8.86092733\n",
      "        27 -2650320.58659347      +5.92559534\n",
      "        28 -2650316.88675215      +3.69984133\n",
      "        29 -2650314.23376050      +2.65299165\n",
      "        30 -2650311.62290542      +2.61085507\n",
      "        31 -2650308.01193727      +3.61096815\n",
      "        32 -2650303.06676317      +4.94517410\n",
      "        33 -2650296.74610880      +6.32065437\n",
      "        34 -2650289.29638087      +7.44972793\n",
      "        35 -2650281.78186755      +7.51451332\n",
      "        36 -2650274.98399730      +6.79787025\n",
      "        37 -2650269.00389310      +5.98010420\n",
      "        38 -2650263.69069286      +5.31320024\n",
      "        39 -2650258.95235511      +4.73833775\n",
      "        40 -2650254.61673207      +4.33562304\n",
      "        41 -2650250.41792284      +4.19880923\n",
      "        42 -2650246.08479465      +4.33312818\n",
      "        43 -2650241.47206881      +4.61272585\n",
      "        44 -2650236.72313348      +4.74893533\n",
      "        45 -2650232.23512488      +4.48800859\n",
      "        46 -2650228.32055765      +3.91456723\n",
      "        47 -2650225.03483211      +3.28572553\n",
      "        48 -2650222.30256651      +2.73226560\n",
      "        49 -2650220.03467545      +2.26789106\n",
      "        50 -2650218.15596936      +1.87870609\n",
      "        51 -2650216.60233906      +1.55363030\n",
      "        52 -2650215.31752849      +1.28481056\n",
      "        53 -2650214.25282741      +1.06470108\n",
      "        54 -2650213.36735569      +0.88547172\n",
      "        55 -2650212.62777031      +0.73958538\n",
      "        56 -2650212.00737524      +0.62039507\n",
      "        57 -2650211.48493299      +0.52244225\n",
      "        58 -2650211.04354040      +0.44139260\n",
      "        59 -2650210.66964944      +0.37389095\n",
      "        60 -2650210.35230248      +0.31734697\n",
      "        61 -2650210.08254211      +0.26976036\n",
      "        62 -2650209.85298237      +0.22955974\n",
      "        63 -2650209.65747859      +0.19550378\n",
      "        64 -2650209.49088741      +0.16659118\n",
      "        65 -2650209.34887706      +0.14201035\n",
      "        66 -2650209.22779825      +0.12107881\n",
      "        67 -2650209.12454668      +0.10325158\n",
      "        68 -2650209.03649089      +0.08805579\n",
      "        69 -2650208.96138870      +0.07510219\n",
      "        70 -2650208.89733644      +0.06405227\n",
      "        71 -2650208.84270708      +0.05462936\n",
      "        72 -2650208.79611257      +0.04659450\n",
      "        73 -2650208.75637601      +0.03973657\n",
      "        74 -2650208.72248848      +0.03388753\n",
      "        75 -2650208.69358812      +0.02890036\n",
      "        76 -2650208.66894070      +0.02464742\n",
      "        77 -2650208.64792233      +0.02101837\n",
      "        78 -2650208.62999998      +0.01792235\n"
     ]
    },
    {
     "name": "stdout",
     "output_type": "stream",
     "text": [
      "Converged: True\n",
      "Final log likelihood: -2650208.5810977863\n",
      "State Labels: {2: 'bullish', 0: 'bearish', 1: 'neutral'}\n",
      "                timestamp      open     close  log_return  state market_state\n",
      "25    2021-01-01 17:00:00  29382.22  29161.43   -0.007543      1      neutral\n",
      "26    2021-01-01 18:00:00  29161.39  29145.76   -0.000537      1      neutral\n",
      "27    2021-01-01 19:00:00  29145.76  29116.99   -0.000988      1      neutral\n",
      "28    2021-01-01 20:00:00  29116.93  29295.98    0.006128      1      neutral\n",
      "29    2021-01-01 21:00:00  29289.62  29253.63   -0.001447      1      neutral\n",
      "...                   ...       ...       ...         ...    ...          ...\n",
      "26991 2024-01-30 11:00:00  43472.51  43526.96    0.001227      0      bearish\n",
      "26992 2024-01-30 12:00:00  43526.95  43394.50   -0.003048      0      bearish\n",
      "26993 2024-01-30 13:00:00  43388.55  43291.84   -0.002369      0      bearish\n",
      "26994 2024-01-30 14:00:00  43290.68  43479.72    0.004330      0      bearish\n",
      "26995 2024-01-30 15:00:00  43479.72  43379.53   -0.002307      0      bearish\n",
      "\n",
      "[26971 rows x 6 columns]\n"
     ]
    },
    {
     "name": "stderr",
     "output_type": "stream",
     "text": [
      "        79 -2650208.61471532      +0.01528466\n",
      "        80 -2650208.60168372      +0.01303160\n",
      "        81 -2650208.59057072      +0.01111301\n",
      "        82 -2650208.58109779      +0.00947293\n"
     ]
    }
   ],
   "source": [
    "bt = Backtest(market_data_fetcher.saved_filepath, MarketRegimeStrategy(market_data_fetcher.saved_filepath, market_data_fetcher.saved_filepath, 0.5, 0.5), 100000, 30, 0.0006)"
   ]
  },
  {
   "cell_type": "markdown",
   "id": "a5f027ba",
   "metadata": {},
   "source": [
    "## Identify the best threshold from heatmap"
   ]
  },
  {
   "cell_type": "code",
   "execution_count": 11,
   "id": "5421a192",
   "metadata": {},
   "outputs": [
    {
     "name": "stdout",
     "output_type": "stream",
     "text": [
      "bullish range:  [0.4  0.45 0.5  0.55 0.6  0.65 0.7 ]\n",
      "bearish range:  [0.3  0.35 0.4  0.45 0.5  0.55 0.6 ]\n",
      "Running with bullish=0.40, bearish=0.30\n",
      "26996\n"
     ]
    },
    {
     "ename": "KeyboardInterrupt",
     "evalue": "",
     "output_type": "error",
     "traceback": [
      "\u001b[1;31m---------------------------------------------------------------------------\u001b[0m",
      "\u001b[1;31mKeyboardInterrupt\u001b[0m                         Traceback (most recent call last)",
      "Cell \u001b[1;32mIn[11], line 1\u001b[0m\n\u001b[1;32m----> 1\u001b[0m \u001b[43mbt\u001b[49m\u001b[38;5;241;43m.\u001b[39;49m\u001b[43mrun_backtest_heatmap\u001b[49m\u001b[43m(\u001b[49m\u001b[43mmetric\u001b[49m\u001b[38;5;241;43m=\u001b[39;49m\u001b[38;5;124;43m'\u001b[39;49m\u001b[38;5;124;43mSharpe Ratio\u001b[39;49m\u001b[38;5;124;43m'\u001b[39;49m\u001b[43m)\u001b[49m\n",
      "File \u001b[1;32mc:\\Users\\JTYAP\\VSCodeProjects\\um-hackathon-budget-gang\\Backtesting\\backtest.py:145\u001b[0m, in \u001b[0;36mBacktest.run_backtest_heatmap\u001b[1;34m(self, bullish_range, bearish_range, metric)\u001b[0m\n\u001b[0;32m    143\u001b[0m \u001b[38;5;28mself\u001b[39m\u001b[38;5;241m.\u001b[39mstrategy\u001b[38;5;241m.\u001b[39mset_thresholds(bullish_threshold\u001b[38;5;241m=\u001b[39mbull, bearish_threshold\u001b[38;5;241m=\u001b[39mbear)\n\u001b[0;32m    144\u001b[0m \u001b[38;5;66;03m# Create a new backtest instance with same settings but new strategy\u001b[39;00m\n\u001b[1;32m--> 145\u001b[0m \u001b[38;5;28;43mself\u001b[39;49m\u001b[38;5;241;43m.\u001b[39;49m\u001b[43mrun\u001b[49m\u001b[43m(\u001b[49m\u001b[43m)\u001b[49m\n\u001b[0;32m    146\u001b[0m performance \u001b[38;5;241m=\u001b[39m \u001b[38;5;28mself\u001b[39m\u001b[38;5;241m.\u001b[39mget_performance_results()\n\u001b[0;32m    147\u001b[0m \u001b[38;5;28mprint\u001b[39m(performance)\n",
      "File \u001b[1;32mc:\\Users\\JTYAP\\VSCodeProjects\\um-hackathon-budget-gang\\Backtesting\\backtest.py:30\u001b[0m, in \u001b[0;36mBacktest.run\u001b[1;34m(self)\u001b[0m\n\u001b[0;32m     28\u001b[0m df \u001b[38;5;241m=\u001b[39m \u001b[38;5;28mself\u001b[39m\u001b[38;5;241m.\u001b[39mdata\u001b[38;5;241m.\u001b[39mcopy()\n\u001b[0;32m     29\u001b[0m df \u001b[38;5;241m=\u001b[39m \u001b[38;5;28mself\u001b[39m\u001b[38;5;241m.\u001b[39mstrategy\u001b[38;5;241m.\u001b[39mset_predict_df(df)\n\u001b[1;32m---> 30\u001b[0m df \u001b[38;5;241m=\u001b[39m \u001b[38;5;28;43mself\u001b[39;49m\u001b[38;5;241;43m.\u001b[39;49m\u001b[43mstrategy\u001b[49m\u001b[38;5;241;43m.\u001b[39;49m\u001b[43mgenerate_signals\u001b[49m\u001b[43m(\u001b[49m\u001b[43m)\u001b[49m\n\u001b[0;32m     31\u001b[0m \u001b[38;5;28mself\u001b[39m\u001b[38;5;241m.\u001b[39msignals \u001b[38;5;241m=\u001b[39m \u001b[38;5;28mself\u001b[39m\u001b[38;5;241m.\u001b[39mstrategy\u001b[38;5;241m.\u001b[39msignals\n\u001b[0;32m     32\u001b[0m equity \u001b[38;5;241m=\u001b[39m \u001b[38;5;28mself\u001b[39m\u001b[38;5;241m.\u001b[39minitial_cash\n",
      "File \u001b[1;32mc:\\Users\\JTYAP\\VSCodeProjects\\um-hackathon-budget-gang\\Backtesting\\strategies\\marketRegimeStrategy.py:20\u001b[0m, in \u001b[0;36mMarketRegimeStrategy.generate_signals\u001b[1;34m(self)\u001b[0m\n\u001b[0;32m     17\u001b[0m processed_df \u001b[38;5;241m=\u001b[39m \u001b[38;5;28mself\u001b[39m\u001b[38;5;241m.\u001b[39mhmmodel\u001b[38;5;241m.\u001b[39mpreprocess_data(\u001b[38;5;28mself\u001b[39m\u001b[38;5;241m.\u001b[39mpredict_df)\n\u001b[0;32m     19\u001b[0m \u001b[38;5;28;01mfor\u001b[39;00m i \u001b[38;5;129;01min\u001b[39;00m \u001b[38;5;28mrange\u001b[39m(\u001b[38;5;28mlen\u001b[39m(processed_df)):\n\u001b[1;32m---> 20\u001b[0m     predicted_probs \u001b[38;5;241m=\u001b[39m \u001b[38;5;28;43mself\u001b[39;49m\u001b[38;5;241;43m.\u001b[39;49m\u001b[43mhmmodel\u001b[49m\u001b[38;5;241;43m.\u001b[39;49m\u001b[43mpredict_probabilities\u001b[49m\u001b[43m(\u001b[49m\u001b[43mprocessed_df\u001b[49m\u001b[43m,\u001b[49m\u001b[43m \u001b[49m\u001b[43mi\u001b[49m\u001b[43m)\u001b[49m  \n\u001b[0;32m     21\u001b[0m     prob_bullish \u001b[38;5;241m=\u001b[39m predicted_probs\u001b[38;5;241m.\u001b[39mget(\u001b[38;5;124m'\u001b[39m\u001b[38;5;124mbullish\u001b[39m\u001b[38;5;124m'\u001b[39m, \u001b[38;5;241m0\u001b[39m)\n\u001b[0;32m     22\u001b[0m     prob_bearish \u001b[38;5;241m=\u001b[39m predicted_probs\u001b[38;5;241m.\u001b[39mget(\u001b[38;5;124m'\u001b[39m\u001b[38;5;124mbearish\u001b[39m\u001b[38;5;124m'\u001b[39m, \u001b[38;5;241m0\u001b[39m)\n",
      "File \u001b[1;32mc:\\Users\\JTYAP\\VSCodeProjects\\um-hackathon-budget-gang\\Backtesting\\models\\hmm.py:153\u001b[0m, in \u001b[0;36mHMM.predict_probabilities\u001b[1;34m(self, df, i)\u001b[0m\n\u001b[0;32m    152\u001b[0m \u001b[38;5;28;01mdef\u001b[39;00m\u001b[38;5;250m \u001b[39m\u001b[38;5;21mpredict_probabilities\u001b[39m(\u001b[38;5;28mself\u001b[39m, df, i):\n\u001b[1;32m--> 153\u001b[0m     posterior_probs \u001b[38;5;241m=\u001b[39m \u001b[38;5;28;43mself\u001b[39;49m\u001b[38;5;241;43m.\u001b[39;49m\u001b[43mmodel\u001b[49m\u001b[38;5;241;43m.\u001b[39;49m\u001b[43mpredict_proba\u001b[49m\u001b[43m(\u001b[49m\u001b[43mdf\u001b[49m\u001b[43m[\u001b[49m\u001b[38;5;28;43mself\u001b[39;49m\u001b[38;5;241;43m.\u001b[39;49m\u001b[43mfeatures\u001b[49m\u001b[43m]\u001b[49m\u001b[38;5;241;43m.\u001b[39;49m\u001b[43mvalues\u001b[49m\u001b[43m  \u001b[49m\u001b[43m)\u001b[49m\n\u001b[0;32m    155\u001b[0m     \u001b[38;5;66;03m# Get the probabilities for time step i\u001b[39;00m\n\u001b[0;32m    156\u001b[0m     \u001b[38;5;28;01mif\u001b[39;00m i \u001b[38;5;241m<\u001b[39m \u001b[38;5;28mlen\u001b[39m(posterior_probs):\n",
      "File \u001b[1;32mc:\\Users\\JTYAP\\AppData\\Local\\Programs\\Python\\Python310\\lib\\site-packages\\hmmlearn\\base.py:395\u001b[0m, in \u001b[0;36m_AbstractHMM.predict_proba\u001b[1;34m(self, X, lengths)\u001b[0m\n\u001b[0;32m    378\u001b[0m \u001b[38;5;28;01mdef\u001b[39;00m\u001b[38;5;250m \u001b[39m\u001b[38;5;21mpredict_proba\u001b[39m(\u001b[38;5;28mself\u001b[39m, X, lengths\u001b[38;5;241m=\u001b[39m\u001b[38;5;28;01mNone\u001b[39;00m):\n\u001b[0;32m    379\u001b[0m \u001b[38;5;250m    \u001b[39m\u001b[38;5;124;03m\"\"\"\u001b[39;00m\n\u001b[0;32m    380\u001b[0m \u001b[38;5;124;03m    Compute the posterior probability for each state in the model.\u001b[39;00m\n\u001b[0;32m    381\u001b[0m \n\u001b[1;32m   (...)\u001b[0m\n\u001b[0;32m    393\u001b[0m \u001b[38;5;124;03m        State-membership probabilities for each sample from ``X``.\u001b[39;00m\n\u001b[0;32m    394\u001b[0m \u001b[38;5;124;03m    \"\"\"\u001b[39;00m\n\u001b[1;32m--> 395\u001b[0m     _, posteriors \u001b[38;5;241m=\u001b[39m \u001b[38;5;28;43mself\u001b[39;49m\u001b[38;5;241;43m.\u001b[39;49m\u001b[43mscore_samples\u001b[49m\u001b[43m(\u001b[49m\u001b[43mX\u001b[49m\u001b[43m,\u001b[49m\u001b[43m \u001b[49m\u001b[43mlengths\u001b[49m\u001b[43m)\u001b[49m\n\u001b[0;32m    396\u001b[0m     \u001b[38;5;28;01mreturn\u001b[39;00m posteriors\n",
      "File \u001b[1;32mc:\\Users\\JTYAP\\AppData\\Local\\Programs\\Python\\Python310\\lib\\site-packages\\hmmlearn\\base.py:207\u001b[0m, in \u001b[0;36m_AbstractHMM.score_samples\u001b[1;34m(self, X, lengths)\u001b[0m\n\u001b[0;32m    183\u001b[0m \u001b[38;5;28;01mdef\u001b[39;00m\u001b[38;5;250m \u001b[39m\u001b[38;5;21mscore_samples\u001b[39m(\u001b[38;5;28mself\u001b[39m, X, lengths\u001b[38;5;241m=\u001b[39m\u001b[38;5;28;01mNone\u001b[39;00m):\n\u001b[0;32m    184\u001b[0m \u001b[38;5;250m    \u001b[39m\u001b[38;5;124;03m\"\"\"\u001b[39;00m\n\u001b[0;32m    185\u001b[0m \u001b[38;5;124;03m    Compute the log probability under the model and compute posteriors.\u001b[39;00m\n\u001b[0;32m    186\u001b[0m \n\u001b[1;32m   (...)\u001b[0m\n\u001b[0;32m    205\u001b[0m \u001b[38;5;124;03m    decode : Find most likely state sequence corresponding to ``X``.\u001b[39;00m\n\u001b[0;32m    206\u001b[0m \u001b[38;5;124;03m    \"\"\"\u001b[39;00m\n\u001b[1;32m--> 207\u001b[0m     \u001b[38;5;28;01mreturn\u001b[39;00m \u001b[38;5;28;43mself\u001b[39;49m\u001b[38;5;241;43m.\u001b[39;49m\u001b[43m_score\u001b[49m\u001b[43m(\u001b[49m\u001b[43mX\u001b[49m\u001b[43m,\u001b[49m\u001b[43m \u001b[49m\u001b[43mlengths\u001b[49m\u001b[43m,\u001b[49m\u001b[43m \u001b[49m\u001b[43mcompute_posteriors\u001b[49m\u001b[38;5;241;43m=\u001b[39;49m\u001b[38;5;28;43;01mTrue\u001b[39;49;00m\u001b[43m)\u001b[49m\n",
      "File \u001b[1;32mc:\\Users\\JTYAP\\AppData\\Local\\Programs\\Python\\Python310\\lib\\site-packages\\hmmlearn\\base.py:245\u001b[0m, in \u001b[0;36m_AbstractHMM._score\u001b[1;34m(self, X, lengths, compute_posteriors)\u001b[0m\n\u001b[0;32m    242\u001b[0m check_is_fitted(\u001b[38;5;28mself\u001b[39m, \u001b[38;5;124m\"\u001b[39m\u001b[38;5;124mstartprob_\u001b[39m\u001b[38;5;124m\"\u001b[39m)\n\u001b[0;32m    243\u001b[0m \u001b[38;5;28mself\u001b[39m\u001b[38;5;241m.\u001b[39m_check()\n\u001b[1;32m--> 245\u001b[0m X \u001b[38;5;241m=\u001b[39m \u001b[43mcheck_array\u001b[49m\u001b[43m(\u001b[49m\u001b[43mX\u001b[49m\u001b[43m)\u001b[49m\n\u001b[0;32m    246\u001b[0m impl \u001b[38;5;241m=\u001b[39m {\n\u001b[0;32m    247\u001b[0m     \u001b[38;5;124m\"\u001b[39m\u001b[38;5;124mscaling\u001b[39m\u001b[38;5;124m\"\u001b[39m: \u001b[38;5;28mself\u001b[39m\u001b[38;5;241m.\u001b[39m_score_scaling,\n\u001b[0;32m    248\u001b[0m     \u001b[38;5;124m\"\u001b[39m\u001b[38;5;124mlog\u001b[39m\u001b[38;5;124m\"\u001b[39m: \u001b[38;5;28mself\u001b[39m\u001b[38;5;241m.\u001b[39m_score_log,\n\u001b[0;32m    249\u001b[0m }[\u001b[38;5;28mself\u001b[39m\u001b[38;5;241m.\u001b[39mimplementation]\n\u001b[0;32m    250\u001b[0m \u001b[38;5;28;01mreturn\u001b[39;00m impl(\n\u001b[0;32m    251\u001b[0m     X\u001b[38;5;241m=\u001b[39mX, lengths\u001b[38;5;241m=\u001b[39mlengths, compute_posteriors\u001b[38;5;241m=\u001b[39mcompute_posteriors)\n",
      "File \u001b[1;32mc:\\Users\\JTYAP\\AppData\\Local\\Programs\\Python\\Python310\\lib\\site-packages\\sklearn\\utils\\validation.py:1107\u001b[0m, in \u001b[0;36mcheck_array\u001b[1;34m(array, accept_sparse, accept_large_sparse, dtype, order, copy, force_writeable, force_all_finite, ensure_all_finite, ensure_non_negative, ensure_2d, allow_nd, ensure_min_samples, ensure_min_features, estimator, input_name)\u001b[0m\n\u001b[0;32m   1101\u001b[0m     \u001b[38;5;28;01mraise\u001b[39;00m \u001b[38;5;167;01mValueError\u001b[39;00m(\n\u001b[0;32m   1102\u001b[0m         \u001b[38;5;124m\"\u001b[39m\u001b[38;5;124mFound array with dim \u001b[39m\u001b[38;5;132;01m%d\u001b[39;00m\u001b[38;5;124m. \u001b[39m\u001b[38;5;132;01m%s\u001b[39;00m\u001b[38;5;124m expected <= 2.\u001b[39m\u001b[38;5;124m\"\u001b[39m\n\u001b[0;32m   1103\u001b[0m         \u001b[38;5;241m%\u001b[39m (array\u001b[38;5;241m.\u001b[39mndim, estimator_name)\n\u001b[0;32m   1104\u001b[0m     )\n\u001b[0;32m   1106\u001b[0m \u001b[38;5;28;01mif\u001b[39;00m ensure_all_finite:\n\u001b[1;32m-> 1107\u001b[0m     \u001b[43m_assert_all_finite\u001b[49m\u001b[43m(\u001b[49m\n\u001b[0;32m   1108\u001b[0m \u001b[43m        \u001b[49m\u001b[43marray\u001b[49m\u001b[43m,\u001b[49m\n\u001b[0;32m   1109\u001b[0m \u001b[43m        \u001b[49m\u001b[43minput_name\u001b[49m\u001b[38;5;241;43m=\u001b[39;49m\u001b[43minput_name\u001b[49m\u001b[43m,\u001b[49m\n\u001b[0;32m   1110\u001b[0m \u001b[43m        \u001b[49m\u001b[43mestimator_name\u001b[49m\u001b[38;5;241;43m=\u001b[39;49m\u001b[43mestimator_name\u001b[49m\u001b[43m,\u001b[49m\n\u001b[0;32m   1111\u001b[0m \u001b[43m        \u001b[49m\u001b[43mallow_nan\u001b[49m\u001b[38;5;241;43m=\u001b[39;49m\u001b[43mensure_all_finite\u001b[49m\u001b[43m \u001b[49m\u001b[38;5;241;43m==\u001b[39;49m\u001b[43m \u001b[49m\u001b[38;5;124;43m\"\u001b[39;49m\u001b[38;5;124;43mallow-nan\u001b[39;49m\u001b[38;5;124;43m\"\u001b[39;49m\u001b[43m,\u001b[49m\n\u001b[0;32m   1112\u001b[0m \u001b[43m    \u001b[49m\u001b[43m)\u001b[49m\n\u001b[0;32m   1114\u001b[0m \u001b[38;5;28;01mif\u001b[39;00m copy:\n\u001b[0;32m   1115\u001b[0m     \u001b[38;5;28;01mif\u001b[39;00m _is_numpy_namespace(xp):\n\u001b[0;32m   1116\u001b[0m         \u001b[38;5;66;03m# only make a copy if `array` and `array_orig` may share memory`\u001b[39;00m\n",
      "File \u001b[1;32mc:\\Users\\JTYAP\\AppData\\Local\\Programs\\Python\\Python310\\lib\\site-packages\\sklearn\\utils\\validation.py:116\u001b[0m, in \u001b[0;36m_assert_all_finite\u001b[1;34m(X, allow_nan, msg_dtype, estimator_name, input_name)\u001b[0m\n\u001b[0;32m    111\u001b[0m \u001b[38;5;66;03m# First try an O(n) time, O(1) space solution for the common case that\u001b[39;00m\n\u001b[0;32m    112\u001b[0m \u001b[38;5;66;03m# everything is finite; fall back to O(n) space `np.isinf/isnan` or custom\u001b[39;00m\n\u001b[0;32m    113\u001b[0m \u001b[38;5;66;03m# Cython implementation to prevent false positives and provide a detailed\u001b[39;00m\n\u001b[0;32m    114\u001b[0m \u001b[38;5;66;03m# error message.\u001b[39;00m\n\u001b[0;32m    115\u001b[0m \u001b[38;5;28;01mwith\u001b[39;00m np\u001b[38;5;241m.\u001b[39merrstate(over\u001b[38;5;241m=\u001b[39m\u001b[38;5;124m\"\u001b[39m\u001b[38;5;124mignore\u001b[39m\u001b[38;5;124m\"\u001b[39m):\n\u001b[1;32m--> 116\u001b[0m     first_pass_isfinite \u001b[38;5;241m=\u001b[39m xp\u001b[38;5;241m.\u001b[39misfinite(\u001b[43mxp\u001b[49m\u001b[38;5;241;43m.\u001b[39;49m\u001b[43msum\u001b[49m\u001b[43m(\u001b[49m\u001b[43mX\u001b[49m\u001b[43m)\u001b[49m)\n\u001b[0;32m    117\u001b[0m \u001b[38;5;28;01mif\u001b[39;00m first_pass_isfinite:\n\u001b[0;32m    118\u001b[0m     \u001b[38;5;28;01mreturn\u001b[39;00m\n",
      "File \u001b[1;32mc:\\Users\\JTYAP\\AppData\\Local\\Programs\\Python\\Python310\\lib\\site-packages\\numpy\\_core\\fromnumeric.py:2485\u001b[0m, in \u001b[0;36msum\u001b[1;34m(a, axis, dtype, out, keepdims, initial, where)\u001b[0m\n\u001b[0;32m   2482\u001b[0m         \u001b[38;5;28;01mreturn\u001b[39;00m out\n\u001b[0;32m   2483\u001b[0m     \u001b[38;5;28;01mreturn\u001b[39;00m res\n\u001b[1;32m-> 2485\u001b[0m \u001b[38;5;28;01mreturn\u001b[39;00m \u001b[43m_wrapreduction\u001b[49m\u001b[43m(\u001b[49m\n\u001b[0;32m   2486\u001b[0m \u001b[43m    \u001b[49m\u001b[43ma\u001b[49m\u001b[43m,\u001b[49m\u001b[43m \u001b[49m\u001b[43mnp\u001b[49m\u001b[38;5;241;43m.\u001b[39;49m\u001b[43madd\u001b[49m\u001b[43m,\u001b[49m\u001b[43m \u001b[49m\u001b[38;5;124;43m'\u001b[39;49m\u001b[38;5;124;43msum\u001b[39;49m\u001b[38;5;124;43m'\u001b[39;49m\u001b[43m,\u001b[49m\u001b[43m \u001b[49m\u001b[43maxis\u001b[49m\u001b[43m,\u001b[49m\u001b[43m \u001b[49m\u001b[43mdtype\u001b[49m\u001b[43m,\u001b[49m\u001b[43m \u001b[49m\u001b[43mout\u001b[49m\u001b[43m,\u001b[49m\n\u001b[0;32m   2487\u001b[0m \u001b[43m    \u001b[49m\u001b[43mkeepdims\u001b[49m\u001b[38;5;241;43m=\u001b[39;49m\u001b[43mkeepdims\u001b[49m\u001b[43m,\u001b[49m\u001b[43m \u001b[49m\u001b[43minitial\u001b[49m\u001b[38;5;241;43m=\u001b[39;49m\u001b[43minitial\u001b[49m\u001b[43m,\u001b[49m\u001b[43m \u001b[49m\u001b[43mwhere\u001b[49m\u001b[38;5;241;43m=\u001b[39;49m\u001b[43mwhere\u001b[49m\n\u001b[0;32m   2488\u001b[0m \u001b[43m\u001b[49m\u001b[43m)\u001b[49m\n",
      "File \u001b[1;32mc:\\Users\\JTYAP\\AppData\\Local\\Programs\\Python\\Python310\\lib\\site-packages\\numpy\\_core\\fromnumeric.py:86\u001b[0m, in \u001b[0;36m_wrapreduction\u001b[1;34m(obj, ufunc, method, axis, dtype, out, **kwargs)\u001b[0m\n\u001b[0;32m     83\u001b[0m         \u001b[38;5;28;01melse\u001b[39;00m:\n\u001b[0;32m     84\u001b[0m             \u001b[38;5;28;01mreturn\u001b[39;00m reduction(axis\u001b[38;5;241m=\u001b[39maxis, out\u001b[38;5;241m=\u001b[39mout, \u001b[38;5;241m*\u001b[39m\u001b[38;5;241m*\u001b[39mpasskwargs)\n\u001b[1;32m---> 86\u001b[0m \u001b[38;5;28;01mreturn\u001b[39;00m ufunc\u001b[38;5;241m.\u001b[39mreduce(obj, axis, dtype, out, \u001b[38;5;241m*\u001b[39m\u001b[38;5;241m*\u001b[39mpasskwargs)\n",
      "\u001b[1;31mKeyboardInterrupt\u001b[0m: "
     ]
    }
   ],
   "source": [
    "bt.run_backtest_heatmap(metric='Sharpe Ratio')\n"
   ]
  },
  {
   "cell_type": "markdown",
   "id": "5af9c339",
   "metadata": {},
   "source": [
    "## Perform Forward Testing Using The Best Threshold"
   ]
  },
  {
   "cell_type": "markdown",
   "id": "667bd064",
   "metadata": {},
   "source": [
    "### Fetch / Load Foward Dataset"
   ]
  },
  {
   "cell_type": "code",
   "execution_count": null,
   "id": "ba9e87c1",
   "metadata": {},
   "outputs": [],
   "source": [
    "\n",
    "ft_start_time = int(datetime(2025, 3, 1).timestamp() * 1000)\n",
    "ft_end_time = int(datetime(2025, 4, 1, 23, 59).timestamp() * 1000)\n"
   ]
  },
  {
   "cell_type": "code",
   "execution_count": null,
   "id": "41506cb3",
   "metadata": {},
   "outputs": [
    {
     "name": "stdout",
     "output_type": "stream",
     "text": [
      "Fetching 1h data for BTC-USD from 2025-02-28 16:00:00 to 2025-04-01 15:59:00...\n",
      "✅ Retrieved 1000 candles. Total: 1000\n",
      "💾 Saved to datasets/BTC-USD_1h_Training data_1744358400000_to_1743523140000.csv with 1000 rows.\n",
      "                         open      high       low     close      volume\n",
      "timestamp                                                              \n",
      "2025-04-11 03:00:00  80254.20  80868.22  80245.70  80801.48  218.720728\n",
      "2025-04-11 04:00:00  80801.48  81060.99  80676.45  80842.85  237.797444\n",
      "2025-04-11 05:00:00  80840.66  80870.76  80462.64  80774.42  194.938546\n",
      "2025-04-11 06:00:00  80774.43  81268.16  80774.43  81056.21  146.487724\n",
      "2025-04-11 07:00:00  81057.09  81396.94  80796.09  81224.99  151.087371\n"
     ]
    }
   ],
   "source": [
    "market_data_fetcher = CoinbaseFetcher(API_KEY, MARKET_DATA_BASE_URL, SYMBOL, LIMIT)\n",
    "market_data_fetcher.fetch(ft_start_time, ft_end_time, INTERVAL)\n",
    "\n"
   ]
  },
  {
   "cell_type": "code",
   "execution_count": null,
   "id": "1e17a683",
   "metadata": {},
   "outputs": [
    {
     "name": "stderr",
     "output_type": "stream",
     "text": [
      "         1  -99861.15453792             +nan\n",
      "         2  -94539.40969463   +5321.74484329\n",
      "         3  -93615.12880254    +924.28089209\n",
      "         4  -91311.80000358   +2303.32879896\n",
      "         5  -90397.92270747    +913.87729611\n",
      "         6  -90341.76657683     +56.15613064\n",
      "         7  -90330.35672943     +11.40984740\n",
      "         8  -90326.90277480      +3.45395462\n",
      "         9  -90321.63029984      +5.27247496\n",
      "        10  -90292.91294995     +28.71734989\n",
      "        11  -90286.56752197      +6.34542799\n",
      "        12  -90282.58502893      +3.98249304\n",
      "        13  -90281.48543210      +1.09959683\n",
      "        14  -90281.31756847      +0.16786363\n",
      "        15  -90281.19050546      +0.12706301\n",
      "        16  -90281.05420314      +0.13630233\n",
      "        17  -90280.91686483      +0.13733830\n",
      "        18  -90280.71285253      +0.20401230\n",
      "        19  -90280.32182658      +0.39102595\n",
      "        20  -90279.95265334      +0.36917324\n",
      "        21  -90280.01455794      -0.06190461\n",
      "Model is not converging.  Current: -90280.01455794461 is not greater than -90279.95265333758. Delta is -0.061904607035103254\n"
     ]
    },
    {
     "name": "stdout",
     "output_type": "stream",
     "text": [
      "Converged: True\n",
      "Final log likelihood: -90280.01455794461\n",
      "State Labels: {2: 'bullish', 1: 'bearish', 0: 'neutral'}\n",
      "              timestamp      open     close  log_return  state market_state\n",
      "25  2025-03-01 17:00:00  85225.41  85164.06   -0.000720      2      bullish\n",
      "26  2025-03-01 18:00:00  85164.05  85269.34    0.001235      2      bullish\n",
      "27  2025-03-01 19:00:00  85270.24  85438.94    0.001987      2      bullish\n",
      "28  2025-03-01 20:00:00  85441.88  85501.54    0.000732      2      bullish\n",
      "29  2025-03-01 21:00:00  85501.53  86039.19    0.006269      2      bullish\n",
      "..                  ...       ...       ...         ...    ...          ...\n",
      "995 2025-04-11 03:00:00  80254.20  80801.48    0.006796      0      neutral\n",
      "996 2025-04-11 04:00:00  80801.48  80842.85    0.000512      0      neutral\n",
      "997 2025-04-11 05:00:00  80840.66  80774.42   -0.000847      0      neutral\n",
      "998 2025-04-11 06:00:00  80774.43  81056.21    0.003483      0      neutral\n",
      "999 2025-04-11 07:00:00  81057.09  81224.99    0.002080      0      neutral\n",
      "\n",
      "[975 rows x 6 columns]\n"
     ]
    }
   ],
   "source": [
    "bt.set_data(market_data_fetcher.saved_filepath)\n",
    "bt.set_strategy(MarketRegimeStrategy(market_data_fetcher.saved_filepath, market_data_fetcher.saved_filepath, bullish_threshold=0.7, bearish_threshold=0.3))"
   ]
  },
  {
   "cell_type": "code",
   "execution_count": null,
   "id": "fcc7cef0",
   "metadata": {},
   "outputs": [
    {
     "name": "stdout",
     "output_type": "stream",
     "text": [
      "1000\n"
     ]
    }
   ],
   "source": [
    "bt.run()"
   ]
  },
  {
   "cell_type": "code",
   "execution_count": null,
   "id": "ff767422",
   "metadata": {},
   "outputs": [
    {
     "name": "stdout",
     "output_type": "stream",
     "text": [
      "Start Trade Date: 2025-02-28 16:00:00\n",
      "End Trade Date: 2025-04-11 07:00:00\n",
      "Final Portfolio Value: 101147.08327600008\n",
      "Total Return (%): 1.1470832760000775\n",
      "Number of Trades: 34\n",
      "Win Rate (%): 0.0\n",
      "Max Drawdown (%): -2.19\n",
      "Sharpe Ratio: -0.96\n"
     ]
    }
   ],
   "source": [
    "performance = bt.get_performance_results()\n",
    "\n",
    "for key, value in performance.items():\n",
    "    print(f\"{key}: {value}\")"
   ]
  },
  {
   "cell_type": "code",
   "execution_count": null,
   "id": "5af9c339",
   "metadata": {},
   "outputs": [
    {
     "name": "stdout",
     "output_type": "stream",
     "text": [
      "Trade logs saved to backtest_trade_logs.csv\n"
     ]
    }
   ],
   "source": [
    "bt.get_trade_logs_csv()"
   ]
  }
 ],
 "metadata": {
  "kernelspec": {
   "display_name": "Python 3",
   "language": "python",
   "name": "python3"
  },
  "language_info": {
   "codemirror_mode": {
    "name": "ipython",
    "version": 3
   },
   "file_extension": ".py",
   "mimetype": "text/x-python",
   "name": "python",
   "nbconvert_exporter": "python",
   "pygments_lexer": "ipython3",
   "version": "3.10.11"
  }
 },
 "nbformat": 4,
 "nbformat_minor": 5
}
