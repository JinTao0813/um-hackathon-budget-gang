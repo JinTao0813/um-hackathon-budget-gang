{
 "cells": [
  {
   "cell_type": "markdown",
   "id": "d767f83b",
   "metadata": {},
   "source": [
    "## Install modules to environment"
   ]
  },
  {
   "cell_type": "code",
   "execution_count": 1,
   "id": "f955709c",
   "metadata": {},
   "outputs": [
    {
     "name": "stdout",
     "output_type": "stream",
     "text": [
      "Requirement already satisfied: pandas in /opt/anaconda3/lib/python3.11/site-packages (2.1.4)\n",
      "Requirement already satisfied: numpy in /opt/anaconda3/lib/python3.11/site-packages (1.26.4)\n",
      "Requirement already satisfied: requests in /opt/anaconda3/lib/python3.11/site-packages (2.31.0)\n",
      "Requirement already satisfied: importlib in /opt/anaconda3/lib/python3.11/site-packages (1.0.4)\n",
      "Requirement already satisfied: python-dateutil>=2.8.2 in /opt/anaconda3/lib/python3.11/site-packages (from pandas) (2.8.2)\n",
      "Requirement already satisfied: pytz>=2020.1 in /opt/anaconda3/lib/python3.11/site-packages (from pandas) (2023.3.post1)\n",
      "Requirement already satisfied: tzdata>=2022.1 in /opt/anaconda3/lib/python3.11/site-packages (from pandas) (2023.3)\n",
      "Requirement already satisfied: charset-normalizer<4,>=2 in /opt/anaconda3/lib/python3.11/site-packages (from requests) (2.0.4)\n",
      "Requirement already satisfied: idna<4,>=2.5 in /opt/anaconda3/lib/python3.11/site-packages (from requests) (3.4)\n",
      "Requirement already satisfied: urllib3<3,>=1.21.1 in /opt/anaconda3/lib/python3.11/site-packages (from requests) (2.0.7)\n",
      "Requirement already satisfied: certifi>=2017.4.17 in /opt/anaconda3/lib/python3.11/site-packages (from requests) (2024.12.14)\n",
      "Requirement already satisfied: six>=1.5 in /opt/anaconda3/lib/python3.11/site-packages (from python-dateutil>=2.8.2->pandas) (1.16.0)\n",
      "Note: you may need to restart the kernel to use updated packages.\n"
     ]
    }
   ],
   "source": [
    "%pip install pandas numpy requests importlib"
   ]
  },
  {
   "cell_type": "markdown",
   "id": "5137dcce",
   "metadata": {},
   "source": [
    "## Import modules"
   ]
  },
  {
   "cell_type": "code",
   "execution_count": 2,
   "id": "8d6e0611",
   "metadata": {},
   "outputs": [],
   "source": [
    "from Backtesting.dataFetchers.marketDataFetchers import MarketDataFetcher\n",
    "from Backtesting.dataFetchers.onChainMetricsFetchers import OnChainMetricsFetcher\n",
    "from Backtesting.backtest import Backtest\n",
    "from Backtesting.strategies.hmmStrategy import HMMStrategy\n",
    "\n",
    "import pandas as pd\n",
    "import numpy as np\n",
    "from datetime import datetime\n",
    "\n"
   ]
  },
  {
   "cell_type": "markdown",
   "id": "dac0535b",
   "metadata": {},
   "source": [
    "## Fetch Data"
   ]
  },
  {
   "cell_type": "markdown",
   "id": "b66e005f",
   "metadata": {},
   "source": [
    "Input API key and desired interval and window"
   ]
  },
  {
   "cell_type": "code",
   "execution_count": 3,
   "id": "a1dc5a33",
   "metadata": {},
   "outputs": [],
   "source": [
    "API_KEY = \"GlYxSZP9hnooNl6gGAjtkptkeqehSnk5C60Akhpw5zupBK6O\"\n",
    "LIMIT = 1000\n"
   ]
  },
  {
   "cell_type": "markdown",
   "id": "03697dc9",
   "metadata": {},
   "source": [
    "### Market Data"
   ]
  },
  {
   "cell_type": "code",
   "execution_count": 4,
   "id": "0e391637",
   "metadata": {},
   "outputs": [],
   "source": [
    "MARKET_DATA_BASE_URL = \"https://api.datasource.cybotrade.rs/coinbase/candle\"\n",
    "\n",
    "SYMBOL = \"BTC-USD\" # Can be any symbol available on Coinbase\n",
    "INTERVAL = \"1h\" # Can be any interval such as \"1d\", \"1h\", \"15m\", etc."
   ]
  },
  {
   "cell_type": "code",
   "execution_count": 5,
   "id": "bb7a99db",
   "metadata": {},
   "outputs": [],
   "source": [
    "# start_time = int(datetime(2023, 1, 1).timestamp() * 1000)\n",
    "# end_time = int(datetime(2024, 12, 31, 23, 59).timestamp() * 1000)\n",
    "\n",
    "bt_start_time = int(datetime(2023, 4, 1).timestamp() * 1000)\n",
    "bt_end_time = int(datetime(2024, 3, 31, 23, 59).timestamp() * 1000)\n"
   ]
  },
  {
   "cell_type": "code",
   "execution_count": 6,
   "id": "b23e8d70",
   "metadata": {},
   "outputs": [
    {
     "name": "stdout",
     "output_type": "stream",
     "text": [
      "Fetching 1h data for BTC-USD from 2023-03-31 16:00:00 to 2024-03-31 15:59:00...\n",
      "✅ Retrieved 1000 candles. Total: 1000\n",
      "✅ Retrieved 1000 candles. Total: 1000\n",
      "✅ Retrieved 1000 candles. Total: 1000\n",
      "✅ Retrieved 1000 candles. Total: 1000\n",
      "✅ Retrieved 1000 candles. Total: 1000\n",
      "✅ Retrieved 1000 candles. Total: 1000\n",
      "✅ Retrieved 1000 candles. Total: 1000\n",
      "✅ Retrieved 1000 candles. Total: 1000\n",
      "✅ Retrieved 1000 candles. Total: 1000\n",
      "💾 Saved to datasets/BTC-USD_1h_Training data_1712678400000_to_1711900740000.csv with 9000 rows.\n",
      "                         open      high       low     close       volume\n",
      "timestamp                                                               \n",
      "2024-04-09 11:00:00  70571.83  70909.01  70571.81  70794.18   467.688822\n",
      "2024-04-09 12:00:00  70794.17  70964.32  70637.48  70683.96   344.272836\n",
      "2024-04-09 13:00:00  70680.73  70946.26  69917.12  69935.22   770.713309\n",
      "2024-04-09 14:00:00  69931.94  70438.43  68618.76  69349.96  2046.780511\n",
      "2024-04-09 15:00:00  69350.51  69352.55  68516.00  69244.00  1432.311949\n"
     ]
    }
   ],
   "source": [
    "market_data_fetcher = MarketDataFetcher(API_KEY, MARKET_DATA_BASE_URL, SYMBOL, LIMIT)\n",
    "market_data_fetcher.fetch(bt_start_time, bt_end_time, INTERVAL)\n",
    "\n"
   ]
  },
  {
   "cell_type": "markdown",
   "id": "4e998221",
   "metadata": {},
   "source": [
    "### On Chain Metrics Data (TBU)"
   ]
  },
  {
   "cell_type": "code",
   "execution_count": 7,
   "id": "65b728d6",
   "metadata": {},
   "outputs": [],
   "source": [
    "# METRICS_DATA_BASE_URL = \"https://api.datasource.cybotrade.rs/cryptoquant\"\n",
    "\n",
    "# CURRENCY = \"btc\" # Can be any symbol available on CryptoQuant\n",
    "# WINDOW = \"hour\" # Can be any window such as \"day\", \"hour\", \"block\", etc\n"
   ]
  },
  {
   "cell_type": "code",
   "execution_count": 8,
   "id": "fe69a656",
   "metadata": {},
   "outputs": [],
   "source": [
    "# on_chain_fetcher = Backtest.OnChainMetricsFetcher(API_KEY, METRICS_DATA_BASE_URL, CURRENCY, INTERVAL, LIMIT)\n",
    "# on_chain_fetcher.fetch(start_time, end_time)"
   ]
  },
  {
   "cell_type": "markdown",
   "id": "ae7fb549",
   "metadata": {},
   "source": [
    "## Perform Backtesting"
   ]
  },
  {
   "cell_type": "code",
   "execution_count": 9,
   "id": "337fadc7",
   "metadata": {},
   "outputs": [
    {
     "name": "stderr",
     "output_type": "stream",
     "text": [
      "         1 -965354.52657743             +nan\n",
      "         2 -841937.03603302 +123417.49054441\n",
      "         3 -826862.08199234  +15074.95404068\n",
      "         4 -823755.33222147   +3106.74977087\n",
      "         5 -823738.62186988     +16.71035159\n",
      "         6 -823736.61477797      +2.00709191\n",
      "         7 -823734.96843398      +1.64634399\n",
      "         8 -823732.08423584      +2.88419814\n",
      "         9 -823726.93099104      +5.15324481\n",
      "        10 -823715.10569443     +11.82529661\n",
      "        11 -823701.00580043     +14.09989400\n",
      "        12 -823694.57650708      +6.42929335\n",
      "        13 -823691.60966414      +2.96684295\n",
      "        14 -823689.46327646      +2.14638768\n",
      "        15 -823687.12082744      +2.34244902\n",
      "        16 -823683.76443219      +3.35639525\n",
      "        17 -823678.49484298      +5.26958921\n",
      "        18 -823671.07828680      +7.41655618\n",
      "        19 -823659.91085668     +11.16743013\n",
      "        20 -823641.74783256     +18.16302412\n",
      "        21 -823618.78709190     +22.96074066\n",
      "        22 -823597.89555171     +20.89154019\n",
      "        23 -823571.56568104     +26.32987067\n",
      "        24 -823530.82149358     +40.74418746\n",
      "        25 -823422.07121475    +108.75027883\n",
      "        26 -823050.84300691    +371.22820784\n",
      "        27 -822286.54218747    +764.30081944\n",
      "        28 -821590.20512814    +696.33705933\n"
     ]
    },
    {
     "name": "stdout",
     "output_type": "stream",
     "text": [
      "Converged: True\n",
      "Final log likelihood: -821010.1034759842\n",
      "State Labels: {1: 'bullish', 0: 'bearish', 2: 'neutral'}\n",
      "               timestamp      open     close  log_return  state market_state\n",
      "25   2023-04-01 17:00:00  28340.73  28389.24    0.001706      0      bearish\n",
      "26   2023-04-01 18:00:00  28388.22  28389.88    0.000023      0      bearish\n",
      "27   2023-04-01 19:00:00  28389.88  28397.64    0.000273      0      bearish\n",
      "28   2023-04-01 20:00:00  28395.05  28457.26    0.002097      0      bearish\n",
      "29   2023-04-01 21:00:00  28459.73  28495.29    0.001335      0      bearish\n",
      "...                  ...       ...       ...         ...    ...          ...\n",
      "8995 2024-04-09 11:00:00  70571.83  70794.18    0.003129      1      bullish\n",
      "8996 2024-04-09 12:00:00  70794.17  70683.96   -0.001558      1      bullish\n",
      "8997 2024-04-09 13:00:00  70680.73  69935.22   -0.010649      1      bullish\n",
      "8998 2024-04-09 14:00:00  69931.94  69349.96   -0.008404      1      bullish\n",
      "8999 2024-04-09 15:00:00  69350.51  69244.00   -0.001529      1      bullish\n",
      "\n",
      "[8975 rows x 6 columns]\n"
     ]
    },
    {
     "name": "stderr",
     "output_type": "stream",
     "text": [
      "        29 -821253.15251745    +337.05261069\n",
      "        30 -821127.07601678    +126.07650067\n",
      "        31 -821066.97460194     +60.10141484\n",
      "        32 -821037.74766214     +29.22693980\n",
      "        33 -821023.13367649     +14.61398565\n",
      "        34 -821016.23427865      +6.89939784\n",
      "        35 -821013.06418983      +3.17008883\n",
      "        36 -821011.56432177      +1.49986806\n",
      "        37 -821010.83237257      +0.73194920\n",
      "        38 -821010.46819220      +0.36418036\n",
      "        39 -821010.28505104      +0.18314117\n",
      "        40 -821010.19245100      +0.09260004\n",
      "        41 -821010.14551273      +0.04693827\n",
      "        42 -821010.12169676      +0.02381597\n",
      "        43 -821010.10960973      +0.01208703\n",
      "        44 -821010.10347598      +0.00613374\n"
     ]
    }
   ],
   "source": [
    "bt = Backtest(market_data_fetcher.saved_filepath, HMMStrategy(market_data_fetcher.saved_filepath, market_data_fetcher.saved_filepath, 0.5, 0.5), 1000000, 30, 0.0006)"
   ]
  },
  {
   "cell_type": "markdown",
   "id": "a5f027ba",
   "metadata": {},
   "source": [
    "## Identify the best threshold from heatmap"
   ]
  },
  {
   "cell_type": "code",
   "execution_count": 10,
   "id": "d1fa8500",
   "metadata": {},
   "outputs": [
    {
     "name": "stdout",
     "output_type": "stream",
     "text": [
      "Running with bullish=0.40, bearish=0.30\n",
      "9000\n",
      "8974\n",
      "9000\n",
      "Running with bullish=0.40, bearish=0.35\n",
      "9000\n",
      "8974\n",
      "9000\n",
      "Running with bullish=0.40, bearish=0.40\n",
      "9000\n",
      "8974\n",
      "9000\n",
      "Running with bullish=0.40, bearish=0.45\n",
      "9000\n",
      "8974\n",
      "9000\n",
      "Running with bullish=0.40, bearish=0.50\n",
      "9000\n",
      "8974\n",
      "9000\n",
      "Running with bullish=0.40, bearish=0.55\n",
      "9000\n",
      "8974\n",
      "9000\n",
      "Running with bullish=0.40, bearish=0.60\n",
      "9000\n",
      "8974\n",
      "9000\n",
      "Running with bullish=0.45, bearish=0.30\n",
      "9000\n",
      "8974\n",
      "9000\n",
      "Running with bullish=0.45, bearish=0.35\n",
      "9000\n",
      "8974\n",
      "9000\n",
      "Running with bullish=0.45, bearish=0.40\n",
      "9000\n",
      "8974\n",
      "9000\n",
      "Running with bullish=0.45, bearish=0.45\n",
      "9000\n",
      "8974\n",
      "9000\n",
      "Running with bullish=0.45, bearish=0.50\n",
      "9000\n",
      "8974\n",
      "9000\n",
      "Running with bullish=0.45, bearish=0.55\n",
      "9000\n",
      "8974\n",
      "9000\n",
      "Running with bullish=0.45, bearish=0.60\n",
      "9000\n",
      "8974\n",
      "9000\n",
      "Running with bullish=0.50, bearish=0.30\n",
      "9000\n",
      "8974\n",
      "9000\n",
      "Running with bullish=0.50, bearish=0.35\n",
      "9000\n",
      "8974\n",
      "9000\n",
      "Running with bullish=0.50, bearish=0.40\n",
      "9000\n",
      "8974\n",
      "9000\n",
      "Running with bullish=0.50, bearish=0.45\n",
      "9000\n",
      "8974\n",
      "9000\n",
      "Running with bullish=0.50, bearish=0.50\n",
      "9000\n",
      "8974\n",
      "9000\n",
      "Running with bullish=0.50, bearish=0.55\n",
      "9000\n",
      "8974\n",
      "9000\n",
      "Running with bullish=0.50, bearish=0.60\n",
      "9000\n",
      "8974\n",
      "9000\n",
      "Running with bullish=0.55, bearish=0.30\n",
      "9000\n",
      "8974\n",
      "9000\n",
      "Running with bullish=0.55, bearish=0.35\n",
      "9000\n",
      "8974\n",
      "9000\n",
      "Running with bullish=0.55, bearish=0.40\n",
      "9000\n",
      "8974\n",
      "9000\n",
      "Running with bullish=0.55, bearish=0.45\n",
      "9000\n",
      "8974\n",
      "9000\n",
      "Running with bullish=0.55, bearish=0.50\n",
      "9000\n",
      "8974\n",
      "9000\n",
      "Running with bullish=0.55, bearish=0.55\n",
      "9000\n",
      "8974\n",
      "9000\n",
      "Running with bullish=0.55, bearish=0.60\n",
      "9000\n",
      "8974\n",
      "9000\n",
      "Running with bullish=0.60, bearish=0.30\n",
      "9000\n",
      "8974\n",
      "9000\n",
      "Running with bullish=0.60, bearish=0.35\n",
      "9000\n",
      "8974\n",
      "9000\n",
      "Running with bullish=0.60, bearish=0.40\n",
      "9000\n",
      "8974\n",
      "9000\n",
      "Running with bullish=0.60, bearish=0.45\n",
      "9000\n",
      "8974\n",
      "9000\n",
      "Running with bullish=0.60, bearish=0.50\n",
      "9000\n",
      "8974\n",
      "9000\n",
      "Running with bullish=0.60, bearish=0.55\n",
      "9000\n",
      "8974\n",
      "9000\n",
      "Running with bullish=0.60, bearish=0.60\n",
      "9000\n",
      "8974\n",
      "9000\n",
      "Running with bullish=0.65, bearish=0.30\n",
      "9000\n",
      "8974\n",
      "9000\n",
      "Running with bullish=0.65, bearish=0.35\n",
      "9000\n",
      "8974\n",
      "9000\n",
      "Running with bullish=0.65, bearish=0.40\n",
      "9000\n",
      "8974\n",
      "9000\n",
      "Running with bullish=0.65, bearish=0.45\n",
      "9000\n",
      "8974\n",
      "9000\n",
      "Running with bullish=0.65, bearish=0.50\n",
      "9000\n",
      "8974\n",
      "9000\n",
      "Running with bullish=0.65, bearish=0.55\n",
      "9000\n",
      "8974\n",
      "9000\n",
      "Running with bullish=0.65, bearish=0.60\n",
      "9000\n",
      "8974\n",
      "9000\n",
      "Running with bullish=0.70, bearish=0.30\n",
      "9000\n",
      "8974\n",
      "9000\n",
      "Running with bullish=0.70, bearish=0.35\n",
      "9000\n",
      "8974\n",
      "9000\n",
      "Running with bullish=0.70, bearish=0.40\n",
      "9000\n",
      "8974\n",
      "9000\n",
      "Running with bullish=0.70, bearish=0.45\n",
      "9000\n",
      "8974\n",
      "9000\n",
      "Running with bullish=0.70, bearish=0.50\n",
      "9000\n",
      "8974\n",
      "9000\n",
      "Running with bullish=0.70, bearish=0.55\n",
      "9000\n",
      "8974\n",
      "9000\n",
      "Running with bullish=0.70, bearish=0.60\n",
      "9000\n",
      "8974\n",
      "9000\n"
     ]
    },
    {
     "data": {
      "image/png": "[encoded data removed]",
      "text/plain": [
       "<Figure size 1000x800 with 2 Axes>"
      ]
     },
     "metadata": {},
     "output_type": "display_data"
    }
   ],
   "source": [
    "bt.run_backtest_heatmap(metric='Sharpe Ratio')\n"
   ]
  },
  {
   "cell_type": "markdown",
   "id": "af197c99",
   "metadata": {},
   "source": [
    "## Perform Forward Testing Using The Best Threshold"
   ]
  },
  {
   "cell_type": "markdown",
   "id": "667bd064",
   "metadata": {},
   "source": [
    "### Fetch / Load Foward Dataset"
   ]
  },
  {
   "cell_type": "code",
   "execution_count": 11,
   "id": "ba9e87c1",
   "metadata": {},
   "outputs": [],
   "source": [
    "\n",
    "ft_start_time = int(datetime(2024, 4, 1).timestamp() * 1000)\n",
    "ft_end_time = int(datetime(2025, 4, 1, 23, 59).timestamp() * 1000)\n"
   ]
  },
  {
   "cell_type": "code",
   "execution_count": 12,
   "id": "41506cb3",
   "metadata": {},
   "outputs": [
    {
     "name": "stdout",
     "output_type": "stream",
     "text": [
      "Fetching 1h data for BTC-USD from 2024-03-31 16:00:00 to 2025-04-01 15:59:00...\n",
      "✅ Retrieved 1000 candles. Total: 1000\n",
      "✅ Retrieved 1000 candles. Total: 1000\n",
      "✅ Retrieved 1000 candles. Total: 1000\n",
      "✅ Retrieved 1000 candles. Total: 1000\n",
      "✅ Retrieved 1000 candles. Total: 1000\n",
      "✅ Retrieved 1000 candles. Total: 1000\n",
      "✅ Retrieved 1000 candles. Total: 1000\n",
      "✅ Retrieved 1000 candles. Total: 1000\n",
      "✅ Retrieved 1000 candles. Total: 1000\n",
      "💾 Saved to datasets/BTC-USD_1h_Training data_1744300800000_to_1743523140000.csv with 9000 rows.\n",
      "                         open      high       low     close       volume\n",
      "timestamp                                                               \n",
      "2025-04-10 11:00:00  81722.40  81897.05  81455.61  81829.71   120.593691\n",
      "2025-04-10 12:00:00  81829.71  82398.91  81409.00  81672.02   747.649884\n",
      "2025-04-10 13:00:00  81673.27  81912.56  80722.00  80812.99   937.494541\n",
      "2025-04-10 14:00:00  80815.24  81776.61  80555.52  81218.13   958.167358\n",
      "2025-04-10 15:00:00  81215.26  81297.99  78548.52  78692.32  1624.344122\n"
     ]
    }
   ],
   "source": [
    "market_data_fetcher = MarketDataFetcher(API_KEY, MARKET_DATA_BASE_URL, SYMBOL, LIMIT)\n",
    "market_data_fetcher.fetch(ft_start_time, ft_end_time, INTERVAL)\n",
    "\n"
   ]
  },
  {
   "cell_type": "code",
   "execution_count": 13,
   "id": "1e17a683",
   "metadata": {},
   "outputs": [
    {
     "name": "stderr",
     "output_type": "stream",
     "text": [
      "         1 -994250.68325481             +nan\n",
      "         2 -904885.95484025  +89364.72841457\n",
      "         3 -886986.75012936  +17899.20471089\n",
      "         4 -884500.98250457   +2485.76762479\n",
      "         5 -883581.89875244    +919.08375213\n",
      "         6 -883154.58964329    +427.30910915\n",
      "         7 -882957.48339699    +197.10624631\n",
      "         8 -882829.52466947    +127.95872751\n",
      "         9 -882755.97650949     +73.54815998\n",
      "        10 -882715.45174991     +40.52475958\n",
      "        11 -882691.99207042     +23.45967948\n",
      "        12 -882661.80506289     +30.18700753\n",
      "        13 -882633.78129028     +28.02377261\n",
      "        14 -882611.19257658     +22.58871371\n",
      "        15 -882595.51460461     +15.67797197\n",
      "        16 -882587.89296038      +7.62164422\n",
      "        17 -882583.31884863      +4.57411175\n",
      "        18 -882579.82268932      +3.49615931\n",
      "        19 -882576.27881845      +3.54387087\n",
      "        20 -882570.94884640      +5.32997205\n",
      "        21 -882560.91859222     +10.03025419\n",
      "        22 -882545.39744418     +15.52114804\n",
      "        23 -882531.52463087     +13.87281331\n",
      "        24 -882519.36337342     +12.16125746\n",
      "        25 -882506.03060478     +13.33276864\n",
      "        26 -882491.86727840     +14.16332638\n",
      "        27 -882476.48069091     +15.38658749\n",
      "        28 -882458.64590698     +17.83478393\n",
      "        29 -882436.25994241     +22.38596457\n",
      "        30 -882413.03930421     +23.22063820\n",
      "        31 -882397.77827327     +15.26103093\n",
      "        32 -882389.01902508      +8.75924819\n",
      "        33 -882383.05008231      +5.96894277\n",
      "        34 -882379.18772893      +3.86235339\n",
      "        35 -882376.75282637      +2.43490256\n",
      "        36 -882375.11809562      +1.63473075\n",
      "        37 -882373.88603880      +1.23205682\n",
      "        38 -882372.83709524      +1.04894355\n",
      "        39 -882371.87058491      +0.96651034\n",
      "        40 -882370.95367418      +0.91691072\n",
      "        41 -882370.08575412      +0.86792006\n",
      "        42 -882369.27626233      +0.80949179\n",
      "        43 -882368.53340237      +0.74285996\n",
      "        44 -882367.86036586      +0.67303651\n",
      "        45 -882367.25549338      +0.60487248\n",
      "        46 -882366.71387602      +0.54161736\n",
      "        47 -882366.22907435      +0.48480167\n",
      "        48 -882365.79441010      +0.43466426\n",
      "        49 -882365.40372591      +0.39068419\n",
      "        50 -882365.05172129      +0.35200461\n",
      "        51 -882364.73401332      +0.31770797\n",
      "        52 -882364.44705102      +0.28696231\n",
      "        53 -882364.18796528      +0.25908574\n",
      "        54 -882363.95440771      +0.23355756\n",
      "        55 -882363.74440255      +0.21000517\n",
      "        56 -882363.55622156      +0.18818099\n",
      "        57 -882363.38829210      +0.16792946\n",
      "        58 -882363.23912958      +0.14916253\n",
      "        59 -882363.10729851      +0.13183106\n",
      "        60 -882362.99139199      +0.11590652\n",
      "        61 -882362.89002761      +0.10136438\n",
      "        62 -882362.80185155      +0.08817605\n",
      "        63 -882362.72555123      +0.07630033\n",
      "        64 -882362.65986718      +0.06568405\n",
      "        65 -882362.60360598      +0.05626120\n",
      "        66 -882362.55565165      +0.04795432\n",
      "        67 -882362.51497181      +0.04067985\n",
      "        68 -882362.48062371      +0.03434810\n",
      "        69 -882362.45175376      +0.02886994\n",
      "        70 -882362.42759836      +0.02415540\n",
      "        71 -882362.40747935      +0.02011902\n"
     ]
    },
    {
     "name": "stdout",
     "output_type": "stream",
     "text": [
      "Converged: True\n",
      "Final log likelihood: -882362.3565084302\n",
      "State Labels: {2: 'bullish', 0: 'bearish', 1: 'neutral'}\n",
      "               timestamp      open     close  log_return  state market_state\n",
      "25   2024-04-01 17:00:00  68576.38  68751.06    0.002485      1      neutral\n",
      "26   2024-04-01 18:00:00  68745.64  68941.19    0.002762      1      neutral\n",
      "27   2024-04-01 19:00:00  68941.19  69709.52    0.011083      0      bearish\n",
      "28   2024-04-01 20:00:00  69709.49  69769.94    0.000866      1      neutral\n",
      "29   2024-04-01 21:00:00  69769.94  69616.43   -0.002203      1      neutral\n",
      "...                  ...       ...       ...         ...    ...          ...\n",
      "8995 2025-04-10 11:00:00  81722.40  81829.71    0.001312      0      bearish\n",
      "8996 2025-04-10 12:00:00  81829.71  81672.02   -0.001929      0      bearish\n",
      "8997 2025-04-10 13:00:00  81673.27  80812.99   -0.010574      0      bearish\n",
      "8998 2025-04-10 14:00:00  80815.24  81218.13    0.005001      0      bearish\n",
      "8999 2025-04-10 15:00:00  81215.26  78692.32   -0.031593      0      bearish\n",
      "\n",
      "[8975 rows x 6 columns]\n"
     ]
    },
    {
     "name": "stderr",
     "output_type": "stream",
     "text": [
      "        72 -882362.39079942      +0.01667992\n",
      "        73 -882362.37703631      +0.01376311\n",
      "        74 -882362.36573657      +0.01129974\n",
      "        75 -882362.35650843      +0.00922814\n"
     ]
    }
   ],
   "source": [
    "bt.set_data(market_data_fetcher.saved_filepath)\n",
    "bt.set_strategy(HMMStrategy(market_data_fetcher.saved_filepath, market_data_fetcher.saved_filepath, bullish_threshold=0.4, bearish_threshold=0.3))"
   ]
  },
  {
   "cell_type": "code",
   "execution_count": 14,
   "id": "fcc7cef0",
   "metadata": {},
   "outputs": [
    {
     "name": "stdout",
     "output_type": "stream",
     "text": [
      "9000\n",
      "8974\n",
      "9000\n"
     ]
    }
   ],
   "source": [
    "bt.run()"
   ]
  },
  {
   "cell_type": "code",
   "execution_count": 15,
   "id": "ff767422",
   "metadata": {},
   "outputs": [
    {
     "name": "stdout",
     "output_type": "stream",
     "text": [
      "Start Trade Date: 2024-03-31 16:00:00\n",
      "End Trade Date: 2025-04-10 15:00:00\n",
      "Final Portfolio Value: 115948.70223402552\n",
      "Total Return (%): -88.40512977659745\n",
      "Number of Trades: 14004\n",
      "Win Rate (%): 0.0\n",
      "Max Drawdown (%): -28.93\n",
      "Sharpe Ratio: 0.0\n"
     ]
    }
   ],
   "source": [
    "performance = bt.get_performance_results()\n",
    "\n",
    "for key, value in performance.items():\n",
    "    print(f\"{key}: {value}\")"
   ]
  },
  {
   "cell_type": "code",
   "execution_count": 16,
   "id": "5af9c339",
   "metadata": {},
   "outputs": [
    {
     "name": "stdout",
     "output_type": "stream",
     "text": [
      "Trade logs saved to backtest_trade_logs.csv\n"
     ]
    }
   ],
   "source": [
    "bt.get_trade_logs_csv()"
   ]
  }
 ],
 "metadata": {
  "kernelspec": {
   "display_name": "base",
   "language": "python",
   "name": "python3"
  },
  "language_info": {
   "codemirror_mode": {
    "name": "ipython",
    "version": 3
   },
   "file_extension": ".py",
   "mimetype": "text/x-python",
   "name": "python",
   "nbconvert_exporter": "python",
   "pygments_lexer": "ipython3",
   "version": "3.11.7"
  }
 },
 "nbformat": 4,
 "nbformat_minor": 5
}
