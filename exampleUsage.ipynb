{
 "cells": [
  {
   "cell_type": "markdown",
   "id": "d767f83b",
   "metadata": {},
   "source": [
    "## Install modules to environment"
   ]
  },
  {
   "cell_type": "code",
   "execution_count": 1,
   "id": "f955709c",
   "metadata": {},
   "outputs": [
    {
     "name": "stdout",
     "output_type": "stream",
     "text": [
      "Requirement already satisfied: pandas in c:\\users\\jtyap\\appdata\\local\\programs\\python\\python313\\lib\\site-packages (2.2.3)\n",
      "Requirement already satisfied: numpy in c:\\users\\jtyap\\appdata\\local\\programs\\python\\python313\\lib\\site-packages (2.2.4)\n",
      "Requirement already satisfied: requests in c:\\users\\jtyap\\appdata\\local\\programs\\python\\python313\\lib\\site-packages (2.32.3)\n",
      "Requirement already satisfied: importlib in c:\\users\\jtyap\\appdata\\local\\programs\\python\\python313\\lib\\site-packages (1.0.4)\n",
      "Requirement already satisfied: seaborn in c:\\users\\jtyap\\appdata\\local\\programs\\python\\python313\\lib\\site-packages (0.13.2)\n",
      "Requirement already satisfied: python-dateutil>=2.8.2 in c:\\users\\jtyap\\appdata\\roaming\\python\\python313\\site-packages (from pandas) (2.9.0.post0)\n",
      "Requirement already satisfied: pytz>=2020.1 in c:\\users\\jtyap\\appdata\\local\\programs\\python\\python313\\lib\\site-packages (from pandas) (2025.2)\n",
      "Requirement already satisfied: tzdata>=2022.7 in c:\\users\\jtyap\\appdata\\local\\programs\\python\\python313\\lib\\site-packages (from pandas) (2025.2)\n",
      "Requirement already satisfied: charset-normalizer<4,>=2 in c:\\users\\jtyap\\appdata\\local\\programs\\python\\python313\\lib\\site-packages (from requests) (3.4.1)\n",
      "Requirement already satisfied: idna<4,>=2.5 in c:\\users\\jtyap\\appdata\\local\\programs\\python\\python313\\lib\\site-packages (from requests) (3.10)\n",
      "Requirement already satisfied: urllib3<3,>=1.21.1 in c:\\users\\jtyap\\appdata\\local\\programs\\python\\python313\\lib\\site-packages (from requests) (2.3.0)\n",
      "Requirement already satisfied: certifi>=2017.4.17 in c:\\users\\jtyap\\appdata\\local\\programs\\python\\python313\\lib\\site-packages (from requests) (2025.1.31)\n",
      "Requirement already satisfied: matplotlib!=3.6.1,>=3.4 in c:\\users\\jtyap\\appdata\\local\\programs\\python\\python313\\lib\\site-packages (from seaborn) (3.10.1)\n",
      "Requirement already satisfied: contourpy>=1.0.1 in c:\\users\\jtyap\\appdata\\local\\programs\\python\\python313\\lib\\site-packages (from matplotlib!=3.6.1,>=3.4->seaborn) (1.3.1)\n",
      "Requirement already satisfied: cycler>=0.10 in c:\\users\\jtyap\\appdata\\local\\programs\\python\\python313\\lib\\site-packages (from matplotlib!=3.6.1,>=3.4->seaborn) (0.12.1)\n",
      "Requirement already satisfied: fonttools>=4.22.0 in c:\\users\\jtyap\\appdata\\local\\programs\\python\\python313\\lib\\site-packages (from matplotlib!=3.6.1,>=3.4->seaborn) (4.57.0)\n",
      "Requirement already satisfied: kiwisolver>=1.3.1 in c:\\users\\jtyap\\appdata\\local\\programs\\python\\python313\\lib\\site-packages (from matplotlib!=3.6.1,>=3.4->seaborn) (1.4.8)\n",
      "Requirement already satisfied: packaging>=20.0 in c:\\users\\jtyap\\appdata\\roaming\\python\\python313\\site-packages (from matplotlib!=3.6.1,>=3.4->seaborn) (24.2)\n",
      "Requirement already satisfied: pillow>=8 in c:\\users\\jtyap\\appdata\\local\\programs\\python\\python313\\lib\\site-packages (from matplotlib!=3.6.1,>=3.4->seaborn) (11.1.0)\n",
      "Requirement already satisfied: pyparsing>=2.3.1 in c:\\users\\jtyap\\appdata\\local\\programs\\python\\python313\\lib\\site-packages (from matplotlib!=3.6.1,>=3.4->seaborn) (3.2.3)\n",
      "Requirement already satisfied: six>=1.5 in c:\\users\\jtyap\\appdata\\roaming\\python\\python313\\site-packages (from python-dateutil>=2.8.2->pandas) (1.17.0)\n",
      "Note: you may need to restart the kernel to use updated packages.\n"
     ]
    }
   ],
   "source": [
    "%pip install pandas numpy requests importlib seaborn"
   ]
  },
  {
   "cell_type": "markdown",
   "id": "5137dcce",
   "metadata": {},
   "source": [
    "## Import modules"
   ]
  },
  {
   "cell_type": "code",
   "execution_count": 2,
   "id": "8d6e0611",
   "metadata": {},
   "outputs": [],
   "source": [
    "from Backtesting.dataFetchers.marketDataFetchers import MarketDataFetcher\n",
    "from Backtesting.dataFetchers.onChainMetricsFetchers import OnChainMetricsFetcher\n",
    "from Backtesting.dataFetchers.onChainMetricsFetchers import OnChainMetricsFetcherWithoutExchange\n",
    "from Backtesting.backtest import Backtest\n",
    "from Backtesting.strategies.hmmStrategy import HMMStrategy\n",
    "\n",
    "import pandas as pd\n",
    "import numpy as np\n",
    "from datetime import datetime\n",
    "\n"
   ]
  },
  {
   "cell_type": "markdown",
   "id": "dac0535b",
   "metadata": {},
   "source": [
    "## Fetch Data"
   ]
  },
  {
   "cell_type": "markdown",
   "id": "b66e005f",
   "metadata": {},
   "source": [
    "Input API key and desired interval and window"
   ]
  },
  {
   "cell_type": "code",
   "execution_count": 3,
   "id": "a1dc5a33",
   "metadata": {},
   "outputs": [],
   "source": [
    "API_KEY = \"GlYxSZP9hnooNl6gGAjtkptkeqehSnk5C60Akhpw5zupBK6O\"\n",
    "LIMIT = 1000\n"
   ]
  },
  {
   "cell_type": "markdown",
   "id": "03697dc9",
   "metadata": {},
   "source": [
    "### Market Data"
   ]
  },
  {
   "cell_type": "code",
   "execution_count": 4,
   "id": "0e391637",
   "metadata": {},
   "outputs": [],
   "source": [
    "MARKET_DATA_BASE_URL = \"https://api.datasource.cybotrade.rs/coinbase/candle\"\n",
    "\n",
    "SYMBOL = \"BTC-USD\" # Can be any symbol available on Coinbase\n",
    "INTERVAL = \"1h\" # Can be any interval such as \"1d\", \"1h\", \"15m\", etc."
   ]
  },
  {
   "cell_type": "code",
   "execution_count": 5,
   "id": "bb7a99db",
   "metadata": {},
   "outputs": [],
   "source": [
    "# start_time = int(datetime(2023, 1, 1).timestamp() * 1000)\n",
    "# end_time = int(datetime(2024, 12, 31, 23, 59).timestamp() * 1000)\n",
    "\n",
    "bt_start_time = int(datetime(2023, 4, 1).timestamp() * 1000)\n",
    "bt_end_time = int(datetime(2024, 3, 31, 23, 59).timestamp() * 1000)\n"
   ]
  },
  {
   "cell_type": "code",
   "execution_count": 6,
   "id": "b23e8d70",
   "metadata": {},
   "outputs": [
    {
     "name": "stdout",
     "output_type": "stream",
     "text": [
      "Fetching 1h data for BTC-USD from 2023-03-31 16:00:00 to 2024-03-31 15:59:00...\n",
      "✅ Retrieved 1000 candles. Total: 1000\n",
      "✅ Retrieved 1000 candles. Total: 1000\n",
      "✅ Retrieved 1000 candles. Total: 1000\n",
      "✅ Retrieved 1000 candles. Total: 1000\n",
      "✅ Retrieved 1000 candles. Total: 1000\n",
      "✅ Retrieved 1000 candles. Total: 1000\n",
      "✅ Retrieved 1000 candles. Total: 1000\n",
      "✅ Retrieved 1000 candles. Total: 1000\n",
      "✅ Retrieved 1000 candles. Total: 1000\n",
      "💾 Saved to datasets/BTC-USD_1h_Training data_1712678400000_to_1711900740000.csv with 9000 rows.\n",
      "                         open      high       low     close       volume\n",
      "timestamp                                                               \n",
      "2024-04-09 11:00:00  70571.83  70909.01  70571.81  70794.18   467.688822\n",
      "2024-04-09 12:00:00  70794.17  70964.32  70637.48  70683.96   344.272836\n",
      "2024-04-09 13:00:00  70680.73  70946.26  69917.12  69935.22   770.713309\n",
      "2024-04-09 14:00:00  69931.94  70438.43  68618.76  69349.96  2046.780511\n",
      "2024-04-09 15:00:00  69350.51  69352.55  68516.00  69244.00  1432.311949\n"
     ]
    }
   ],
   "source": [
    "market_data_fetcher = MarketDataFetcher(API_KEY, MARKET_DATA_BASE_URL, SYMBOL, LIMIT)\n",
    "market_data_fetcher.fetch(bt_start_time, bt_end_time, INTERVAL)\n",
    "\n"
   ]
  },
  {
   "cell_type": "markdown",
   "id": "4e998221",
   "metadata": {},
   "source": [
    "### On Chain Metrics Data (TBU)"
   ]
  },
  {
   "cell_type": "code",
   "execution_count": 7,
   "id": "65b728d6",
   "metadata": {},
   "outputs": [],
   "source": [
    "ONCHAIN_API_KEY = \"GlYxSZP9hnooNl6gGAjtkptkeqehSnk5C60Akhpw5zupBK6O\"\n",
    "ONCHAIN_DATA_BASE_URL = \"https://api.datasource.cybotrade.rs/cryptoquant\"\n",
    "EXCHANGE = \"binance\" # Can be any exchange available on CryptoQuant\n",
    "CURRENCY = \"btc\" # Can be any symbol available on CryptoQuant\n",
    "ON_CHAIN_LIMIT = 20000 # Number of data points to fetch\n",
    "\n",
    "\n",
    "netflow_window = \"hour\" # Can be any window such as \"day\", \"hour\", \"block\", etc\n",
    "netflow_endpoint_category = \"exchange-flows\"\n",
    "netflow_metric = \"netflow\"\n",
    "\n",
    "mvrv_window = \"day\"\n",
    "mvrv_endpoint_category = \"market-indicator\"\n",
    "mvrv_metric = \"mvrv\"\n",
    "\n",
    "sopr_window = \"day\"\n",
    "sopr_endpoint_category = \"market-indicator\"\n",
    "sopr_metric = \"sopr-ratio\"\n",
    "\n",
    "nupl_window = \"day\"\n",
    "nupl_endpoint_category = \"network-indicator\"\n",
    "nupl_metric = \"nupl\"\n",
    "\n",
    "cdd_window = \"day\"\n",
    "cdd_endpoint_category = \"network-indicator\"\n",
    "cdd_metric = \"cdd\"\n",
    "\n",
    "puell_multiple_window = \"day\"\n",
    "puell_multiple_endpoint_category = \"network-indicator\"\n",
    "puell_multiple_metric = \"puell-multiple\"\n",
    "\n",
    "hashrate_window = \"hour\"\n",
    "hashrate_endpoint_category = \"network-data\"\n",
    "hashrate_metric = \"hashrate\"\n"
   ]
  },
  {
   "cell_type": "code",
   "execution_count": 8,
   "id": "fe69a656",
   "metadata": {},
   "outputs": [
    {
     "name": "stdout",
     "output_type": "stream",
     "text": [
      "Fetching exchange-flows/netflow data for btc from binance with window 'hour'...\n",
      "Using start_time + limit=1000 from 2023-03-31 16:00:00\n",
      "✅ Retrieved 1000 records. Total so far: 1000\n",
      "Using start_time + limit=1000 from 2023-05-12 07:00:01\n",
      "✅ Retrieved 1000 records. Total so far: 2000\n",
      "Using start_time + limit=1000 from 2023-06-22 23:00:01\n",
      "✅ Retrieved 1000 records. Total so far: 3000\n",
      "Using start_time + limit=1000 from 2023-08-03 15:00:01\n",
      "✅ Retrieved 1000 records. Total so far: 4000\n",
      "Using start_time + limit=1000 from 2023-09-14 07:00:01\n",
      "✅ Retrieved 1000 records. Total so far: 5000\n",
      "Using start_time + limit=1000 from 2023-10-25 23:00:01\n",
      "✅ Retrieved 1000 records. Total so far: 6000\n",
      "Using start_time + limit=1000 from 2023-12-06 15:00:01\n",
      "✅ Retrieved 1000 records. Total so far: 7000\n",
      "Using start_time + limit=1000 from 2024-01-17 07:00:01\n",
      "✅ Retrieved 1000 records. Total so far: 8000\n",
      "Using start_time + limit=1000 from 2024-02-27 23:00:01\n",
      "✅ Retrieved 1000 records. Total so far: 9000\n",
      "💾 Saved to datasets/binance_netflow_hour_Training data_1709074801000_to_1711900740000.csv with 9000 rows.\n",
      "                     netflow_total\n",
      "timestamp                         \n",
      "2024-04-09 11:00:00     -14.634399\n",
      "2024-04-09 12:00:00     176.630634\n",
      "2024-04-09 13:00:00     894.648525\n",
      "2024-04-09 14:00:00     168.164782\n",
      "2024-04-09 15:00:00      33.378955\n",
      "Fetching market-indicator/mvrv data for btc with window 'day'...\n",
      "Using start_time + limit=1000 from 2023-03-31 16:00:00\n",
      "✅ Retrieved 741 records. Total so far: 741\n",
      "💾 Saved to datasets/mvrv_day_Training data_1680278400000_to_1711900740000.csv with 741 rows.\n",
      "                mvrv\n",
      "timestamp           \n",
      "2025-04-06  1.787679\n",
      "2025-04-07  1.805533\n",
      "2025-04-08  1.740237\n",
      "2025-04-09  1.883966\n",
      "2025-04-10  1.813297\n",
      "Fetching market-indicator/sopr-ratio data for btc with window 'day'...\n",
      "Using start_time + limit=1000 from 2023-03-31 16:00:00\n",
      "✅ Retrieved 741 records. Total so far: 741\n",
      "💾 Saved to datasets/sopr-ratio_day_Training data_1680278400000_to_1711900740000.csv with 741 rows.\n",
      "            sopr_ratio\n",
      "timestamp             \n",
      "2025-04-06    1.828696\n",
      "2025-04-07    2.573112\n",
      "2025-04-08    1.943868\n",
      "2025-04-09    1.853767\n",
      "2025-04-10    2.792736\n",
      "Fetching network-indicator/nupl data for btc with window 'day'...\n",
      "Using start_time + limit=1000 from 2023-03-31 16:00:00\n",
      "✅ Retrieved 741 records. Total so far: 741\n",
      "💾 Saved to datasets/nupl_day_Training data_1680278400000_to_1711900740000.csv with 741 rows.\n",
      "                nupl       nup       nul\n",
      "timestamp                               \n",
      "2025-04-06  0.440615  0.490959  0.050452\n",
      "2025-04-07  0.446147  0.498281  0.045036\n",
      "2025-04-08  0.425366  0.483522  0.057841\n",
      "2025-04-09  0.469205  0.504299  0.034169\n",
      "2025-04-10  0.448518  0.493708  0.044486\n",
      "Fetching network-indicator/cdd data for btc with window 'day'...\n",
      "Using start_time + limit=1000 from 2023-03-31 16:00:00\n",
      "✅ Retrieved 741 records. Total so far: 741\n",
      "💾 Saved to datasets/cdd_day_Training data_1680278400000_to_1711900740000.csv with 741 rows.\n",
      "                     cdd    sa_cdd  average_sa_cdd binary_cdd\n",
      "timestamp                                                    \n",
      "2025-04-06  5.160097e+06  0.259985        0.543841          0\n",
      "2025-04-07  3.087407e+07  1.555513        0.544012          1\n",
      "2025-04-08  8.130117e+06  0.409606        0.543989          0\n",
      "2025-04-09  1.471287e+07  0.741239        0.544022          1\n",
      "2025-04-10  2.432957e+07  1.225703        0.544137          1\n",
      "Fetching network-indicator/puell-multiple data for btc with window 'day'...\n",
      "Using start_time + limit=1000 from 2023-03-31 16:00:00\n",
      "✅ Retrieved 741 records. Total so far: 741\n",
      "💾 Saved to datasets/puell-multiple_day_Training data_1680278400000_to_1711900740000.csv with 741 rows.\n",
      "            puell_multiple\n",
      "timestamp                 \n",
      "2025-04-06        0.990941\n",
      "2025-04-07        0.953332\n",
      "2025-04-08        1.019424\n",
      "2025-04-09        0.864467\n",
      "2025-04-10        0.990805\n",
      "Fetching network-data/hashrate data for btc with window 'hour'...\n",
      "Using start_time + limit=1000 from 2023-03-31 16:00:00\n",
      "✅ Retrieved 1000 records. Total so far: 1000\n",
      "Using start_time + limit=1000 from 2023-05-12 07:00:01\n",
      "✅ Retrieved 1000 records. Total so far: 2000\n",
      "Using start_time + limit=1000 from 2023-06-22 23:00:01\n",
      "✅ Retrieved 1000 records. Total so far: 3000\n",
      "Using start_time + limit=1000 from 2023-08-03 15:00:01\n",
      "✅ Retrieved 1000 records. Total so far: 4000\n",
      "Using start_time + limit=1000 from 2023-09-14 07:00:01\n",
      "✅ Retrieved 1000 records. Total so far: 5000\n",
      "Using start_time + limit=1000 from 2023-10-25 23:00:01\n",
      "✅ Retrieved 1000 records. Total so far: 6000\n",
      "Using start_time + limit=1000 from 2023-12-06 15:00:01\n",
      "✅ Retrieved 1000 records. Total so far: 7000\n",
      "Using start_time + limit=1000 from 2024-01-17 07:00:01\n",
      "✅ Retrieved 1000 records. Total so far: 8000\n",
      "Using start_time + limit=1000 from 2024-02-27 23:00:01\n",
      "✅ Retrieved 1000 records. Total so far: 9000\n",
      "💾 Saved to datasets/hashrate_hour_Training data_1709074801000_to_1711900740000.csv with 9000 rows.\n",
      "                         hashrate\n",
      "timestamp                        \n",
      "2024-04-09 11:00:00  4.958719e+11\n",
      "2024-04-09 12:00:00  3.966975e+11\n",
      "2024-04-09 13:00:00  7.933950e+11\n",
      "2024-04-09 14:00:00  6.942206e+11\n",
      "2024-04-09 15:00:00  5.950462e+11\n"
     ]
    }
   ],
   "source": [
    "on_chain_fetcher = OnChainMetricsFetcher(API_KEY, ONCHAIN_DATA_BASE_URL, CURRENCY, netflow_endpoint_category, netflow_metric, EXCHANGE, ON_CHAIN_LIMIT)\n",
    "on_chain_fetcher.fetch_netflow(netflow_window, bt_start_time, bt_end_time)\n",
    "\n",
    "on_chain_fetcher_without_exchange_mvrv = OnChainMetricsFetcherWithoutExchange(API_KEY, ONCHAIN_DATA_BASE_URL, CURRENCY, mvrv_endpoint_category, mvrv_metric, ON_CHAIN_LIMIT)\n",
    "on_chain_fetcher_without_exchange_sopr = OnChainMetricsFetcherWithoutExchange(API_KEY, ONCHAIN_DATA_BASE_URL, CURRENCY,  sopr_endpoint_category, sopr_metric, ON_CHAIN_LIMIT)\n",
    "on_chain_fetcher_without_exchange_nupl = OnChainMetricsFetcherWithoutExchange(API_KEY, ONCHAIN_DATA_BASE_URL, CURRENCY, nupl_endpoint_category, nupl_metric, ON_CHAIN_LIMIT)\n",
    "on_chain_fetcher_without_exchange_cdd = OnChainMetricsFetcherWithoutExchange(API_KEY, ONCHAIN_DATA_BASE_URL, CURRENCY, cdd_endpoint_category, cdd_metric, ON_CHAIN_LIMIT)\n",
    "on_chain_fetcher_without_exchange_puell_multiple = OnChainMetricsFetcherWithoutExchange(API_KEY, ONCHAIN_DATA_BASE_URL, CURRENCY, puell_multiple_endpoint_category, puell_multiple_metric, ON_CHAIN_LIMIT)\n",
    "on_chain_fetcher_without_exchange_hashrate = OnChainMetricsFetcherWithoutExchange(API_KEY, ONCHAIN_DATA_BASE_URL, CURRENCY, hashrate_endpoint_category, hashrate_metric, ON_CHAIN_LIMIT)\n",
    "on_chain_fetcher_without_exchange_mvrv.fetch_mvrv(mvrv_window, bt_start_time, bt_end_time)\n",
    "on_chain_fetcher_without_exchange_sopr.fetch_sopr(sopr_window, bt_start_time, bt_end_time)\n",
    "on_chain_fetcher_without_exchange_nupl.fetch_nupl(nupl_window, bt_start_time, bt_end_time)\n",
    "on_chain_fetcher_without_exchange_cdd.fetch_cdd(cdd_window, bt_start_time, bt_end_time)\n",
    "on_chain_fetcher_without_exchange_puell_multiple.fetch_puell_multiple(puell_multiple_window, bt_start_time, bt_end_time)\n",
    "on_chain_fetcher_without_exchange_hashrate.fetch_hashrate(hashrate_window, bt_start_time, bt_end_time)"
   ]
  },
  {
   "cell_type": "markdown",
   "id": "ae7fb549",
   "metadata": {},
   "source": [
    "## Perform Backtesting"
   ]
  },
  {
   "cell_type": "code",
   "execution_count": 9,
   "id": "337fadc7",
   "metadata": {},
   "outputs": [
    {
     "name": "stderr",
     "output_type": "stream",
     "text": [
      "         1 -941845.38347274             +nan\n",
      "         2 -826028.38229247 +115817.00118027\n",
      "         3 -823185.00026885   +2843.38202362\n",
      "         4 -822865.99503682    +319.00523203\n",
      "         5 -822762.06389392    +103.93114290\n",
      "         6 -822735.07303559     +26.99085832\n",
      "         7 -822730.10053422      +4.97250137\n",
      "         8 -822727.68659560      +2.41393863\n",
      "         9 -822726.26971287      +1.41688273\n",
      "        10 -822725.32432183      +0.94539104\n",
      "        11 -822724.64345543      +0.68086640\n",
      "        12 -822724.12957964      +0.51387579\n",
      "        13 -822723.72981273      +0.39976690\n",
      "        14 -822723.41236112      +0.31745162\n",
      "        15 -822723.15659493      +0.25576619\n",
      "        16 -822722.94834175      +0.20825318\n",
      "        17 -822722.77743486      +0.17090689\n",
      "        18 -822722.63633310      +0.14110176\n",
      "        19 -822722.51929555      +0.11703755\n",
      "        20 -822722.42186224      +0.09743331\n",
      "        21 -822722.34051388      +0.08134836\n",
      "        22 -822722.27243686      +0.06807702\n",
      "        23 -822722.21535816      +0.05707869\n",
      "        24 -822722.16742703      +0.04793113\n",
      "        25 -822722.12712721      +0.04029982\n"
     ]
    },
    {
     "name": "stdout",
     "output_type": "stream",
     "text": [
      "Converged: True\n",
      "Final log likelihood: -822721.9573294383\n",
      "State Labels: {2: 'bullish', 0: 'bearish', 1: 'neutral'}\n",
      "               timestamp      open     close  log_return  state market_state\n",
      "25   2023-04-01 17:00:00  28340.73  28389.24    0.001706      0      bearish\n",
      "26   2023-04-01 18:00:00  28388.22  28389.88    0.000023      0      bearish\n",
      "27   2023-04-01 19:00:00  28389.88  28397.64    0.000273      0      bearish\n",
      "28   2023-04-01 20:00:00  28395.05  28457.26    0.002097      0      bearish\n",
      "29   2023-04-01 21:00:00  28459.73  28495.29    0.001335      0      bearish\n",
      "...                  ...       ...       ...         ...    ...          ...\n",
      "8995 2024-04-09 11:00:00  70571.83  70794.18    0.003129      1      neutral\n",
      "8996 2024-04-09 12:00:00  70794.17  70683.96   -0.001558      1      neutral\n",
      "8997 2024-04-09 13:00:00  70680.73  69935.22   -0.010649      1      neutral\n",
      "8998 2024-04-09 14:00:00  69931.94  69349.96   -0.008404      1      neutral\n",
      "8999 2024-04-09 15:00:00  69350.51  69244.00   -0.001529      1      neutral\n",
      "\n",
      "[8975 rows x 6 columns]\n"
     ]
    },
    {
     "name": "stderr",
     "output_type": "stream",
     "text": [
      "        26 -822722.09320795      +0.03391926\n",
      "        27 -822722.06463460      +0.02857335\n",
      "        28 -822722.04054764      +0.02408697\n",
      "        29 -822722.02023059      +0.02031705\n",
      "        30 -822722.00308497      +0.01714561\n",
      "        31 -822721.98860955      +0.01447542\n",
      "        32 -822721.97638412      +0.01222544\n",
      "        33 -822721.96605632      +0.01032780\n",
      "        34 -822721.95732944      +0.00872688\n"
     ]
    }
   ],
   "source": [
    "bt = Backtest(market_data_fetcher.saved_filepath, HMMStrategy(market_data_fetcher.saved_filepath, market_data_fetcher.saved_filepath, 0.5, 0.5), 1000000, 30, 0.0006)"
   ]
  },
  {
   "cell_type": "markdown",
   "id": "a5f027ba",
   "metadata": {},
   "source": [
    "## Identify the best threshold from heatmap"
   ]
  },
  {
   "cell_type": "code",
   "execution_count": 10,
   "id": "5421a192",
   "metadata": {},
   "outputs": [],
   "source": [
    "# bt.run_backtest_heatmap(metric='Sharpe Ratio')\n"
   ]
  },
  {
   "cell_type": "markdown",
   "id": "5af9c339",
   "metadata": {},
   "source": [
    "## Perform Forward Testing Using The Best Threshold"
   ]
  },
  {
   "cell_type": "markdown",
   "id": "667bd064",
   "metadata": {},
   "source": [
    "### Fetch / Load Foward Dataset"
   ]
  },
  {
   "cell_type": "code",
   "execution_count": 11,
   "id": "ba9e87c1",
   "metadata": {},
   "outputs": [],
   "source": [
    "\n",
    "ft_start_time = int(datetime(2024, 4, 1).timestamp() * 1000)\n",
    "ft_end_time = int(datetime(2025, 4, 1, 23, 59).timestamp() * 1000)\n"
   ]
  },
  {
   "cell_type": "code",
   "execution_count": 12,
   "id": "41506cb3",
   "metadata": {},
   "outputs": [
    {
     "name": "stdout",
     "output_type": "stream",
     "text": [
      "Fetching 1h data for BTC-USD from 2024-03-31 16:00:00 to 2025-04-01 15:59:00...\n",
      "✅ Retrieved 1000 candles. Total: 1000\n",
      "✅ Retrieved 1000 candles. Total: 1000\n",
      "✅ Retrieved 1000 candles. Total: 1000\n",
      "✅ Retrieved 1000 candles. Total: 1000\n",
      "✅ Retrieved 1000 candles. Total: 1000\n",
      "✅ Retrieved 1000 candles. Total: 1000\n",
      "✅ Retrieved 1000 candles. Total: 1000\n",
      "✅ Retrieved 1000 candles. Total: 1000\n",
      "✅ Retrieved 1000 candles. Total: 1000\n",
      "💾 Saved to datasets/BTC-USD_1h_Training data_1744300800000_to_1743523140000.csv with 9000 rows.\n",
      "                         open      high       low     close       volume\n",
      "timestamp                                                               \n",
      "2025-04-10 11:00:00  81722.40  81897.05  81455.61  81829.71   120.593691\n",
      "2025-04-10 12:00:00  81829.71  82398.91  81409.00  81672.02   747.649884\n",
      "2025-04-10 13:00:00  81673.27  81912.56  80722.00  80812.99   937.494541\n",
      "2025-04-10 14:00:00  80815.24  81776.61  80555.52  81218.13   958.167358\n",
      "2025-04-10 15:00:00  81215.26  81297.99  78548.52  78692.32  1624.344122\n"
     ]
    }
   ],
   "source": [
    "market_data_fetcher = MarketDataFetcher(API_KEY, MARKET_DATA_BASE_URL, SYMBOL, LIMIT)\n",
    "market_data_fetcher.fetch(ft_start_time, ft_end_time, INTERVAL)\n",
    "\n"
   ]
  },
  {
   "cell_type": "code",
   "execution_count": 13,
   "id": "1e17a683",
   "metadata": {},
   "outputs": [
    {
     "name": "stderr",
     "output_type": "stream",
     "text": [
      "         1 -986429.68494472             +nan\n",
      "         2 -891621.39530906  +94808.28963566\n",
      "         3 -883214.13438120   +8407.26092786\n",
      "         4 -882881.03005339    +333.10432781\n",
      "         5 -882771.23140442    +109.79864897\n",
      "         6 -882719.24035748     +51.99104695\n",
      "         7 -882667.63246148     +51.60789599\n",
      "         8 -882629.12806203     +38.50439946\n",
      "         9 -882608.25712428     +20.87093775\n",
      "        10 -882595.19936328     +13.05776100\n",
      "        11 -882587.17086108      +8.02850219\n",
      "        12 -882581.55514603      +5.61571505\n",
      "        13 -882575.54341669      +6.01172934\n",
      "        14 -882565.59017450      +9.95324219\n",
      "        15 -882549.62855634     +15.96161816\n",
      "        16 -882534.37005001     +15.25850634\n",
      "        17 -882521.34503971     +13.02501029\n",
      "        18 -882507.45374780     +13.89129191\n",
      "        19 -882492.94126267     +14.51248513\n",
      "        20 -882477.41934017     +15.52192250\n",
      "        21 -882459.59705763     +17.82228254\n",
      "        22 -882437.31499256     +22.28206508\n",
      "        23 -882413.88072914     +23.43426342\n",
      "        24 -882398.23593249     +15.64479665\n",
      "        25 -882389.31146948      +8.92446301\n",
      "        26 -882383.24692352      +6.06454596\n",
      "        27 -882379.31026599      +3.93665753\n",
      "        28 -882376.83148177      +2.47878422\n",
      "        29 -882375.17323870      +1.65824306\n",
      "        30 -882373.92975203      +1.24348667\n",
      "        31 -882372.87553676      +1.05421528\n",
      "        32 -882371.90630985      +0.96922691\n",
      "        33 -882370.98733670      +0.91897315\n",
      "        34 -882370.11721911      +0.87011759\n",
      "        35 -882369.30524149      +0.81197762\n",
      "        36 -882368.55972730      +0.74551419\n",
      "        37 -882367.88404814      +0.67567916\n",
      "        38 -882367.27668719      +0.60736095\n",
      "        39 -882366.73281466      +0.54387253\n",
      "        40 -882366.24601724      +0.48679742\n",
      "        41 -882365.80960421      +0.43641303\n",
      "        42 -882365.41738940      +0.39221481\n",
      "        43 -882365.06403661      +0.35335279\n",
      "        44 -882364.74512948      +0.31890713\n",
      "        45 -882364.45708697      +0.28804251\n",
      "        46 -882364.19701811      +0.26006886\n",
      "        47 -882363.96255732      +0.23446080\n",
      "        48 -882363.75171703      +0.21084028\n"
     ]
    },
    {
     "name": "stdout",
     "output_type": "stream",
     "text": [
      "Converged: True\n",
      "Final log likelihood: -882362.356814185\n",
      "State Labels: {0: 'bullish', 2: 'bearish', 1: 'neutral'}\n",
      "               timestamp      open     close  log_return  state market_state\n",
      "25   2024-04-01 17:00:00  68576.38  68751.06    0.002485      1      neutral\n",
      "26   2024-04-01 18:00:00  68745.64  68941.19    0.002762      1      neutral\n",
      "27   2024-04-01 19:00:00  68941.19  69709.52    0.011083      2      bearish\n",
      "28   2024-04-01 20:00:00  69709.49  69769.94    0.000866      1      neutral\n",
      "29   2024-04-01 21:00:00  69769.94  69616.43   -0.002203      1      neutral\n",
      "...                  ...       ...       ...         ...    ...          ...\n",
      "8995 2025-04-10 11:00:00  81722.40  81829.71    0.001312      2      bearish\n",
      "8996 2025-04-10 12:00:00  81829.71  81672.02   -0.001929      2      bearish\n",
      "8997 2025-04-10 13:00:00  81673.27  80812.99   -0.010574      2      bearish\n",
      "8998 2025-04-10 14:00:00  80815.24  81218.13    0.005001      2      bearish\n",
      "8999 2025-04-10 15:00:00  81215.26  78692.32   -0.031593      2      bearish\n",
      "\n",
      "[8975 rows x 6 columns]\n"
     ]
    },
    {
     "name": "stderr",
     "output_type": "stream",
     "text": [
      "        49 -882363.56276219      +0.18895484\n",
      "        50 -882363.39411504      +0.16864715\n",
      "        51 -882363.24428837      +0.14982667\n",
      "        52 -882363.11184601      +0.13244236\n",
      "        53 -882362.99537953      +0.11646648\n",
      "        54 -882362.89350509      +0.10187444\n",
      "        55 -882362.80486863      +0.08863646\n",
      "        56 -882362.72815503      +0.07671360\n",
      "        57 -882362.66210299      +0.06605204\n",
      "        58 -882362.60551633      +0.05658665\n",
      "        59 -882362.55727599      +0.04824035\n",
      "        60 -882362.51634683      +0.04092916\n",
      "        61 -882362.48178184      +0.03456499\n",
      "        62 -882362.45272496      +0.02905689\n",
      "        63 -882362.42840921      +0.02431575\n",
      "        64 -882362.40815298      +0.02025623\n",
      "        65 -882362.39135657      +0.01679641\n",
      "        66 -882362.37749479      +0.01386179\n",
      "        67 -882362.36611201      +0.01138277\n",
      "        68 -882362.35681419      +0.00929783\n"
     ]
    }
   ],
   "source": [
    "bt.set_data(market_data_fetcher.saved_filepath)\n",
    "bt.set_strategy(HMMStrategy(market_data_fetcher.saved_filepath, market_data_fetcher.saved_filepath, bullish_threshold=0.4, bearish_threshold=0.3))"
   ]
  },
  {
   "cell_type": "code",
   "execution_count": 14,
   "id": "fcc7cef0",
   "metadata": {},
   "outputs": [
    {
     "name": "stdout",
     "output_type": "stream",
     "text": [
      "9000\n",
      "8974\n",
      "8975\n"
     ]
    }
   ],
   "source": [
    "bt.run()"
   ]
  },
  {
   "cell_type": "code",
   "execution_count": 15,
   "id": "ff767422",
   "metadata": {},
   "outputs": [
    {
     "name": "stdout",
     "output_type": "stream",
     "text": [
      "Start Trade Date: 2024-04-01 17:00:00\n",
      "End Trade Date: 2025-04-10 15:00:00\n",
      "Final Portfolio Value: 814675.2652860025\n",
      "Total Return (%): -18.532473471399747\n",
      "Number of Trades: 240\n",
      "Win Rate (%): 0.0\n",
      "Max Drawdown (%): -2.29\n",
      "Sharpe Ratio: -0.03\n"
     ]
    }
   ],
   "source": [
    "performance = bt.get_performance_results()\n",
    "\n",
    "for key, value in performance.items():\n",
    "    print(f\"{key}: {value}\")"
   ]
  },
  {
   "cell_type": "code",
   "execution_count": 16,
   "id": "5af9c339",
   "metadata": {},
   "outputs": [
    {
     "name": "stdout",
     "output_type": "stream",
     "text": [
      "Trade logs saved to backtest_trade_logs.csv\n"
     ]
    }
   ],
   "source": [
    "bt.get_trade_logs_csv()"
   ]
  }
 ],
 "metadata": {
  "kernelspec": {
   "display_name": "base",
   "language": "python",
   "name": "python3"
  },
  "language_info": {
   "codemirror_mode": {
    "name": "ipython",
    "version": 3
   },
   "file_extension": ".py",
   "mimetype": "text/x-python",
   "name": "python",
   "nbconvert_exporter": "python",
   "pygments_lexer": "ipython3",
   "version": "3.11.7"
  }
 },
 "nbformat": 4,
 "nbformat_minor": 5
}
