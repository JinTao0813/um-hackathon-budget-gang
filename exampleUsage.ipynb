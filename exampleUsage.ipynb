{
 "cells": [
  {
   "cell_type": "markdown",
   "id": "d767f83b",
   "metadata": {},
   "source": [
    "## Install modules to environment"
   ]
  },
  {
   "cell_type": "code",
   "execution_count": 1,
   "id": "f955709c",
   "metadata": {},
   "outputs": [
    {
     "name": "stdout",
     "output_type": "stream",
     "text": [
      "Requirement already satisfied: pandas in /opt/anaconda3/lib/python3.11/site-packages (2.1.4)\n",
      "Requirement already satisfied: numpy in /opt/anaconda3/lib/python3.11/site-packages (1.26.4)\n",
      "Requirement already satisfied: requests in /opt/anaconda3/lib/python3.11/site-packages (2.31.0)\n",
      "Requirement already satisfied: importlib in /opt/anaconda3/lib/python3.11/site-packages (1.0.4)\n",
      "Requirement already satisfied: seaborn in /opt/anaconda3/lib/python3.11/site-packages (0.12.2)\n",
      "Requirement already satisfied: matplotlib in /opt/anaconda3/lib/python3.11/site-packages (3.10.0)\n",
      "Requirement already satisfied: python-dateutil>=2.8.2 in /opt/anaconda3/lib/python3.11/site-packages (from pandas) (2.8.2)\n",
      "Requirement already satisfied: pytz>=2020.1 in /opt/anaconda3/lib/python3.11/site-packages (from pandas) (2023.3.post1)\n",
      "Requirement already satisfied: tzdata>=2022.1 in /opt/anaconda3/lib/python3.11/site-packages (from pandas) (2023.3)\n",
      "Requirement already satisfied: charset-normalizer<4,>=2 in /opt/anaconda3/lib/python3.11/site-packages (from requests) (2.0.4)\n",
      "Requirement already satisfied: idna<4,>=2.5 in /opt/anaconda3/lib/python3.11/site-packages (from requests) (3.4)\n",
      "Requirement already satisfied: urllib3<3,>=1.21.1 in /opt/anaconda3/lib/python3.11/site-packages (from requests) (2.0.7)\n",
      "Requirement already satisfied: certifi>=2017.4.17 in /opt/anaconda3/lib/python3.11/site-packages (from requests) (2024.12.14)\n",
      "Requirement already satisfied: contourpy>=1.0.1 in /opt/anaconda3/lib/python3.11/site-packages (from matplotlib) (1.2.0)\n",
      "Requirement already satisfied: cycler>=0.10 in /opt/anaconda3/lib/python3.11/site-packages (from matplotlib) (0.11.0)\n",
      "Requirement already satisfied: fonttools>=4.22.0 in /opt/anaconda3/lib/python3.11/site-packages (from matplotlib) (4.25.0)\n",
      "Requirement already satisfied: kiwisolver>=1.3.1 in /opt/anaconda3/lib/python3.11/site-packages (from matplotlib) (1.4.4)\n",
      "Requirement already satisfied: packaging>=20.0 in /opt/anaconda3/lib/python3.11/site-packages (from matplotlib) (24.2)\n",
      "Requirement already satisfied: pillow>=8 in /opt/anaconda3/lib/python3.11/site-packages (from matplotlib) (10.2.0)\n",
      "Requirement already satisfied: pyparsing>=2.3.1 in /opt/anaconda3/lib/python3.11/site-packages (from matplotlib) (3.0.9)\n",
      "Requirement already satisfied: six>=1.5 in /opt/anaconda3/lib/python3.11/site-packages (from python-dateutil>=2.8.2->pandas) (1.16.0)\n",
      "Note: you may need to restart the kernel to use updated packages.\n"
     ]
    }
   ],
   "source": [
    "%pip install pandas numpy requests importlib seaborn matplotlib"
   ]
  },
  {
   "cell_type": "markdown",
   "id": "5137dcce",
   "metadata": {},
   "source": [
    "## Import modules"
   ]
  },
  {
   "cell_type": "code",
   "execution_count": null,
   "id": "8d6e0611",
   "metadata": {},
   "outputs": [],
   "source": [
    "from Backtesting.dataFetchers.marketDataFetchers import CoinbaseFetcher\n",
    "from Backtesting.dataFetchers.onChainMetricsFetchers import CryptoQuantFetcher\n",
    "from Backtesting.dataFetchers.onChainMetricsFetchers import CryptoQuantFetcherWithoutExchange\n",
    "from Backtesting.backtest import Backtest\n",
    "from Backtesting.strategies.marketRegimeStrategy import MarketRegimeStrategy\n",
    "\n",
    "from datetime import datetime\n",
    "\n"
   ]
  },
  {
   "cell_type": "markdown",
   "id": "dac0535b",
   "metadata": {},
   "source": [
    "## Fetch Data"
   ]
  },
  {
   "cell_type": "markdown",
   "id": "b66e005f",
   "metadata": {},
   "source": [
    "Input API key and desired interval and window"
   ]
  },
  {
   "cell_type": "code",
   "execution_count": 3,
   "id": "a1dc5a33",
   "metadata": {},
   "outputs": [],
   "source": [
    "API_KEY = \"GlYxSZP9hnooNl6gGAjtkptkeqehSnk5C60Akhpw5zupBK6O\"\n",
    "LIMIT = 1000\n"
   ]
  },
  {
   "cell_type": "markdown",
   "id": "03697dc9",
   "metadata": {},
   "source": [
    "### Market Data"
   ]
  },
  {
   "cell_type": "code",
   "execution_count": 4,
   "id": "0e391637",
   "metadata": {},
   "outputs": [],
   "source": [
    "MARKET_DATA_BASE_URL = \"https://api.datasource.cybotrade.rs/coinbase/candle\"\n",
    "\n",
    "SYMBOL = \"BTC-USD\" # Can be any symbol available on Coinbase\n",
    "INTERVAL = \"1h\" # Can be any interval such as \"1d\", \"1h\", \"15m\", etc."
   ]
  },
  {
   "cell_type": "code",
   "execution_count": 5,
   "id": "bb7a99db",
   "metadata": {},
   "outputs": [],
   "source": [
    "# start_time = int(datetime(2023, 1, 1).timestamp() * 1000)\n",
    "# end_time = int(datetime(2024, 12, 31, 23, 59).timestamp() * 1000)\n",
    "\n",
    "bt_start_time = int(datetime(2025, 1, 1).timestamp() * 1000)\n",
    "bt_end_time = int(datetime(2025, 2, 1, 23, 59).timestamp() * 1000)\n"
   ]
  },
  {
   "cell_type": "code",
   "execution_count": null,
   "id": "b23e8d70",
   "metadata": {},
   "outputs": [
    {
     "name": "stdout",
     "output_type": "stream",
     "text": [
      "Fetching 1h data for BTC-USD from 2024-12-31 16:00:00 to 2025-02-01 15:59:00...\n",
      "✅ Retrieved 1000 candles. Total: 1000\n",
      "💾 Saved to datasets/BTC-USD_1h_Training data_1739260800000_to_1738425540000.csv with 1000 rows.\n",
      "                         open      high       low     close      volume\n",
      "timestamp                                                              \n",
      "2025-02-11 03:00:00  97787.69  97796.85  97500.00  97630.42   84.345552\n",
      "2025-02-11 04:00:00  97630.42  98232.79  97568.86  98085.23  141.116882\n",
      "2025-02-11 05:00:00  98085.23  98500.00  98027.69  98443.12  277.663043\n",
      "2025-02-11 06:00:00  98449.56  98500.00  98146.55  98443.69  112.050681\n",
      "2025-02-11 07:00:00  98438.68  98480.15  98270.35  98282.91  199.445262\n"
     ]
    }
   ],
   "source": [
    "market_data_fetcher = CoinbaseFetcher(API_KEY, MARKET_DATA_BASE_URL, SYMBOL, LIMIT)\n",
    "market_data_fetcher.fetch(bt_start_time, bt_end_time, INTERVAL)\n",
    "\n"
   ]
  },
  {
   "cell_type": "markdown",
   "id": "4e998221",
   "metadata": {},
   "source": [
    "### On Chain Metrics Data (TBU)"
   ]
  },
  {
   "cell_type": "code",
   "execution_count": 7,
   "id": "65b728d6",
   "metadata": {},
   "outputs": [],
   "source": [
    "ONCHAIN_API_KEY = \"GlYxSZP9hnooNl6gGAjtkptkeqehSnk5C60Akhpw5zupBK6O\"\n",
    "ONCHAIN_DATA_BASE_URL = \"https://api.datasource.cybotrade.rs/cryptoquant\"\n",
    "EXCHANGE = \"binance\" # Can be any exchange available on CryptoQuant\n",
    "CURRENCY = \"btc\" # Can be any symbol available on CryptoQuant\n",
    "ON_CHAIN_LIMIT = 20000 # Number of data points to fetch\n",
    "\n",
    "\n",
    "netflow_window = \"hour\" # Can be any window such as \"day\", \"hour\", \"block\", etc\n",
    "netflow_endpoint_category = \"exchange-flows\"\n",
    "netflow_metric = \"netflow\"\n",
    "\n",
    "mvrv_window = \"day\"\n",
    "mvrv_endpoint_category = \"market-indicator\"\n",
    "mvrv_metric = \"mvrv\"\n",
    "\n",
    "sopr_window = \"day\"\n",
    "sopr_endpoint_category = \"market-indicator\"\n",
    "sopr_metric = \"sopr-ratio\"\n",
    "\n",
    "nupl_window = \"day\"\n",
    "nupl_endpoint_category = \"network-indicator\"\n",
    "nupl_metric = \"nupl\"\n",
    "\n",
    "cdd_window = \"day\"\n",
    "cdd_endpoint_category = \"network-indicator\"\n",
    "cdd_metric = \"cdd\"\n",
    "\n",
    "puell_multiple_window = \"day\"\n",
    "puell_multiple_endpoint_category = \"network-indicator\"\n",
    "puell_multiple_metric = \"puell-multiple\"\n",
    "\n",
    "hashrate_window = \"hour\"\n",
    "hashrate_endpoint_category = \"network-data\"\n",
    "hashrate_metric = \"hashrate\"\n"
   ]
  },
  {
   "cell_type": "code",
   "execution_count": null,
   "id": "fe69a656",
   "metadata": {},
   "outputs": [
    {
     "name": "stdout",
     "output_type": "stream",
     "text": [
      "Fetching exchange-flows/netflow data for btc from binance with window 'hour'...\n",
      "Using start_time + limit=1000 from 2024-12-31 16:00:00\n",
      "✅ Retrieved 1000 records. Total so far: 1000\n",
      "💾 Saved to datasets/binance_netflow_hour_Training data_1735660800000_to_1738425540000.csv with 1000 rows.\n",
      "                     netflow_total\n",
      "timestamp                         \n",
      "2025-02-11 03:00:00    1019.021218\n",
      "2025-02-11 04:00:00     -33.755179\n",
      "2025-02-11 05:00:00     -80.849584\n",
      "2025-02-11 06:00:00     258.424643\n",
      "2025-02-11 07:00:00    -698.573172\n",
      "Fetching market-indicator/mvrv data for btc with window 'day'...\n",
      "Using start_time + limit=1000 from 2024-12-31 16:00:00\n",
      "✅ Retrieved 101 records. Total so far: 101\n",
      "💾 Saved to datasets/mvrv_day_Training data_1735660800000_to_1738425540000.csv with 101 rows.\n",
      "                mvrv\n",
      "timestamp           \n",
      "2025-04-07  1.805533\n",
      "2025-04-08  1.740237\n",
      "2025-04-09  1.883966\n",
      "2025-04-10  1.813297\n",
      "2025-04-11  1.900316\n",
      "Fetching market-indicator/sopr-ratio data for btc with window 'day'...\n",
      "Using start_time + limit=1000 from 2024-12-31 16:00:00\n",
      "✅ Retrieved 101 records. Total so far: 101\n",
      "💾 Saved to datasets/sopr-ratio_day_Training data_1735660800000_to_1738425540000.csv with 101 rows.\n",
      "            sopr_ratio\n",
      "timestamp             \n",
      "2025-04-07    2.573112\n",
      "2025-04-08    1.943868\n",
      "2025-04-09    1.853767\n",
      "2025-04-10    2.792736\n",
      "2025-04-11    2.413399\n",
      "Fetching network-indicator/nupl data for btc with window 'day'...\n",
      "Using start_time + limit=1000 from 2024-12-31 16:00:00\n",
      "✅ Retrieved 101 records. Total so far: 101\n",
      "💾 Saved to datasets/nupl_day_Training data_1735660800000_to_1738425540000.csv with 101 rows.\n",
      "                nupl       nup       nul\n",
      "timestamp                               \n",
      "2025-04-07  0.446147  0.498281  0.045036\n",
      "2025-04-08  0.425366  0.483522  0.057841\n",
      "2025-04-09  0.469205  0.504299  0.034169\n",
      "2025-04-10  0.448518  0.493708  0.044486\n",
      "2025-04-11  0.473772  0.506380  0.031087\n",
      "Fetching network-indicator/cdd data for btc with window 'day'...\n",
      "Using start_time + limit=1000 from 2024-12-31 16:00:00\n",
      "✅ Retrieved 101 records. Total so far: 101\n",
      "💾 Saved to datasets/cdd_day_Training data_1735660800000_to_1738425540000.csv with 101 rows.\n",
      "                     cdd    sa_cdd  average_sa_cdd binary_cdd\n",
      "timestamp                                                    \n",
      "2025-04-07  3.087407e+07  1.555513        0.544012          1\n",
      "2025-04-08  8.130117e+06  0.409606        0.543989          0\n",
      "2025-04-09  1.471287e+07  0.741239        0.544022          1\n",
      "2025-04-10  2.432957e+07  1.225703        0.544137          1\n",
      "2025-04-11  1.881549e+07  0.947886        0.544205          1\n",
      "Fetching network-indicator/puell-multiple data for btc with window 'day'...\n",
      "Using start_time + limit=1000 from 2024-12-31 16:00:00\n",
      "✅ Retrieved 101 records. Total so far: 101\n",
      "💾 Saved to datasets/puell-multiple_day_Training data_1735660800000_to_1738425540000.csv with 101 rows.\n",
      "            puell_multiple\n",
      "timestamp                 \n",
      "2025-04-07        0.953332\n",
      "2025-04-08        1.019424\n",
      "2025-04-09        0.864467\n",
      "2025-04-10        0.990805\n",
      "2025-04-11        1.037326\n",
      "Fetching network-data/hashrate data for btc with window 'hour'...\n",
      "Using start_time + limit=1000 from 2024-12-31 16:00:00\n",
      "✅ Retrieved 1000 records. Total so far: 1000\n",
      "💾 Saved to datasets/hashrate_hour_Training data_1735660800000_to_1738425540000.csv with 1000 rows.\n",
      "                         hashrate\n",
      "timestamp                        \n",
      "2025-02-11 03:00:00  5.448274e+11\n",
      "2025-02-11 04:00:00  2.724137e+11\n",
      "2025-02-11 05:00:00  5.448274e+11\n",
      "2025-02-11 06:00:00  1.225862e+12\n",
      "2025-02-11 07:00:00  5.448274e+11\n"
     ]
    }
   ],
   "source": [
    "on_chain_fetcher = CryptoQuantFetcher(API_KEY, ONCHAIN_DATA_BASE_URL, CURRENCY, netflow_endpoint_category, netflow_metric, EXCHANGE, ON_CHAIN_LIMIT)\n",
    "on_chain_fetcher.fetch_netflow(netflow_window, bt_start_time, bt_end_time)\n",
    "\n",
    "on_chain_fetcher_without_exchange_mvrv = CryptoQuantFetcherWithoutExchange(API_KEY, ONCHAIN_DATA_BASE_URL, CURRENCY, mvrv_endpoint_category, mvrv_metric, ON_CHAIN_LIMIT)\n",
    "on_chain_fetcher_without_exchange_sopr = CryptoQuantFetcherWithoutExchange(API_KEY, ONCHAIN_DATA_BASE_URL, CURRENCY,  sopr_endpoint_category, sopr_metric, ON_CHAIN_LIMIT)\n",
    "on_chain_fetcher_without_exchange_nupl = CryptoQuantFetcherWithoutExchange(API_KEY, ONCHAIN_DATA_BASE_URL, CURRENCY, nupl_endpoint_category, nupl_metric, ON_CHAIN_LIMIT)\n",
    "on_chain_fetcher_without_exchange_cdd = CryptoQuantFetcherWithoutExchange(API_KEY, ONCHAIN_DATA_BASE_URL, CURRENCY, cdd_endpoint_category, cdd_metric, ON_CHAIN_LIMIT)\n",
    "on_chain_fetcher_without_exchange_puell_multiple = CryptoQuantFetcherWithoutExchange(API_KEY, ONCHAIN_DATA_BASE_URL, CURRENCY, puell_multiple_endpoint_category, puell_multiple_metric, ON_CHAIN_LIMIT)\n",
    "on_chain_fetcher_without_exchange_hashrate = CryptoQuantFetcherWithoutExchange(API_KEY, ONCHAIN_DATA_BASE_URL, CURRENCY, hashrate_endpoint_category, hashrate_metric, ON_CHAIN_LIMIT)\n",
    "on_chain_fetcher_without_exchange_mvrv.fetch_mvrv(mvrv_window, bt_start_time, bt_end_time)\n",
    "on_chain_fetcher_without_exchange_sopr.fetch_sopr(sopr_window, bt_start_time, bt_end_time)\n",
    "on_chain_fetcher_without_exchange_nupl.fetch_nupl(nupl_window, bt_start_time, bt_end_time)\n",
    "on_chain_fetcher_without_exchange_cdd.fetch_cdd(cdd_window, bt_start_time, bt_end_time)\n",
    "on_chain_fetcher_without_exchange_puell_multiple.fetch_puell_multiple(puell_multiple_window, bt_start_time, bt_end_time)\n",
    "on_chain_fetcher_without_exchange_hashrate.fetch_hashrate(hashrate_window, bt_start_time, bt_end_time)"
   ]
  },
  {
   "cell_type": "markdown",
   "id": "ae7fb549",
   "metadata": {},
   "source": [
    "## Perform Backtesting"
   ]
  },
  {
   "cell_type": "code",
   "execution_count": null,
   "id": "337fadc7",
   "metadata": {},
   "outputs": [
    {
     "name": "stdout",
     "output_type": "stream",
     "text": [
      "Converged: True\n",
      "Final log likelihood: -91556.22759402054\n",
      "State Labels: {2: 'bullish', 0: 'bearish', 1: 'neutral'}\n",
      "              timestamp      open     close  log_return  state market_state\n",
      "25  2025-01-01 17:00:00  93877.70  93924.22    0.000495      2      bullish\n",
      "26  2025-01-01 18:00:00  93922.41  94123.99    0.002125      2      bullish\n",
      "27  2025-01-01 19:00:00  94119.22  94434.89    0.003298      2      bullish\n",
      "28  2025-01-01 20:00:00  94427.86  94597.57    0.001721      2      bullish\n",
      "29  2025-01-01 21:00:00  94591.04  94776.87    0.001894      2      bullish\n",
      "..                  ...       ...       ...         ...    ...          ...\n",
      "995 2025-02-11 03:00:00  97787.69  97630.42   -0.001609      1      neutral\n",
      "996 2025-02-11 04:00:00  97630.42  98085.23    0.004648      1      neutral\n",
      "997 2025-02-11 05:00:00  98085.23  98443.12    0.003642      1      neutral\n",
      "998 2025-02-11 06:00:00  98449.56  98443.69    0.000006      1      neutral\n",
      "999 2025-02-11 07:00:00  98438.68  98282.91   -0.001635      1      neutral\n",
      "\n",
      "[975 rows x 6 columns]\n"
     ]
    },
    {
     "name": "stderr",
     "output_type": "stream",
     "text": [
      "         1  -98961.07211874             +nan\n",
      "         2  -92569.50472465   +6391.56739409\n",
      "         3  -91835.69370609    +733.81101856\n",
      "         4  -91680.15452687    +155.53917922\n",
      "         5  -91590.10613657     +90.04839030\n",
      "         6  -91576.76534647     +13.34079010\n",
      "         7  -91571.56113769      +5.20420878\n",
      "         8  -91562.57296299      +8.98817471\n",
      "         9  -91557.25779069      +5.31517230\n",
      "        10  -91556.37692224      +0.88086845\n",
      "        11  -91556.26323843      +0.11368381\n",
      "        12  -91556.23591332      +0.02732510\n",
      "        13  -91556.22759402      +0.00831930\n"
     ]
    }
   ],
   "source": [
    "bt = Backtest(market_data_fetcher.saved_filepath, MarketRegimeStrategy(market_data_fetcher.saved_filepath, market_data_fetcher.saved_filepath, 0.5, 0.5), 100000, 30, 0.0006)"
   ]
  },
  {
   "cell_type": "markdown",
   "id": "a5f027ba",
   "metadata": {},
   "source": [
    "## Identify the best threshold from heatmap"
   ]
  },
  {
   "cell_type": "code",
   "execution_count": 10,
   "id": "5421a192",
   "metadata": {},
   "outputs": [
    {
     "name": "stdout",
     "output_type": "stream",
     "text": [
      "bullish range:  [0.4  0.45 0.5  0.55 0.6  0.65 0.7 ]\n",
      "bearish range:  [0.3  0.35 0.4  0.45 0.5  0.55 0.6 ]\n",
      "Running with bullish=0.40, bearish=0.30\n",
      "1000\n",
      "{'Start Trade Date': '2024-12-31 16:00:00', 'End Trade Date': '2025-02-11 07:00:00', 'Final Portfolio Value': 107500.92820600003, 'Total Return (%)': 7.500928206000027, 'Number of Trades': 20, 'Win Rate (%)': 0.0, 'Max Drawdown (%)': -1.16, 'Sharpe Ratio': 2.03}\n",
      "Result for bullish=0.40, bearish=0.30: 2.03\n",
      "Running with bullish=0.40, bearish=0.35\n",
      "1000\n",
      "{'Start Trade Date': '2024-12-31 16:00:00', 'End Trade Date': '2025-02-11 07:00:00', 'Final Portfolio Value': 107500.92820600003, 'Total Return (%)': 7.500928206000027, 'Number of Trades': 20, 'Win Rate (%)': 0.0, 'Max Drawdown (%)': -1.16, 'Sharpe Ratio': 2.03}\n",
      "Result for bullish=0.40, bearish=0.35: 2.03\n",
      "Running with bullish=0.40, bearish=0.40\n",
      "1000\n",
      "{'Start Trade Date': '2024-12-31 16:00:00', 'End Trade Date': '2025-02-11 07:00:00', 'Final Portfolio Value': 107500.92820600003, 'Total Return (%)': 7.500928206000027, 'Number of Trades': 20, 'Win Rate (%)': 0.0, 'Max Drawdown (%)': -1.16, 'Sharpe Ratio': 2.03}\n",
      "Result for bullish=0.40, bearish=0.40: 2.03\n",
      "Running with bullish=0.40, bearish=0.45\n",
      "1000\n",
      "{'Start Trade Date': '2024-12-31 16:00:00', 'End Trade Date': '2025-02-11 07:00:00', 'Final Portfolio Value': 107500.92820600003, 'Total Return (%)': 7.500928206000027, 'Number of Trades': 20, 'Win Rate (%)': 0.0, 'Max Drawdown (%)': -1.16, 'Sharpe Ratio': 2.03}\n",
      "Result for bullish=0.40, bearish=0.45: 2.03\n",
      "Running with bullish=0.40, bearish=0.50\n",
      "1000\n",
      "{'Start Trade Date': '2024-12-31 16:00:00', 'End Trade Date': '2025-02-11 07:00:00', 'Final Portfolio Value': 107500.92820600003, 'Total Return (%)': 7.500928206000027, 'Number of Trades': 20, 'Win Rate (%)': 0.0, 'Max Drawdown (%)': -1.16, 'Sharpe Ratio': 2.03}\n",
      "Result for bullish=0.40, bearish=0.50: 2.03\n",
      "Running with bullish=0.40, bearish=0.55\n",
      "1000\n",
      "{'Start Trade Date': '2024-12-31 16:00:00', 'End Trade Date': '2025-02-11 07:00:00', 'Final Portfolio Value': 107500.92820600003, 'Total Return (%)': 7.500928206000027, 'Number of Trades': 20, 'Win Rate (%)': 0.0, 'Max Drawdown (%)': -1.16, 'Sharpe Ratio': 2.03}\n",
      "Result for bullish=0.40, bearish=0.55: 2.03\n",
      "Running with bullish=0.40, bearish=0.60\n",
      "1000\n",
      "{'Start Trade Date': '2024-12-31 16:00:00', 'End Trade Date': '2025-02-11 07:00:00', 'Final Portfolio Value': 107500.92820600003, 'Total Return (%)': 7.500928206000027, 'Number of Trades': 20, 'Win Rate (%)': 0.0, 'Max Drawdown (%)': -1.16, 'Sharpe Ratio': 2.03}\n",
      "Result for bullish=0.40, bearish=0.60: 2.03\n",
      "Running with bullish=0.45, bearish=0.30\n",
      "1000\n",
      "{'Start Trade Date': '2024-12-31 16:00:00', 'End Trade Date': '2025-02-11 07:00:00', 'Final Portfolio Value': 107500.92820600003, 'Total Return (%)': 7.500928206000027, 'Number of Trades': 20, 'Win Rate (%)': 0.0, 'Max Drawdown (%)': -1.16, 'Sharpe Ratio': 2.03}\n",
      "Result for bullish=0.45, bearish=0.30: 2.03\n",
      "Running with bullish=0.45, bearish=0.35\n",
      "1000\n",
      "{'Start Trade Date': '2024-12-31 16:00:00', 'End Trade Date': '2025-02-11 07:00:00', 'Final Portfolio Value': 107500.92820600003, 'Total Return (%)': 7.500928206000027, 'Number of Trades': 20, 'Win Rate (%)': 0.0, 'Max Drawdown (%)': -1.16, 'Sharpe Ratio': 2.03}\n",
      "Result for bullish=0.45, bearish=0.35: 2.03\n",
      "Running with bullish=0.45, bearish=0.40\n",
      "1000\n",
      "{'Start Trade Date': '2024-12-31 16:00:00', 'End Trade Date': '2025-02-11 07:00:00', 'Final Portfolio Value': 107500.92820600003, 'Total Return (%)': 7.500928206000027, 'Number of Trades': 20, 'Win Rate (%)': 0.0, 'Max Drawdown (%)': -1.16, 'Sharpe Ratio': 2.03}\n",
      "Result for bullish=0.45, bearish=0.40: 2.03\n",
      "Running with bullish=0.45, bearish=0.45\n",
      "1000\n",
      "{'Start Trade Date': '2024-12-31 16:00:00', 'End Trade Date': '2025-02-11 07:00:00', 'Final Portfolio Value': 107500.92820600003, 'Total Return (%)': 7.500928206000027, 'Number of Trades': 20, 'Win Rate (%)': 0.0, 'Max Drawdown (%)': -1.16, 'Sharpe Ratio': 2.03}\n",
      "Result for bullish=0.45, bearish=0.45: 2.03\n",
      "Running with bullish=0.45, bearish=0.50\n",
      "1000\n",
      "{'Start Trade Date': '2024-12-31 16:00:00', 'End Trade Date': '2025-02-11 07:00:00', 'Final Portfolio Value': 107500.92820600003, 'Total Return (%)': 7.500928206000027, 'Number of Trades': 20, 'Win Rate (%)': 0.0, 'Max Drawdown (%)': -1.16, 'Sharpe Ratio': 2.03}\n",
      "Result for bullish=0.45, bearish=0.50: 2.03\n",
      "Running with bullish=0.45, bearish=0.55\n",
      "1000\n",
      "{'Start Trade Date': '2024-12-31 16:00:00', 'End Trade Date': '2025-02-11 07:00:00', 'Final Portfolio Value': 107500.92820600003, 'Total Return (%)': 7.500928206000027, 'Number of Trades': 20, 'Win Rate (%)': 0.0, 'Max Drawdown (%)': -1.16, 'Sharpe Ratio': 2.03}\n",
      "Result for bullish=0.45, bearish=0.55: 2.03\n",
      "Running with bullish=0.45, bearish=0.60\n",
      "1000\n",
      "{'Start Trade Date': '2024-12-31 16:00:00', 'End Trade Date': '2025-02-11 07:00:00', 'Final Portfolio Value': 107500.92820600003, 'Total Return (%)': 7.500928206000027, 'Number of Trades': 20, 'Win Rate (%)': 0.0, 'Max Drawdown (%)': -1.16, 'Sharpe Ratio': 2.03}\n",
      "Result for bullish=0.45, bearish=0.60: 2.03\n",
      "Running with bullish=0.50, bearish=0.30\n",
      "1000\n",
      "{'Start Trade Date': '2024-12-31 16:00:00', 'End Trade Date': '2025-02-11 07:00:00', 'Final Portfolio Value': 107500.92820600003, 'Total Return (%)': 7.500928206000027, 'Number of Trades': 20, 'Win Rate (%)': 0.0, 'Max Drawdown (%)': -1.16, 'Sharpe Ratio': 2.03}\n",
      "Result for bullish=0.50, bearish=0.30: 2.03\n",
      "Running with bullish=0.50, bearish=0.35\n",
      "1000\n",
      "{'Start Trade Date': '2024-12-31 16:00:00', 'End Trade Date': '2025-02-11 07:00:00', 'Final Portfolio Value': 107500.92820600003, 'Total Return (%)': 7.500928206000027, 'Number of Trades': 20, 'Win Rate (%)': 0.0, 'Max Drawdown (%)': -1.16, 'Sharpe Ratio': 2.03}\n",
      "Result for bullish=0.50, bearish=0.35: 2.03\n",
      "Running with bullish=0.50, bearish=0.40\n",
      "1000\n",
      "{'Start Trade Date': '2024-12-31 16:00:00', 'End Trade Date': '2025-02-11 07:00:00', 'Final Portfolio Value': 107500.92820600003, 'Total Return (%)': 7.500928206000027, 'Number of Trades': 20, 'Win Rate (%)': 0.0, 'Max Drawdown (%)': -1.16, 'Sharpe Ratio': 2.03}\n",
      "Result for bullish=0.50, bearish=0.40: 2.03\n",
      "Running with bullish=0.50, bearish=0.45\n",
      "1000\n",
      "{'Start Trade Date': '2024-12-31 16:00:00', 'End Trade Date': '2025-02-11 07:00:00', 'Final Portfolio Value': 107500.92820600003, 'Total Return (%)': 7.500928206000027, 'Number of Trades': 20, 'Win Rate (%)': 0.0, 'Max Drawdown (%)': -1.16, 'Sharpe Ratio': 2.03}\n",
      "Result for bullish=0.50, bearish=0.45: 2.03\n",
      "Running with bullish=0.50, bearish=0.50\n",
      "1000\n",
      "{'Start Trade Date': '2024-12-31 16:00:00', 'End Trade Date': '2025-02-11 07:00:00', 'Final Portfolio Value': 107500.92820600003, 'Total Return (%)': 7.500928206000027, 'Number of Trades': 20, 'Win Rate (%)': 0.0, 'Max Drawdown (%)': -1.16, 'Sharpe Ratio': 2.03}\n",
      "Result for bullish=0.50, bearish=0.50: 2.03\n",
      "Running with bullish=0.50, bearish=0.55\n",
      "1000\n",
      "{'Start Trade Date': '2024-12-31 16:00:00', 'End Trade Date': '2025-02-11 07:00:00', 'Final Portfolio Value': 107500.92820600003, 'Total Return (%)': 7.500928206000027, 'Number of Trades': 20, 'Win Rate (%)': 0.0, 'Max Drawdown (%)': -1.16, 'Sharpe Ratio': 2.03}\n",
      "Result for bullish=0.50, bearish=0.55: 2.03\n",
      "Running with bullish=0.50, bearish=0.60\n",
      "1000\n",
      "{'Start Trade Date': '2024-12-31 16:00:00', 'End Trade Date': '2025-02-11 07:00:00', 'Final Portfolio Value': 107500.92820600003, 'Total Return (%)': 7.500928206000027, 'Number of Trades': 20, 'Win Rate (%)': 0.0, 'Max Drawdown (%)': -1.16, 'Sharpe Ratio': 2.03}\n",
      "Result for bullish=0.50, bearish=0.60: 2.03\n",
      "Running with bullish=0.55, bearish=0.30\n",
      "1000\n",
      "{'Start Trade Date': '2024-12-31 16:00:00', 'End Trade Date': '2025-02-11 07:00:00', 'Final Portfolio Value': 107500.92820600003, 'Total Return (%)': 7.500928206000027, 'Number of Trades': 20, 'Win Rate (%)': 0.0, 'Max Drawdown (%)': -1.16, 'Sharpe Ratio': 2.03}\n",
      "Result for bullish=0.55, bearish=0.30: 2.03\n",
      "Running with bullish=0.55, bearish=0.35\n",
      "1000\n",
      "{'Start Trade Date': '2024-12-31 16:00:00', 'End Trade Date': '2025-02-11 07:00:00', 'Final Portfolio Value': 107500.92820600003, 'Total Return (%)': 7.500928206000027, 'Number of Trades': 20, 'Win Rate (%)': 0.0, 'Max Drawdown (%)': -1.16, 'Sharpe Ratio': 2.03}\n",
      "Result for bullish=0.55, bearish=0.35: 2.03\n",
      "Running with bullish=0.55, bearish=0.40\n",
      "1000\n",
      "{'Start Trade Date': '2024-12-31 16:00:00', 'End Trade Date': '2025-02-11 07:00:00', 'Final Portfolio Value': 107500.92820600003, 'Total Return (%)': 7.500928206000027, 'Number of Trades': 20, 'Win Rate (%)': 0.0, 'Max Drawdown (%)': -1.16, 'Sharpe Ratio': 2.03}\n",
      "Result for bullish=0.55, bearish=0.40: 2.03\n",
      "Running with bullish=0.55, bearish=0.45\n",
      "1000\n",
      "{'Start Trade Date': '2024-12-31 16:00:00', 'End Trade Date': '2025-02-11 07:00:00', 'Final Portfolio Value': 107500.92820600003, 'Total Return (%)': 7.500928206000027, 'Number of Trades': 20, 'Win Rate (%)': 0.0, 'Max Drawdown (%)': -1.16, 'Sharpe Ratio': 2.03}\n",
      "Result for bullish=0.55, bearish=0.45: 2.03\n",
      "Running with bullish=0.55, bearish=0.50\n",
      "1000\n",
      "{'Start Trade Date': '2024-12-31 16:00:00', 'End Trade Date': '2025-02-11 07:00:00', 'Final Portfolio Value': 107500.92820600003, 'Total Return (%)': 7.500928206000027, 'Number of Trades': 20, 'Win Rate (%)': 0.0, 'Max Drawdown (%)': -1.16, 'Sharpe Ratio': 2.03}\n",
      "Result for bullish=0.55, bearish=0.50: 2.03\n",
      "Running with bullish=0.55, bearish=0.55\n",
      "1000\n",
      "{'Start Trade Date': '2024-12-31 16:00:00', 'End Trade Date': '2025-02-11 07:00:00', 'Final Portfolio Value': 107500.92820600003, 'Total Return (%)': 7.500928206000027, 'Number of Trades': 20, 'Win Rate (%)': 0.0, 'Max Drawdown (%)': -1.16, 'Sharpe Ratio': 2.03}\n",
      "Result for bullish=0.55, bearish=0.55: 2.03\n",
      "Running with bullish=0.55, bearish=0.60\n",
      "1000\n",
      "{'Start Trade Date': '2024-12-31 16:00:00', 'End Trade Date': '2025-02-11 07:00:00', 'Final Portfolio Value': 107500.92820600003, 'Total Return (%)': 7.500928206000027, 'Number of Trades': 20, 'Win Rate (%)': 0.0, 'Max Drawdown (%)': -1.16, 'Sharpe Ratio': 2.03}\n",
      "Result for bullish=0.55, bearish=0.60: 2.03\n",
      "Running with bullish=0.60, bearish=0.30\n",
      "1000\n",
      "{'Start Trade Date': '2024-12-31 16:00:00', 'End Trade Date': '2025-02-11 07:00:00', 'Final Portfolio Value': 107500.92820600003, 'Total Return (%)': 7.500928206000027, 'Number of Trades': 20, 'Win Rate (%)': 0.0, 'Max Drawdown (%)': -1.16, 'Sharpe Ratio': 2.03}\n",
      "Result for bullish=0.60, bearish=0.30: 2.03\n",
      "Running with bullish=0.60, bearish=0.35\n",
      "1000\n",
      "{'Start Trade Date': '2024-12-31 16:00:00', 'End Trade Date': '2025-02-11 07:00:00', 'Final Portfolio Value': 107500.92820600003, 'Total Return (%)': 7.500928206000027, 'Number of Trades': 20, 'Win Rate (%)': 0.0, 'Max Drawdown (%)': -1.16, 'Sharpe Ratio': 2.03}\n",
      "Result for bullish=0.60, bearish=0.35: 2.03\n",
      "Running with bullish=0.60, bearish=0.40\n",
      "1000\n",
      "{'Start Trade Date': '2024-12-31 16:00:00', 'End Trade Date': '2025-02-11 07:00:00', 'Final Portfolio Value': 107500.92820600003, 'Total Return (%)': 7.500928206000027, 'Number of Trades': 20, 'Win Rate (%)': 0.0, 'Max Drawdown (%)': -1.16, 'Sharpe Ratio': 2.03}\n",
      "Result for bullish=0.60, bearish=0.40: 2.03\n",
      "Running with bullish=0.60, bearish=0.45\n",
      "1000\n",
      "{'Start Trade Date': '2024-12-31 16:00:00', 'End Trade Date': '2025-02-11 07:00:00', 'Final Portfolio Value': 107500.92820600003, 'Total Return (%)': 7.500928206000027, 'Number of Trades': 20, 'Win Rate (%)': 0.0, 'Max Drawdown (%)': -1.16, 'Sharpe Ratio': 2.03}\n",
      "Result for bullish=0.60, bearish=0.45: 2.03\n",
      "Running with bullish=0.60, bearish=0.50\n",
      "1000\n",
      "{'Start Trade Date': '2024-12-31 16:00:00', 'End Trade Date': '2025-02-11 07:00:00', 'Final Portfolio Value': 107500.92820600003, 'Total Return (%)': 7.500928206000027, 'Number of Trades': 20, 'Win Rate (%)': 0.0, 'Max Drawdown (%)': -1.16, 'Sharpe Ratio': 2.03}\n",
      "Result for bullish=0.60, bearish=0.50: 2.03\n",
      "Running with bullish=0.60, bearish=0.55\n",
      "1000\n",
      "{'Start Trade Date': '2024-12-31 16:00:00', 'End Trade Date': '2025-02-11 07:00:00', 'Final Portfolio Value': 107500.92820600003, 'Total Return (%)': 7.500928206000027, 'Number of Trades': 20, 'Win Rate (%)': 0.0, 'Max Drawdown (%)': -1.16, 'Sharpe Ratio': 2.03}\n",
      "Result for bullish=0.60, bearish=0.55: 2.03\n",
      "Running with bullish=0.60, bearish=0.60\n",
      "1000\n",
      "{'Start Trade Date': '2024-12-31 16:00:00', 'End Trade Date': '2025-02-11 07:00:00', 'Final Portfolio Value': 107500.92820600003, 'Total Return (%)': 7.500928206000027, 'Number of Trades': 20, 'Win Rate (%)': 0.0, 'Max Drawdown (%)': -1.16, 'Sharpe Ratio': 2.03}\n",
      "Result for bullish=0.60, bearish=0.60: 2.03\n",
      "Running with bullish=0.65, bearish=0.30\n",
      "1000\n",
      "{'Start Trade Date': '2024-12-31 16:00:00', 'End Trade Date': '2025-02-11 07:00:00', 'Final Portfolio Value': 107842.40514200002, 'Total Return (%)': 7.842405142000018, 'Number of Trades': 20, 'Win Rate (%)': 0.0, 'Max Drawdown (%)': -1.16, 'Sharpe Ratio': 2.07}\n",
      "Result for bullish=0.65, bearish=0.30: 2.07\n",
      "Running with bullish=0.65, bearish=0.35\n",
      "1000\n",
      "{'Start Trade Date': '2024-12-31 16:00:00', 'End Trade Date': '2025-02-11 07:00:00', 'Final Portfolio Value': 107842.40514200002, 'Total Return (%)': 7.842405142000018, 'Number of Trades': 20, 'Win Rate (%)': 0.0, 'Max Drawdown (%)': -1.16, 'Sharpe Ratio': 2.07}\n",
      "Result for bullish=0.65, bearish=0.35: 2.07\n",
      "Running with bullish=0.65, bearish=0.40\n",
      "1000\n",
      "{'Start Trade Date': '2024-12-31 16:00:00', 'End Trade Date': '2025-02-11 07:00:00', 'Final Portfolio Value': 107842.40514200002, 'Total Return (%)': 7.842405142000018, 'Number of Trades': 20, 'Win Rate (%)': 0.0, 'Max Drawdown (%)': -1.16, 'Sharpe Ratio': 2.07}\n",
      "Result for bullish=0.65, bearish=0.40: 2.07\n",
      "Running with bullish=0.65, bearish=0.45\n",
      "1000\n",
      "{'Start Trade Date': '2024-12-31 16:00:00', 'End Trade Date': '2025-02-11 07:00:00', 'Final Portfolio Value': 107842.40514200002, 'Total Return (%)': 7.842405142000018, 'Number of Trades': 20, 'Win Rate (%)': 0.0, 'Max Drawdown (%)': -1.16, 'Sharpe Ratio': 2.07}\n",
      "Result for bullish=0.65, bearish=0.45: 2.07\n",
      "Running with bullish=0.65, bearish=0.50\n",
      "1000\n",
      "{'Start Trade Date': '2024-12-31 16:00:00', 'End Trade Date': '2025-02-11 07:00:00', 'Final Portfolio Value': 107842.40514200002, 'Total Return (%)': 7.842405142000018, 'Number of Trades': 20, 'Win Rate (%)': 0.0, 'Max Drawdown (%)': -1.16, 'Sharpe Ratio': 2.07}\n",
      "Result for bullish=0.65, bearish=0.50: 2.07\n",
      "Running with bullish=0.65, bearish=0.55\n",
      "1000\n",
      "{'Start Trade Date': '2024-12-31 16:00:00', 'End Trade Date': '2025-02-11 07:00:00', 'Final Portfolio Value': 107842.40514200002, 'Total Return (%)': 7.842405142000018, 'Number of Trades': 20, 'Win Rate (%)': 0.0, 'Max Drawdown (%)': -1.16, 'Sharpe Ratio': 2.07}\n",
      "Result for bullish=0.65, bearish=0.55: 2.07\n",
      "Running with bullish=0.65, bearish=0.60\n",
      "1000\n",
      "{'Start Trade Date': '2024-12-31 16:00:00', 'End Trade Date': '2025-02-11 07:00:00', 'Final Portfolio Value': 107842.40514200002, 'Total Return (%)': 7.842405142000018, 'Number of Trades': 20, 'Win Rate (%)': 0.0, 'Max Drawdown (%)': -1.16, 'Sharpe Ratio': 2.07}\n",
      "Result for bullish=0.65, bearish=0.60: 2.07\n",
      "Running with bullish=0.70, bearish=0.30\n",
      "1000\n",
      "{'Start Trade Date': '2024-12-31 16:00:00', 'End Trade Date': '2025-02-11 07:00:00', 'Final Portfolio Value': 107842.40514200002, 'Total Return (%)': 7.842405142000018, 'Number of Trades': 20, 'Win Rate (%)': 0.0, 'Max Drawdown (%)': -1.16, 'Sharpe Ratio': 2.07}\n",
      "Result for bullish=0.70, bearish=0.30: 2.07\n",
      "Running with bullish=0.70, bearish=0.35\n",
      "1000\n",
      "{'Start Trade Date': '2024-12-31 16:00:00', 'End Trade Date': '2025-02-11 07:00:00', 'Final Portfolio Value': 107842.40514200002, 'Total Return (%)': 7.842405142000018, 'Number of Trades': 20, 'Win Rate (%)': 0.0, 'Max Drawdown (%)': -1.16, 'Sharpe Ratio': 2.07}\n",
      "Result for bullish=0.70, bearish=0.35: 2.07\n",
      "Running with bullish=0.70, bearish=0.40\n",
      "1000\n",
      "{'Start Trade Date': '2024-12-31 16:00:00', 'End Trade Date': '2025-02-11 07:00:00', 'Final Portfolio Value': 107842.40514200002, 'Total Return (%)': 7.842405142000018, 'Number of Trades': 20, 'Win Rate (%)': 0.0, 'Max Drawdown (%)': -1.16, 'Sharpe Ratio': 2.07}\n",
      "Result for bullish=0.70, bearish=0.40: 2.07\n",
      "Running with bullish=0.70, bearish=0.45\n",
      "1000\n",
      "{'Start Trade Date': '2024-12-31 16:00:00', 'End Trade Date': '2025-02-11 07:00:00', 'Final Portfolio Value': 107842.40514200002, 'Total Return (%)': 7.842405142000018, 'Number of Trades': 20, 'Win Rate (%)': 0.0, 'Max Drawdown (%)': -1.16, 'Sharpe Ratio': 2.07}\n",
      "Result for bullish=0.70, bearish=0.45: 2.07\n",
      "Running with bullish=0.70, bearish=0.50\n",
      "1000\n",
      "{'Start Trade Date': '2024-12-31 16:00:00', 'End Trade Date': '2025-02-11 07:00:00', 'Final Portfolio Value': 107842.40514200002, 'Total Return (%)': 7.842405142000018, 'Number of Trades': 20, 'Win Rate (%)': 0.0, 'Max Drawdown (%)': -1.16, 'Sharpe Ratio': 2.07}\n",
      "Result for bullish=0.70, bearish=0.50: 2.07\n",
      "Running with bullish=0.70, bearish=0.55\n",
      "1000\n",
      "{'Start Trade Date': '2024-12-31 16:00:00', 'End Trade Date': '2025-02-11 07:00:00', 'Final Portfolio Value': 107842.40514200002, 'Total Return (%)': 7.842405142000018, 'Number of Trades': 20, 'Win Rate (%)': 0.0, 'Max Drawdown (%)': -1.16, 'Sharpe Ratio': 2.07}\n",
      "Result for bullish=0.70, bearish=0.55: 2.07\n",
      "Running with bullish=0.70, bearish=0.60\n",
      "1000\n",
      "{'Start Trade Date': '2024-12-31 16:00:00', 'End Trade Date': '2025-02-11 07:00:00', 'Final Portfolio Value': 107842.40514200002, 'Total Return (%)': 7.842405142000018, 'Number of Trades': 20, 'Win Rate (%)': 0.0, 'Max Drawdown (%)': -1.16, 'Sharpe Ratio': 2.07}\n",
      "Result for bullish=0.70, bearish=0.60: 2.07\n",
      "[[2.03, 2.03, 2.03, 2.03, 2.03, 2.03, 2.03], [2.03, 2.03, 2.03, 2.03, 2.03, 2.03, 2.03], [2.03, 2.03, 2.03, 2.03, 2.03, 2.03, 2.03], [2.03, 2.03, 2.03, 2.03, 2.03, 2.03, 2.03], [2.03, 2.03, 2.03, 2.03, 2.03, 2.03, 2.03], [2.07, 2.07, 2.07, 2.07, 2.07, 2.07, 2.07], [2.07, 2.07, 2.07, 2.07, 2.07, 2.07, 2.07]]\n",
      "heatmap_data:        0.30  0.35  0.40  0.45  0.50  0.55  0.60\n",
      "0.40  2.03  2.03  2.03  2.03  2.03  2.03  2.03\n",
      "0.45  2.03  2.03  2.03  2.03  2.03  2.03  2.03\n",
      "0.50  2.03  2.03  2.03  2.03  2.03  2.03  2.03\n",
      "0.55  2.03  2.03  2.03  2.03  2.03  2.03  2.03\n",
      "0.60  2.03  2.03  2.03  2.03  2.03  2.03  2.03\n",
      "0.65  2.07  2.07  2.07  2.07  2.07  2.07  2.07\n",
      "0.70  2.07  2.07  2.07  2.07  2.07  2.07  2.07\n"
     ]
    },
    {
     "data": {
      "image/png": "[encoded data removed]",
      "text/plain": [
       "<Figure size 1000x800 with 2 Axes>"
      ]
     },
     "metadata": {},
     "output_type": "display_data"
    }
   ],
   "source": [
    "bt.run_backtest_heatmap(metric='Sharpe Ratio')\n"
   ]
  },
  {
   "cell_type": "markdown",
   "id": "5af9c339",
   "metadata": {},
   "source": [
    "## Perform Forward Testing Using The Best Threshold"
   ]
  },
  {
   "cell_type": "markdown",
   "id": "667bd064",
   "metadata": {},
   "source": [
    "### Fetch / Load Foward Dataset"
   ]
  },
  {
   "cell_type": "code",
   "execution_count": 11,
   "id": "ba9e87c1",
   "metadata": {},
   "outputs": [],
   "source": [
    "\n",
    "ft_start_time = int(datetime(2025, 3, 1).timestamp() * 1000)\n",
    "ft_end_time = int(datetime(2025, 4, 1, 23, 59).timestamp() * 1000)\n"
   ]
  },
  {
   "cell_type": "code",
   "execution_count": null,
   "id": "41506cb3",
   "metadata": {},
   "outputs": [
    {
     "name": "stdout",
     "output_type": "stream",
     "text": [
      "Fetching 1h data for BTC-USD from 2025-02-28 16:00:00 to 2025-04-01 15:59:00...\n",
      "✅ Retrieved 1000 candles. Total: 1000\n",
      "💾 Saved to datasets/BTC-USD_1h_Training data_1744358400000_to_1743523140000.csv with 1000 rows.\n",
      "                         open      high       low     close      volume\n",
      "timestamp                                                              \n",
      "2025-04-11 03:00:00  80254.20  80868.22  80245.70  80801.48  218.720728\n",
      "2025-04-11 04:00:00  80801.48  81060.99  80676.45  80842.85  237.797444\n",
      "2025-04-11 05:00:00  80840.66  80870.76  80462.64  80774.42  194.938546\n",
      "2025-04-11 06:00:00  80774.43  81268.16  80774.43  81056.21  146.487724\n",
      "2025-04-11 07:00:00  81057.09  81396.94  80796.09  81224.99  151.087371\n"
     ]
    }
   ],
   "source": [
    "market_data_fetcher = MarketRegimeStrategy(API_KEY, MARKET_DATA_BASE_URL, SYMBOL, LIMIT)\n",
    "market_data_fetcher.fetch(ft_start_time, ft_end_time, INTERVAL)\n",
    "\n"
   ]
  },
  {
   "cell_type": "code",
   "execution_count": null,
   "id": "1e17a683",
   "metadata": {},
   "outputs": [
    {
     "name": "stderr",
     "output_type": "stream",
     "text": [
      "         1  -97474.73921654             +nan\n",
      "         2  -90818.55239180   +6656.18682474\n",
      "         3  -90660.50732775    +158.04506405\n",
      "         4  -90553.70947655    +106.79785121\n",
      "         5  -90459.70092513     +94.00855142\n",
      "         6  -90393.19568458     +66.50524054\n",
      "         7  -90351.76664552     +41.42903906\n",
      "         8  -90333.93022420     +17.83642132\n",
      "         9  -90325.62172477      +8.30849943\n",
      "        10  -90322.25723732      +3.36448745\n",
      "        11  -90318.38380916      +3.87342816\n",
      "        12  -90310.66008439      +7.72372477\n",
      "        13  -90304.59941141      +6.06067298\n",
      "        14  -90298.24858668      +6.35082473\n",
      "        15  -90284.83752667     +13.41106001\n",
      "        16  -90281.27130049      +3.56622618\n",
      "        17  -90280.65274634      +0.61855415\n",
      "        18  -90280.39936325      +0.25338309\n",
      "        19  -90280.25921145      +0.14015180\n",
      "        20  -90280.05937675      +0.19983470\n",
      "        21  -90279.98390019      +0.07547655\n",
      "        22  -90280.12625793      -0.14235774\n",
      "Model is not converging.  Current: -90280.12625793417 is not greater than -90279.9839001944. Delta is -0.14235773976542987\n"
     ]
    },
    {
     "name": "stdout",
     "output_type": "stream",
     "text": [
      "Converged: True\n",
      "Final log likelihood: -90280.12625793417\n",
      "State Labels: {1: 'bullish', 2: 'bearish', 0: 'neutral'}\n",
      "              timestamp      open     close  log_return  state market_state\n",
      "25  2025-03-01 17:00:00  85225.41  85164.06   -0.000720      1      bullish\n",
      "26  2025-03-01 18:00:00  85164.05  85269.34    0.001235      1      bullish\n",
      "27  2025-03-01 19:00:00  85270.24  85438.94    0.001987      1      bullish\n",
      "28  2025-03-01 20:00:00  85441.88  85501.54    0.000732      1      bullish\n",
      "29  2025-03-01 21:00:00  85501.53  86039.19    0.006269      1      bullish\n",
      "..                  ...       ...       ...         ...    ...          ...\n",
      "995 2025-04-11 03:00:00  80254.20  80801.48    0.006796      0      neutral\n",
      "996 2025-04-11 04:00:00  80801.48  80842.85    0.000512      0      neutral\n",
      "997 2025-04-11 05:00:00  80840.66  80774.42   -0.000847      0      neutral\n",
      "998 2025-04-11 06:00:00  80774.43  81056.21    0.003483      0      neutral\n",
      "999 2025-04-11 07:00:00  81057.09  81224.99    0.002080      0      neutral\n",
      "\n",
      "[975 rows x 6 columns]\n"
     ]
    }
   ],
   "source": [
    "bt.set_data(market_data_fetcher.saved_filepath)\n",
    "bt.set_strategy(MarketRegimeStrategy(market_data_fetcher.saved_filepath, market_data_fetcher.saved_filepath, bullish_threshold=0.4, bearish_threshold=0.3))"
   ]
  },
  {
   "cell_type": "code",
   "execution_count": 14,
   "id": "fcc7cef0",
   "metadata": {},
   "outputs": [
    {
     "name": "stdout",
     "output_type": "stream",
     "text": [
      "1000\n"
     ]
    }
   ],
   "source": [
    "bt.run()"
   ]
  },
  {
   "cell_type": "code",
   "execution_count": 15,
   "id": "ff767422",
   "metadata": {},
   "outputs": [
    {
     "name": "stdout",
     "output_type": "stream",
     "text": [
      "Start Trade Date: 2025-02-28 16:00:00\n",
      "End Trade Date: 2025-04-11 07:00:00\n",
      "Final Portfolio Value: 100842.05258399998\n",
      "Total Return (%): 0.8420525839999755\n",
      "Number of Trades: 34\n",
      "Win Rate (%): 0.0\n",
      "Max Drawdown (%): -2.2\n",
      "Sharpe Ratio: -0.99\n"
     ]
    }
   ],
   "source": [
    "performance = bt.get_performance_results()\n",
    "\n",
    "for key, value in performance.items():\n",
    "    print(f\"{key}: {value}\")"
   ]
  },
  {
   "cell_type": "code",
   "execution_count": 16,
   "id": "5af9c339",
   "metadata": {},
   "outputs": [
    {
     "name": "stdout",
     "output_type": "stream",
     "text": [
      "Trade logs saved to backtest_trade_logs.csv\n"
     ]
    }
   ],
   "source": [
    "bt.get_trade_logs_csv()"
   ]
  }
 ],
 "metadata": {
  "kernelspec": {
   "display_name": "base",
   "language": "python",
   "name": "python3"
  },
  "language_info": {
   "codemirror_mode": {
    "name": "ipython",
    "version": 3
   },
   "file_extension": ".py",
   "mimetype": "text/x-python",
   "name": "python",
   "nbconvert_exporter": "python",
   "pygments_lexer": "ipython3",
   "version": "3.11.7"
  }
 },
 "nbformat": 4,
 "nbformat_minor": 5
}
