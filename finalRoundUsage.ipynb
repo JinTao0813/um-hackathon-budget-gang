{
 "cells": [
  {
   "cell_type": "markdown",
   "id": "d767f83b",
   "metadata": {},
   "source": [
    "## Install modules to environment"
   ]
  },
  {
   "cell_type": "code",
   "execution_count": 1,
   "id": "f955709c",
   "metadata": {},
   "outputs": [
    {
     "name": "stdout",
     "output_type": "stream",
     "text": [
      "Requirement already satisfied: pandas in c:\\users\\jtyap\\appdata\\local\\programs\\python\\python310\\lib\\site-packages (2.2.3)\n",
      "Requirement already satisfied: numpy in c:\\users\\jtyap\\appdata\\local\\programs\\python\\python310\\lib\\site-packages (2.1.3)\n",
      "Requirement already satisfied: requests in c:\\users\\jtyap\\appdata\\local\\programs\\python\\python310\\lib\\site-packages (2.32.3)\n",
      "Requirement already satisfied: seaborn in c:\\users\\jtyap\\appdata\\local\\programs\\python\\python310\\lib\\site-packages (0.13.2)\n",
      "Requirement already satisfied: matplotlib in c:\\users\\jtyap\\appdata\\local\\programs\\python\\python310\\lib\\site-packages (3.10.1)\n",
      "Requirement already satisfied: pytz>=2020.1 in c:\\users\\jtyap\\appdata\\local\\programs\\python\\python310\\lib\\site-packages (from pandas) (2025.2)\n",
      "Requirement already satisfied: tzdata>=2022.7 in c:\\users\\jtyap\\appdata\\local\\programs\\python\\python310\\lib\\site-packages (from pandas) (2025.2)\n",
      "Requirement already satisfied: python-dateutil>=2.8.2 in c:\\users\\jtyap\\appdata\\local\\programs\\python\\python310\\lib\\site-packages (from pandas) (2.9.0.post0)\n",
      "Requirement already satisfied: idna<4,>=2.5 in c:\\users\\jtyap\\appdata\\local\\programs\\python\\python310\\lib\\site-packages (from requests) (3.10)\n",
      "Requirement already satisfied: certifi>=2017.4.17 in c:\\users\\jtyap\\appdata\\local\\programs\\python\\python310\\lib\\site-packages (from requests) (2025.1.31)\n",
      "Requirement already satisfied: charset-normalizer<4,>=2 in c:\\users\\jtyap\\appdata\\local\\programs\\python\\python310\\lib\\site-packages (from requests) (3.4.1)\n",
      "Requirement already satisfied: urllib3<3,>=1.21.1 in c:\\users\\jtyap\\appdata\\local\\programs\\python\\python310\\lib\\site-packages (from requests) (2.4.0)\n",
      "Requirement already satisfied: contourpy>=1.0.1 in c:\\users\\jtyap\\appdata\\local\\programs\\python\\python310\\lib\\site-packages (from matplotlib) (1.3.2)\n",
      "Requirement already satisfied: cycler>=0.10 in c:\\users\\jtyap\\appdata\\local\\programs\\python\\python310\\lib\\site-packages (from matplotlib) (0.12.1)\n",
      "Requirement already satisfied: pyparsing>=2.3.1 in c:\\users\\jtyap\\appdata\\local\\programs\\python\\python310\\lib\\site-packages (from matplotlib) (3.2.3)\n",
      "Requirement already satisfied: packaging>=20.0 in c:\\users\\jtyap\\appdata\\local\\programs\\python\\python310\\lib\\site-packages (from matplotlib) (24.2)\n",
      "Requirement already satisfied: fonttools>=4.22.0 in c:\\users\\jtyap\\appdata\\local\\programs\\python\\python310\\lib\\site-packages (from matplotlib) (4.57.0)\n",
      "Requirement already satisfied: kiwisolver>=1.3.1 in c:\\users\\jtyap\\appdata\\local\\programs\\python\\python310\\lib\\site-packages (from matplotlib) (1.4.8)\n",
      "Requirement already satisfied: pillow>=8 in c:\\users\\jtyap\\appdata\\local\\programs\\python\\python310\\lib\\site-packages (from matplotlib) (11.2.1)\n",
      "Requirement already satisfied: six>=1.5 in c:\\users\\jtyap\\appdata\\local\\programs\\python\\python310\\lib\\site-packages (from python-dateutil>=2.8.2->pandas) (1.17.0)\n",
      "Note: you may need to restart the kernel to use updated packages.\n"
     ]
    },
    {
     "name": "stderr",
     "output_type": "stream",
     "text": [
      "\n",
      "[notice] A new release of pip is available: 23.0.1 -> 25.0.1\n",
      "[notice] To update, run: python.exe -m pip install --upgrade pip\n"
     ]
    }
   ],
   "source": [
    "%pip install pandas numpy requests seaborn matplotlib"
   ]
  },
  {
   "cell_type": "markdown",
   "id": "5137dcce",
   "metadata": {},
   "source": [
    "## Import modules"
   ]
  },
  {
   "cell_type": "code",
   "execution_count": 2,
   "id": "8d6e0611",
   "metadata": {},
   "outputs": [],
   "source": [
    "from Backtesting.dataFetchers.marketDataFetchers import CoinbaseFetcher\n",
    "from Backtesting.dataFetchers.onChainMetricsFetchers import CryptoQuantFetcher\n",
    "from Backtesting.dataFetchers.onChainMetricsFetchers import CryptoQuantFetcherWithoutExchange\n",
    "\n",
    "from datetime import datetime\n",
    "\n"
   ]
  },
  {
   "cell_type": "markdown",
   "id": "dac0535b",
   "metadata": {},
   "source": [
    "## Fetch Data"
   ]
  },
  {
   "cell_type": "markdown",
   "id": "b66e005f",
   "metadata": {},
   "source": [
    "Input API key and desired interval and window"
   ]
  },
  {
   "cell_type": "code",
   "execution_count": 3,
   "id": "a1dc5a33",
   "metadata": {},
   "outputs": [],
   "source": [
    "API_KEY = \"GlYxSZP9hnooNl6gGAjtkptkeqehSnk5C60Akhpw5zupBK6O\"\n",
    "LIMIT = 1000\n"
   ]
  },
  {
   "cell_type": "markdown",
   "id": "03697dc9",
   "metadata": {},
   "source": [
    "### Market Data"
   ]
  },
  {
   "cell_type": "code",
   "execution_count": 4,
   "id": "0e391637",
   "metadata": {},
   "outputs": [],
   "source": [
    "MARKET_DATA_BASE_URL = \"https://api.datasource.cybotrade.rs/coinbase/candle\"\n",
    "\n",
    "SYMBOL = \"BTC-USD\" # Can be any symbol available on Coinbase\n",
    "INTERVAL = \"1h\" # Can be any interval such as \"1d\", \"1h\", \"15m\", etc."
   ]
  },
  {
   "cell_type": "code",
   "execution_count": 5,
   "id": "bb7a99db",
   "metadata": {},
   "outputs": [],
   "source": [
    "# start_time = int(datetime(2023, 1, 1).timestamp() * 1000)\n",
    "# end_time = int(datetime(2024, 12, 31, 23, 59).timestamp() * 1000)\n",
    "\n",
    "bt_start_time = int(datetime(2023, 12, 1).timestamp() * 1000)\n",
    "bt_end_time = int(datetime(2023, 12, 31, 23, 59).timestamp() * 1000)\n"
   ]
  },
  {
   "cell_type": "code",
   "execution_count": 6,
   "id": "b23e8d70",
   "metadata": {},
   "outputs": [
    {
     "name": "stdout",
     "output_type": "stream",
     "text": [
      "Fetching 1h data for BTC-USD from 2023-11-30 16:00:00 to 2023-12-31 15:59:00...\n",
      "✅ Retrieved 1000 candles. Total: 1000\n",
      "💾 Saved to datasets/BTC-USD_1h_Training data_1704960000000_to_1704038340000.csv with 1000 rows.\n",
      "                         open      high       low     close      volume\n",
      "timestamp                                                              \n",
      "2024-01-11 03:00:00  46571.95  46610.93  46219.30  46513.73  880.239649\n",
      "2024-01-11 04:00:00  46513.67  46521.65  46328.80  46411.68  412.478366\n",
      "2024-01-11 05:00:00  46413.22  46429.16  45888.89  46079.26  800.909182\n",
      "2024-01-11 06:00:00  46079.25  46104.00  45623.02  45912.79  723.988438\n",
      "2024-01-11 07:00:00  45912.79  46170.38  45890.48  46102.74  678.589224\n"
     ]
    }
   ],
   "source": [
    "market_data_fetcher = CoinbaseFetcher(API_KEY, MARKET_DATA_BASE_URL, SYMBOL, LIMIT)\n",
    "market_data_fetcher.fetch(bt_start_time, bt_end_time, INTERVAL)\n",
    "\n"
   ]
  },
  {
   "cell_type": "markdown",
   "id": "4e998221",
   "metadata": {},
   "source": [
    "### On Chain Metrics Data (TBU)"
   ]
  },
  {
   "cell_type": "code",
   "execution_count": 7,
   "id": "65b728d6",
   "metadata": {},
   "outputs": [],
   "source": [
    "ONCHAIN_API_KEY = \"GlYxSZP9hnooNl6gGAjtkptkeqehSnk5C60Akhpw5zupBK6O\"\n",
    "ONCHAIN_DATA_BASE_URL = \"https://api.datasource.cybotrade.rs/cryptoquant\"\n",
    "GLASSNODE_BASE_URL = \"https://api.datasource.cybotrade.rs/glassnode\"\n",
    "EXCHANGE = \"binance\" # Can be any exchange available on CryptoQuant\n",
    "CURRENCY = \"btc\" # Can be any symbol available on CryptoQuant\n",
    "ASSET = \"BTC\"\n",
    "ON_CHAIN_LIMIT = None # Number of data points to fetch\n",
    "\n",
    "netflow_window = \"hour\"\n",
    "netflow_endpoint_category = \"exchange-flows\"\n",
    "netflow_metric = \"netflow\"\n",
    "\n",
    "exchange_whale_ratio_window = \"hour\"\n",
    "exchange_whale_ratio_endpoint_category = \"flow-indicator\"\n",
    "exchange_whale_ratio_metric = \"exchange-whale-ratio\"\n",
    "\n",
    "funding_rates_window = \"hour\"\n",
    "funding_rates_endpoint_category = \"market-data\"\n",
    "funding_rates_metric = \"funding-rates\"\n",
    "\n",
    "dormancy_window = \"day\"\n",
    "dormancy_endpoint_category = \"network-indicator\"\n",
    "dormancy_metric = \"dormancy\"\n",
    "\n"
   ]
  },
  {
   "cell_type": "code",
   "execution_count": 8,
   "id": "fe69a656",
   "metadata": {},
   "outputs": [
    {
     "name": "stdout",
     "output_type": "stream",
     "text": [
      "Fetching exchange-flows/netflow data for btc from binance with window 'hour'...\n",
      "Using range: 2023-11-30 16:00:00 to 2023-12-31 15:59:00\n",
      "✅ Retrieved 744 records. Total so far: 744\n",
      "Using range: 2023-12-31 15:00:01 to 2023-12-31 15:59:00\n",
      "❌ Error 400: {\"error\":\"'limit' must be between [1, 100000]\"}\n",
      "💾 Saved to datasets/binance_netflow_hour_Training data_1704034801000_to_1704038340000.csv with 744 rows.\n",
      "                     netflow_total\n",
      "timestamp                         \n",
      "2023-12-31 11:00:00     -92.970151\n",
      "2023-12-31 12:00:00    -336.005022\n",
      "2023-12-31 13:00:00     677.350307\n",
      "2023-12-31 14:00:00    -156.612435\n",
      "2023-12-31 15:00:00    -143.570204\n",
      "Fetching flow-indicator/exchange-whale-ratio data for btc from binance with window 'hour'...\n",
      "Using range: 2023-11-30 16:00:00 to 2023-12-31 15:59:00\n",
      "✅ Retrieved 744 records. Total so far: 744\n",
      "Using range: 2023-12-31 15:00:01 to 2023-12-31 15:59:00\n",
      "❌ Error 400: {\"error\":\"'limit' must be between [1, 100000]\"}\n",
      "💾 Saved to datasets/binance_exchange-whale-ratio_hour_Training data_1704034801000_to_1704038340000.csv with 744 rows.\n",
      "                     exchange_whale_ratio\n",
      "timestamp                                \n",
      "2023-12-31 11:00:00              0.887809\n",
      "2023-12-31 12:00:00              0.482861\n",
      "2023-12-31 13:00:00              0.923522\n",
      "2023-12-31 14:00:00              0.493126\n",
      "2023-12-31 15:00:00              0.680418\n",
      "Fetching market-data/funding-rates data for btc from binance with window 'hour'...\n",
      "Using range: 2023-11-30 16:00:00 to 2023-12-31 15:59:00\n",
      "✅ Retrieved 744 records. Total so far: 744\n",
      "Using range: 2023-12-31 15:00:01 to 2023-12-31 15:59:00\n",
      "❌ Error 400: {\"error\":\"'limit' must be between [1, 100000]\"}\n",
      "💾 Saved to datasets/binance_funding-rates_hour_Training data_1704034801000_to_1704038340000.csv with 744 rows.\n",
      "                     funding_rates\n",
      "timestamp                         \n",
      "2023-12-31 11:00:00       0.038350\n",
      "2023-12-31 12:00:00       0.038883\n",
      "2023-12-31 13:00:00       0.037859\n",
      "2023-12-31 14:00:00       0.036788\n",
      "2023-12-31 15:00:00       0.035041\n",
      "Fetching network-indicator/dormancy data for btc with window 'day'...\n",
      "Using range: 2023-11-30 16:00:00 to 2023-12-31 15:59:00\n",
      "✅ Retrieved 31 records. Total so far: 31\n",
      "Using range: 2023-12-31 00:00:01 to 2023-12-31 15:59:00\n",
      "❌ Error 400: {\"error\":\"'limit' must be between [1, 100000]\"}\n",
      "💾 Saved to datasets/dormancy_day_Training data_1703980801000_to_1704038340000.csv with 31 rows.\n",
      "            average_dormancy  sa_average_dormancy\n",
      "timestamp                                        \n",
      "2023-12-27         72.868482         3.720000e-06\n",
      "2023-12-28         13.070825         6.700000e-07\n",
      "2023-12-29         38.364098         1.960000e-06\n",
      "2023-12-30         14.851544         7.600000e-07\n",
      "2023-12-31         10.119704         5.200000e-07\n",
      "📁 Netflow path: datasets/binance_netflow_hour_Training data_1704034801000_to_1704038340000.csv\n",
      "📁 Whale Ratio path: datasets/binance_exchange-whale-ratio_hour_Training data_1704034801000_to_1704038340000.csv\n",
      "📁 Funding Rates path: datasets/binance_funding-rates_hour_Training data_1704034801000_to_1704038340000.csv\n",
      "📁 Dormancy path: datasets/dormancy_day_Training data_1703980801000_to_1704038340000.csv\n"
     ]
    }
   ],
   "source": [
    "on_chain_fetcher_netflow = CryptoQuantFetcher(API_KEY, ONCHAIN_DATA_BASE_URL, CURRENCY, netflow_endpoint_category, netflow_metric, EXCHANGE, ON_CHAIN_LIMIT)\n",
    "on_chain_fetcher_netflow.fetch_netflow(netflow_window, bt_start_time, bt_end_time)\n",
    "\n",
    "on_chain_fetecher_exchange_whale_ratio = CryptoQuantFetcher(API_KEY, ONCHAIN_DATA_BASE_URL, CURRENCY, exchange_whale_ratio_endpoint_category, exchange_whale_ratio_metric, EXCHANGE, ON_CHAIN_LIMIT)\n",
    "on_chain_fetecher_exchange_whale_ratio.fetch_exchange_whale_ratio(exchange_whale_ratio_window, bt_start_time, bt_end_time)\n",
    "\n",
    "on_chain_fetcher_funding_rates = CryptoQuantFetcher(API_KEY, ONCHAIN_DATA_BASE_URL, CURRENCY, funding_rates_endpoint_category, funding_rates_metric, EXCHANGE, ON_CHAIN_LIMIT)\n",
    "on_chain_fetcher_funding_rates.fetch_funding_rates(funding_rates_window, bt_start_time, bt_end_time)\n",
    "\n",
    "on_chain_fetcher_without_exchange_dormancy = CryptoQuantFetcherWithoutExchange(API_KEY, ONCHAIN_DATA_BASE_URL, CURRENCY, dormancy_endpoint_category, dormancy_metric, ON_CHAIN_LIMIT)\n",
    "on_chain_fetcher_without_exchange_dormancy.fetch_dormancy(dormancy_window, bt_start_time, bt_end_time)\n",
    "\n",
    "print(\"📁 Netflow path:\", on_chain_fetcher_netflow.saved_filepath)\n",
    "print(\"📁 Whale Ratio path:\", on_chain_fetecher_exchange_whale_ratio.saved_filepath)\n",
    "print(\"📁 Funding Rates path:\", on_chain_fetcher_funding_rates.saved_filepath)\n",
    "print(\"📁 Dormancy path:\", on_chain_fetcher_without_exchange_dormancy.saved_filepath)\n",
    "\n"
   ]
  },
  {
   "cell_type": "code",
   "execution_count": 9,
   "id": "188b07bd",
   "metadata": {},
   "outputs": [
    {
     "name": "stdout",
     "output_type": "stream",
     "text": [
      "✅ Merged CSV saved to: datasets\\merged_on_chain_metrics.csv\n"
     ]
    },
    {
     "name": "stderr",
     "output_type": "stream",
     "text": [
      "c:\\Users\\JTYAP\\VSCodeProjects\\um-hackathon-budget-gang\\Backtesting\\dataFetchers\\onChainMetricsFetchers.py:54: FutureWarning: 'H' is deprecated and will be removed in a future version, please use 'h' instead.\n",
      "  df = df.resample(\"1H\").ffill()\n",
      "c:\\Users\\JTYAP\\VSCodeProjects\\um-hackathon-budget-gang\\Backtesting\\dataFetchers\\onChainMetricsFetchers.py:69: FutureWarning: 'H' is deprecated and will be removed in a future version, please use 'h' instead.\n",
      "  time_index = pd.date_range(start=start_ts, end=end_ts, freq=\"1H\")\n"
     ]
    }
   ],
   "source": [
    "csvs_to_merge = [\n",
    "    market_data_fetcher.saved_filepath,\n",
    "    on_chain_fetcher_netflow.saved_filepath,\n",
    "    on_chain_fetecher_exchange_whale_ratio.saved_filepath,\n",
    "    on_chain_fetcher_funding_rates.saved_filepath,\n",
    "    on_chain_fetcher_without_exchange_dormancy.saved_filepath\n",
    "]\n",
    "\n",
    "merged_filepath = CryptoQuantFetcher.merge_selected_csv_files(csvs_to_merge, \"merged_on_chain_metrics.csv\")"
   ]
  }
 ],
 "metadata": {
  "kernelspec": {
   "display_name": "Python 3",
   "language": "python",
   "name": "python3"
  },
  "language_info": {
   "codemirror_mode": {
    "name": "ipython",
    "version": 3
   },
   "file_extension": ".py",
   "mimetype": "text/x-python",
   "name": "python",
   "nbconvert_exporter": "python",
   "pygments_lexer": "ipython3",
   "version": "3.10.11"
  }
 },
 "nbformat": 4,
 "nbformat_minor": 5
}
