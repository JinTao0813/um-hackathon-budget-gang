{
 "cells": [
  {
   "cell_type": "markdown",
   "metadata": {},
   "source": [
    "### Install modules in terminal"
   ]
  },
  {
   "cell_type": "code",
   "execution_count": 46,
   "metadata": {},
   "outputs": [
    {
     "name": "stdout",
     "output_type": "stream",
     "text": [
      "Requirement already satisfied: pandas in /Library/Frameworks/Python.framework/Versions/3.13/lib/python3.13/site-packages (2.2.3)\n",
      "Requirement already satisfied: scikit-learn in /Library/Frameworks/Python.framework/Versions/3.13/lib/python3.13/site-packages (1.6.1)\n",
      "Requirement already satisfied: numpy in /Library/Frameworks/Python.framework/Versions/3.13/lib/python3.13/site-packages (2.2.4)\n",
      "Requirement already satisfied: hmmlearn in /Library/Frameworks/Python.framework/Versions/3.13/lib/python3.13/site-packages (0.3.3)\n",
      "Requirement already satisfied: matplotlib in /Library/Frameworks/Python.framework/Versions/3.13/lib/python3.13/site-packages (3.10.1)\n",
      "Requirement already satisfied: python-dateutil>=2.8.2 in /Users/winnee/Library/Python/3.13/lib/python/site-packages (from pandas) (2.9.0.post0)\n",
      "Requirement already satisfied: pytz>=2020.1 in /Library/Frameworks/Python.framework/Versions/3.13/lib/python3.13/site-packages (from pandas) (2025.2)\n",
      "Requirement already satisfied: tzdata>=2022.7 in /Library/Frameworks/Python.framework/Versions/3.13/lib/python3.13/site-packages (from pandas) (2025.2)\n",
      "Requirement already satisfied: scipy>=1.6.0 in /Library/Frameworks/Python.framework/Versions/3.13/lib/python3.13/site-packages (from scikit-learn) (1.15.2)\n",
      "Requirement already satisfied: joblib>=1.2.0 in /Library/Frameworks/Python.framework/Versions/3.13/lib/python3.13/site-packages (from scikit-learn) (1.4.2)\n",
      "Requirement already satisfied: threadpoolctl>=3.1.0 in /Library/Frameworks/Python.framework/Versions/3.13/lib/python3.13/site-packages (from scikit-learn) (3.6.0)\n",
      "Requirement already satisfied: contourpy>=1.0.1 in /Library/Frameworks/Python.framework/Versions/3.13/lib/python3.13/site-packages (from matplotlib) (1.3.1)\n",
      "Requirement already satisfied: cycler>=0.10 in /Library/Frameworks/Python.framework/Versions/3.13/lib/python3.13/site-packages (from matplotlib) (0.12.1)\n",
      "Requirement already satisfied: fonttools>=4.22.0 in /Library/Frameworks/Python.framework/Versions/3.13/lib/python3.13/site-packages (from matplotlib) (4.57.0)\n",
      "Requirement already satisfied: kiwisolver>=1.3.1 in /Library/Frameworks/Python.framework/Versions/3.13/lib/python3.13/site-packages (from matplotlib) (1.4.8)\n",
      "Requirement already satisfied: packaging>=20.0 in /Users/winnee/Library/Python/3.13/lib/python/site-packages (from matplotlib) (24.2)\n",
      "Requirement already satisfied: pillow>=8 in /Library/Frameworks/Python.framework/Versions/3.13/lib/python3.13/site-packages (from matplotlib) (11.1.0)\n",
      "Requirement already satisfied: pyparsing>=2.3.1 in /Library/Frameworks/Python.framework/Versions/3.13/lib/python3.13/site-packages (from matplotlib) (3.2.3)\n",
      "Requirement already satisfied: six>=1.5 in /Users/winnee/Library/Python/3.13/lib/python/site-packages (from python-dateutil>=2.8.2->pandas) (1.17.0)\n",
      "\n",
      "\u001b[1m[\u001b[0m\u001b[34;49mnotice\u001b[0m\u001b[1;39;49m]\u001b[0m\u001b[39;49m A new release of pip is available: \u001b[0m\u001b[31;49m24.3.1\u001b[0m\u001b[39;49m -> \u001b[0m\u001b[32;49m25.0.1\u001b[0m\n",
      "\u001b[1m[\u001b[0m\u001b[34;49mnotice\u001b[0m\u001b[1;39;49m]\u001b[0m\u001b[39;49m To update, run: \u001b[0m\u001b[32;49mpython3 -m pip install --upgrade pip\u001b[0m\n",
      "Note: you may need to restart the kernel to use updated packages.\n"
     ]
    }
   ],
   "source": [
    "%pip install pandas scikit-learn numpy hmmlearn matplotlib"
   ]
  },
  {
   "cell_type": "markdown",
   "metadata": {},
   "source": [
    "### Import modules"
   ]
  },
  {
   "cell_type": "code",
   "execution_count": 47,
   "metadata": {},
   "outputs": [],
   "source": [
    "import pandas as pd\n",
    "\n",
    "import numpy as np\n",
    "\n",
    "import hmmlearn.hmm\n",
    "from hmmlearn.hmm import MultinomialHMM, GaussianHMM\n",
    "\n",
    "import matplotlib.pyplot as plt"
   ]
  },
  {
   "cell_type": "markdown",
   "metadata": {},
   "source": [
    "### HMM Model with 2024 data"
   ]
  },
  {
   "cell_type": "code",
   "execution_count": 48,
   "metadata": {},
   "outputs": [
    {
     "name": "stdout",
     "output_type": "stream",
     "text": [
      "          Start         End      Open      High       Low     Close  \\\n",
      "0    2024-01-01  2024-01-02  42276.34  44122.03  42227.99  44122.03   \n",
      "1    2024-01-02  2024-01-03  44179.50  45846.21  44179.50  44957.63   \n",
      "2    2024-01-03  2024-01-04  44944.83  45474.95  40931.46  42818.03   \n",
      "3    2024-01-04  2024-01-05  42845.26  44664.55  42635.44  44188.15   \n",
      "4    2024-01-05  2024-01-06  44168.03  44229.51  43142.74  44112.11   \n",
      "..          ...         ...       ...       ...       ...       ...   \n",
      "361  2024-12-27  2024-12-28  95848.07  97199.96  93527.75  94452.57   \n",
      "362  2024-12-28  2024-12-29  94394.88  95394.07  94098.12  95204.07   \n",
      "363  2024-12-29  2024-12-30  95233.87  95272.03  93069.72  93659.56   \n",
      "364  2024-12-30  2024-12-31  93610.59  94951.18  91603.06  92811.03   \n",
      "365  2024-12-31  2025-01-01  92728.07  96016.01  92161.96  93647.01   \n",
      "\n",
      "           Volume    Market Cap  \n",
      "0    2.544613e+10  8.382507e+11  \n",
      "1    4.659362e+10  8.859066e+11  \n",
      "2    9.912438e+10  8.602104e+11  \n",
      "3    1.639053e+11  8.513669e+11  \n",
      "4    1.424464e+11  8.571393e+11  \n",
      "..            ...           ...  \n",
      "361  6.623154e+10  1.892534e+12  \n",
      "362  5.404795e+10  1.875426e+12  \n",
      "363  3.566003e+10  1.872837e+12  \n",
      "364  5.833191e+10  1.850688e+12  \n",
      "365  7.535185e+10  1.856486e+12  \n",
      "\n",
      "[366 rows x 8 columns]\n"
     ]
    }
   ],
   "source": [
    "bitcoin_2024_df = pd.read_csv(\"./datasets/bitcoin_2024-01-01_2024-12-31.csv\")\n",
    "\n",
    "print(bitcoin_2024_df)\n"
   ]
  },
  {
   "cell_type": "code",
   "execution_count": null,
   "metadata": {},
   "outputs": [
    {
     "name": "stderr",
     "output_type": "stream",
     "text": [
      "/var/folders/zp/ypnn7zh17bq2rm1j9d6glplw0000gn/T/ipykernel_19633/2420462427.py:15: SettingWithCopyWarning: \n",
      "A value is trying to be set on a copy of a slice from a DataFrame.\n",
      "Try using .loc[row_indexer,col_indexer] = value instead\n",
      "\n",
      "See the caveats in the documentation: https://pandas.pydata.org/pandas-docs/stable/user_guide/indexing.html#returning-a-view-versus-a-copy\n",
      "  df['Volume_Norm'] = (df['Volume'] - df['Volume'].mean()) / df['Volume'].std()\n",
      "Model is not converging.  Current: 415.0259429286869 is not greater than 415.0359438650542. Delta is -0.010000936367305258\n"
     ]
    },
    {
     "name": "stdout",
     "output_type": "stream",
     "text": [
      "         Start     Close  LogReturn  State\n",
      "1   2024-01-02  44957.63   0.018761      0\n",
      "2   2024-01-03  42818.03  -0.048761      1\n",
      "3   2024-01-04  44188.15   0.031497      1\n",
      "4   2024-01-05  44112.11  -0.001722      1\n",
      "5   2024-01-06  43941.78  -0.003869      1\n",
      "..         ...       ...        ...    ...\n",
      "361 2024-12-27  94452.57  -0.014482      0\n",
      "362 2024-12-28  95204.07   0.007925      0\n",
      "363 2024-12-29  93659.56  -0.016356      0\n",
      "364 2024-12-30  92811.03  -0.009101      0\n",
      "365 2024-12-31  93647.01   0.008967      0\n",
      "\n",
      "[365 rows x 4 columns]\n"
     ]
    },
    {
     "name": "stderr",
     "output_type": "stream",
     "text": [
      "/var/folders/zp/ypnn7zh17bq2rm1j9d6glplw0000gn/T/ipykernel_19633/2420462427.py:28: SettingWithCopyWarning: \n",
      "A value is trying to be set on a copy of a slice from a DataFrame.\n",
      "Try using .loc[row_indexer,col_indexer] = value instead\n",
      "\n",
      "See the caveats in the documentation: https://pandas.pydata.org/pandas-docs/stable/user_guide/indexing.html#returning-a-view-versus-a-copy\n",
      "  df['State'] = hidden_states\n"
     ]
    }
   ],
   "source": [
    "# Load your data\n",
    "df = bitcoin_2024_df\n",
    "# Convert date columns if needed\n",
    "df['Start'] = pd.to_datetime(df['Start'])\n",
    "df['End'] = pd.to_datetime(df['End'])\n",
    "\n",
    "# Feature engineering: log returns\n",
    "df['LogReturn'] = np.log(df['Close'] / df['Close'].shift(1))\n",
    "\n",
    "# Drop NaN from the first row (due to shift)\n",
    "df = df.dropna()\n",
    "\n",
    "# Prepare observation sequence (log returns and normalized volume)\n",
    "df['Volume_Norm'] = (df['Volume'] - df['Volume'].mean()) / df['Volume'].std()\n",
    "\n",
    "observations = df[['LogReturn', 'Volume_Norm']].values\n",
    "\n",
    "\n",
    "# Fit a Gaussian HMM with N hidden states\n",
    "model2024 = GaussianHMM(n_components=2, covariance_type=\"full\", n_iter=1000) # n_components is the number of hidden states (in this case is 2, where 0 is a bear market and 1 is a bull market)\n",
    "model2024.fit(observations)\n",
    "\n",
    "# Predict the hidden states\n",
    "hidden_states = model2024.predict(observations)\n",
    "\n",
    "# Add hidden states to dataframe\n",
    "df['State'] = hidden_states\n",
    "\n",
    "print(df[['Start', 'Close', 'LogReturn', 'State']])\n"
   ]
  },
  {
   "cell_type": "code",
   "execution_count": 50,
   "metadata": {},
   "outputs": [
    {
     "data": {
      "image/png": "[encoded data removed]",
      "text/plain": [
       "<Figure size 640x480 with 1 Axes>"
      ]
     },
     "metadata": {},
     "output_type": "display_data"
    }
   ],
   "source": [
    "for i in range(model2024.n_components):\n",
    "    state_series = df[df['State'] == i]\n",
    "    plt.plot(state_series['Start'], state_series['Close'], label=f'State {i}')\n",
    "\n",
    "    #the state 0 represents a bear market (steady growth with low volatility) and state 1 represents a bull market (downward trend and high volatility)\n",
    "\n",
    "plt.legend()\n",
    "plt.title(\"HMM Inferred Regimes on Crypto Prices\")\n",
    "plt.show()"
   ]
  },
  {
   "cell_type": "markdown",
   "metadata": {},
   "source": [
    "### HMM Model with 2017 data"
   ]
  },
  {
   "cell_type": "code",
   "execution_count": 53,
   "metadata": {},
   "outputs": [],
   "source": [
    "# bitcoin_2017_df = pd.read_csv(\"./datasets/BTC-2017min.csv\")\n",
    "\n",
    "# print(bitcoin_2017_df)"
   ]
  },
  {
   "cell_type": "code",
   "execution_count": 54,
   "metadata": {},
   "outputs": [],
   "source": [
    "# # Convert to datetime\n",
    "# df['date'] = pd.to_datetime(df['date'])\n",
    "\n",
    "# # Sort by time just in case\n",
    "# df = df.sort_values('date')\n",
    "\n",
    "# # Feature Engineering: log return\n",
    "# df['LogReturn'] = np.log(df['close'] / df['close'].shift(1))\n",
    "\n",
    "# # Normalize Volume\n",
    "# df['VolumeNorm'] = (df['Volume USD'] - df['Volume USD'].mean()) / df['Volume USD'].std()\n",
    "\n",
    "# # Drop the first row with NaN return\n",
    "# df = df.dropna()\n",
    "\n",
    "# # Observation matrix: Log return + Volume\n",
    "# observations = df[['LogReturn', 'VolumeNorm']].values\n",
    "\n",
    "# print(observations)"
   ]
  },
  {
   "cell_type": "code",
   "execution_count": 55,
   "metadata": {},
   "outputs": [],
   "source": [
    "# model = GaussianHMM(n_components=2, covariance_type=\"full\", n_iter=100)\n",
    "# model.fit(observations)\n",
    "\n",
    "# # Predict hidden states\n",
    "# df['State'] = model.predict(observations)"
   ]
  },
  {
   "cell_type": "code",
   "execution_count": 56,
   "metadata": {},
   "outputs": [],
   "source": [
    "# plt.figure(figsize=(12,6))\n",
    "# for i in range(model.n_components):\n",
    "#     subset = df[df['State'] == i]\n",
    "#     plt.plot(subset['date'], subset['close'], label=f'State {i}')\n",
    "\n",
    "# plt.legend()\n",
    "# plt.title(\"Hidden Market States (HMM)\")\n",
    "# plt.xlabel(\"Date\")\n",
    "# plt.ylabel(\"BTC Price\")\n",
    "# plt.show()\n"
   ]
  },
  {
   "cell_type": "markdown",
   "metadata": {},
   "source": [
    "### Prediction "
   ]
  },
  {
   "cell_type": "code",
   "execution_count": 62,
   "metadata": {},
   "outputs": [
    {
     "name": "stdout",
     "output_type": "stream",
     "text": [
      "Predicted hidden state: 0\n"
     ]
    }
   ],
   "source": [
    "\n",
    "# Example data\n",
    "today_close = 44957.63\n",
    "yesterday_close = 44122.03\n",
    "today_vol = 46593616092.15278\n",
    "volume_mean = df['Volume'].mean()\n",
    "volume_std = df['Volume'].std()\n",
    "\n",
    "# Calculate features\n",
    "log_return = np.log(today_close / yesterday_close)\n",
    "volume_norm = (today_vol - volume_mean) / volume_std\n",
    "\n",
    "# Format as 2D array\n",
    "new_obs = np.array([[log_return, volume_norm]])\n",
    "\n",
    "# Predict hidden state\n",
    "state_today = model2024.predict(new_obs)\n",
    "\n",
    "print(f\"Predicted hidden state: {state_today[0]}\")\n"
   ]
  }
 ],
 "metadata": {
  "kernelspec": {
   "display_name": "Python 3",
   "language": "python",
   "name": "python3"
  },
  "language_info": {
   "codemirror_mode": {
    "name": "ipython",
    "version": 3
   },
   "file_extension": ".py",
   "mimetype": "text/x-python",
   "name": "python",
   "nbconvert_exporter": "python",
   "pygments_lexer": "ipython3",
   "version": "3.13.2"
  }
 },
 "nbformat": 4,
 "nbformat_minor": 2
}
