{
 "cells": [
  {
   "cell_type": "code",
   "execution_count": 10,
   "metadata": {},
   "outputs": [
    {
     "name": "stdout",
     "output_type": "stream",
     "text": [
      "Requirement already satisfied: pandas in /Library/Frameworks/Python.framework/Versions/3.13/lib/python3.13/site-packages (2.2.3)\n",
      "Requirement already satisfied: backtesting in /Library/Frameworks/Python.framework/Versions/3.13/lib/python3.13/site-packages (0.6.4)\n",
      "Requirement already satisfied: numpy>=1.26.0 in /Library/Frameworks/Python.framework/Versions/3.13/lib/python3.13/site-packages (from pandas) (2.2.4)\n",
      "Requirement already satisfied: python-dateutil>=2.8.2 in /Users/winnee/Library/Python/3.13/lib/python/site-packages (from pandas) (2.9.0.post0)\n",
      "Requirement already satisfied: pytz>=2020.1 in /Library/Frameworks/Python.framework/Versions/3.13/lib/python3.13/site-packages (from pandas) (2025.2)\n",
      "Requirement already satisfied: tzdata>=2022.7 in /Library/Frameworks/Python.framework/Versions/3.13/lib/python3.13/site-packages (from pandas) (2025.2)\n",
      "Requirement already satisfied: bokeh!=3.0.*,!=3.2.*,>=1.4.0 in /Library/Frameworks/Python.framework/Versions/3.13/lib/python3.13/site-packages (from backtesting) (3.7.2)\n",
      "Requirement already satisfied: Jinja2>=2.9 in /Library/Frameworks/Python.framework/Versions/3.13/lib/python3.13/site-packages (from bokeh!=3.0.*,!=3.2.*,>=1.4.0->backtesting) (3.1.6)\n",
      "Requirement already satisfied: contourpy>=1.2 in /Library/Frameworks/Python.framework/Versions/3.13/lib/python3.13/site-packages (from bokeh!=3.0.*,!=3.2.*,>=1.4.0->backtesting) (1.3.1)\n",
      "Requirement already satisfied: narwhals>=1.13 in /Library/Frameworks/Python.framework/Versions/3.13/lib/python3.13/site-packages (from bokeh!=3.0.*,!=3.2.*,>=1.4.0->backtesting) (1.34.0)\n",
      "Requirement already satisfied: packaging>=16.8 in /Users/winnee/Library/Python/3.13/lib/python/site-packages (from bokeh!=3.0.*,!=3.2.*,>=1.4.0->backtesting) (24.2)\n",
      "Requirement already satisfied: pillow>=7.1.0 in /Library/Frameworks/Python.framework/Versions/3.13/lib/python3.13/site-packages (from bokeh!=3.0.*,!=3.2.*,>=1.4.0->backtesting) (11.1.0)\n",
      "Requirement already satisfied: PyYAML>=3.10 in /Library/Frameworks/Python.framework/Versions/3.13/lib/python3.13/site-packages (from bokeh!=3.0.*,!=3.2.*,>=1.4.0->backtesting) (6.0.2)\n",
      "Requirement already satisfied: tornado>=6.2 in /Users/winnee/Library/Python/3.13/lib/python/site-packages (from bokeh!=3.0.*,!=3.2.*,>=1.4.0->backtesting) (6.4.2)\n",
      "Requirement already satisfied: xyzservices>=2021.09.1 in /Library/Frameworks/Python.framework/Versions/3.13/lib/python3.13/site-packages (from bokeh!=3.0.*,!=3.2.*,>=1.4.0->backtesting) (2025.1.0)\n",
      "Requirement already satisfied: six>=1.5 in /Users/winnee/Library/Python/3.13/lib/python/site-packages (from python-dateutil>=2.8.2->pandas) (1.17.0)\n",
      "Requirement already satisfied: MarkupSafe>=2.0 in /Library/Frameworks/Python.framework/Versions/3.13/lib/python3.13/site-packages (from Jinja2>=2.9->bokeh!=3.0.*,!=3.2.*,>=1.4.0->backtesting) (3.0.2)\n",
      "Note: you may need to restart the kernel to use updated packages.\n"
     ]
    }
   ],
   "source": [
    "%pip install pandas backtesting"
   ]
  },
  {
   "cell_type": "code",
   "execution_count": 11,
   "metadata": {},
   "outputs": [],
   "source": [
    "import pandas as pd\n",
    "\n",
    "from backtesting import Backtest, Strategy\n",
    "from backtesting.test import BTCUSD\n"
   ]
  },
  {
   "cell_type": "code",
   "execution_count": 12,
   "metadata": {},
   "outputs": [],
   "source": [
    "class HMMStrategy(Strategy):\n",
    "    def init(self):\n",
    "        # Load state column as a strategy indicator\n",
    "        self.state = self.data.df['market_state'].values\n",
    "\n",
    "    def next(self):\n",
    "        current_state = self.state[self.i]\n",
    "        \n",
    "        # Example rule:\n",
    "        # Buy when bullish, sell when bearish\n",
    "        if current_state == \"bullish\":  # bullish\n",
    "            if not self.position:\n",
    "                self.buy()\n",
    "        elif current_state == \"bearish\":  # bearish\n",
    "            if self.position:\n",
    "                self.position.close()"
   ]
  },
  {
   "cell_type": "code",
   "execution_count": 13,
   "metadata": {},
   "outputs": [
    {
     "ename": "NameError",
     "evalue": "name 'df' is not defined",
     "output_type": "error",
     "traceback": [
      "\u001b[31m---------------------------------------------------------------------------\u001b[39m",
      "\u001b[31mNameError\u001b[39m                                 Traceback (most recent call last)",
      "\u001b[36mCell\u001b[39m\u001b[36m \u001b[39m\u001b[32mIn[13]\u001b[39m\u001b[32m, line 1\u001b[39m\n\u001b[32m----> \u001b[39m\u001b[32m1\u001b[39m \u001b[43mdf\u001b[49m.rename(columns={\u001b[33m'\u001b[39m\u001b[33mopen\u001b[39m\u001b[33m'\u001b[39m: \u001b[33m'\u001b[39m\u001b[33mOpen\u001b[39m\u001b[33m'\u001b[39m, \u001b[33m'\u001b[39m\u001b[33mhigh\u001b[39m\u001b[33m'\u001b[39m: \u001b[33m'\u001b[39m\u001b[33mHigh\u001b[39m\u001b[33m'\u001b[39m, \u001b[33m'\u001b[39m\u001b[33mlow\u001b[39m\u001b[33m'\u001b[39m: \u001b[33m'\u001b[39m\u001b[33mLow\u001b[39m\u001b[33m'\u001b[39m, \u001b[33m'\u001b[39m\u001b[33mclose\u001b[39m\u001b[33m'\u001b[39m: \u001b[33m'\u001b[39m\u001b[33mClose\u001b[39m\u001b[33m'\u001b[39m, \u001b[33m'\u001b[39m\u001b[33mvolume\u001b[39m\u001b[33m'\u001b[39m: \u001b[33m'\u001b[39m\u001b[33mVolume\u001b[39m\u001b[33m'\u001b[39m}, inplace=\u001b[38;5;28;01mTrue\u001b[39;00m)\n\u001b[32m      3\u001b[39m \u001b[38;5;66;03m# Drop NaN or misaligned rows\u001b[39;00m\n\u001b[32m      4\u001b[39m df = df.dropna()\n",
      "\u001b[31mNameError\u001b[39m: name 'df' is not defined"
     ]
    }
   ],
   "source": [
    "df.rename(columns={'open': 'Open', 'high': 'High', 'low': 'Low', 'close': 'Close', 'volume': 'Volume'}, inplace=True)\n",
    "\n",
    "# Drop NaN or misaligned rows\n",
    "df = df.dropna()\n",
    "\n",
    "# Run backtest\n",
    "bt = Backtest(df, HMMStrategy, cash=10000, commission=0.006)\n",
    "stats = bt.run()\n",
    "bt.plot()"
   ]
  }
 ],
 "metadata": {
  "kernelspec": {
   "display_name": "Python 3",
   "language": "python",
   "name": "python3"
  },
  "language_info": {
   "codemirror_mode": {
    "name": "ipython",
    "version": 3
   },
   "file_extension": ".py",
   "mimetype": "text/x-python",
   "name": "python",
   "nbconvert_exporter": "python",
   "pygments_lexer": "ipython3",
   "version": "3.13.2"
  }
 },
 "nbformat": 4,
 "nbformat_minor": 2
}
