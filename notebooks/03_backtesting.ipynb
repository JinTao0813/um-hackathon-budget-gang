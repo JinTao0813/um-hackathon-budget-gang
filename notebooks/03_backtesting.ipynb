{
 "cells": [
  {
   "cell_type": "code",
   "execution_count": 12,
   "metadata": {},
   "outputs": [
    {
     "name": "stdout",
     "output_type": "stream",
     "text": [
      "Requirement already satisfied: numpy in c:\\users\\jtyap\\appdata\\local\\programs\\python\\python313\\lib\\site-packages (2.2.4)\n",
      "Requirement already satisfied: pandas in c:\\users\\jtyap\\appdata\\local\\programs\\python\\python313\\lib\\site-packages (2.2.3)\n",
      "Requirement already satisfied: backtesting in c:\\users\\jtyap\\appdata\\local\\programs\\python\\python313\\lib\\site-packages (0.6.4)\n",
      "Requirement already satisfied: joblib in c:\\users\\jtyap\\appdata\\local\\programs\\python\\python313\\lib\\site-packages (1.4.2)\n",
      "Requirement already satisfied: python-dateutil>=2.8.2 in c:\\users\\jtyap\\appdata\\roaming\\python\\python313\\site-packages (from pandas) (2.9.0.post0)\n",
      "Requirement already satisfied: pytz>=2020.1 in c:\\users\\jtyap\\appdata\\local\\programs\\python\\python313\\lib\\site-packages (from pandas) (2025.2)\n",
      "Requirement already satisfied: tzdata>=2022.7 in c:\\users\\jtyap\\appdata\\local\\programs\\python\\python313\\lib\\site-packages (from pandas) (2025.2)\n",
      "Requirement already satisfied: bokeh!=3.0.*,!=3.2.*,>=1.4.0 in c:\\users\\jtyap\\appdata\\local\\programs\\python\\python313\\lib\\site-packages (from backtesting) (3.7.2)\n",
      "Requirement already satisfied: Jinja2>=2.9 in c:\\users\\jtyap\\appdata\\local\\programs\\python\\python313\\lib\\site-packages (from bokeh!=3.0.*,!=3.2.*,>=1.4.0->backtesting) (3.1.6)\n",
      "Requirement already satisfied: contourpy>=1.2 in c:\\users\\jtyap\\appdata\\local\\programs\\python\\python313\\lib\\site-packages (from bokeh!=3.0.*,!=3.2.*,>=1.4.0->backtesting) (1.3.1)\n",
      "Requirement already satisfied: narwhals>=1.13 in c:\\users\\jtyap\\appdata\\local\\programs\\python\\python313\\lib\\site-packages (from bokeh!=3.0.*,!=3.2.*,>=1.4.0->backtesting) (1.34.0)\n",
      "Requirement already satisfied: packaging>=16.8 in c:\\users\\jtyap\\appdata\\roaming\\python\\python313\\site-packages (from bokeh!=3.0.*,!=3.2.*,>=1.4.0->backtesting) (24.2)\n",
      "Requirement already satisfied: pillow>=7.1.0 in c:\\users\\jtyap\\appdata\\local\\programs\\python\\python313\\lib\\site-packages (from bokeh!=3.0.*,!=3.2.*,>=1.4.0->backtesting) (11.1.0)\n",
      "Requirement already satisfied: PyYAML>=3.10 in c:\\users\\jtyap\\appdata\\local\\programs\\python\\python313\\lib\\site-packages (from bokeh!=3.0.*,!=3.2.*,>=1.4.0->backtesting) (6.0.2)\n",
      "Requirement already satisfied: tornado>=6.2 in c:\\users\\jtyap\\appdata\\roaming\\python\\python313\\site-packages (from bokeh!=3.0.*,!=3.2.*,>=1.4.0->backtesting) (6.4.2)\n",
      "Requirement already satisfied: xyzservices>=2021.09.1 in c:\\users\\jtyap\\appdata\\local\\programs\\python\\python313\\lib\\site-packages (from bokeh!=3.0.*,!=3.2.*,>=1.4.0->backtesting) (2025.1.0)\n",
      "Requirement already satisfied: six>=1.5 in c:\\users\\jtyap\\appdata\\roaming\\python\\python313\\site-packages (from python-dateutil>=2.8.2->pandas) (1.17.0)\n",
      "Requirement already satisfied: MarkupSafe>=2.0 in c:\\users\\jtyap\\appdata\\local\\programs\\python\\python313\\lib\\site-packages (from Jinja2>=2.9->bokeh!=3.0.*,!=3.2.*,>=1.4.0->backtesting) (3.0.2)\n",
      "Note: you may need to restart the kernel to use updated packages.\n"
     ]
    },
    {
     "name": "stderr",
     "output_type": "stream",
     "text": [
      "\n",
      "[notice] A new release of pip is available: 24.3.1 -> 25.0.1\n",
      "[notice] To update, run: python.exe -m pip install --upgrade pip\n"
     ]
    }
   ],
   "source": [
    "%pip install numpy pandas backtesting joblib"
   ]
  },
  {
   "cell_type": "code",
   "execution_count": 13,
   "metadata": {},
   "outputs": [],
   "source": [
    "import pandas as pd\n",
    "\n",
    "import joblib\n",
    "\n",
    "import numpy as np\n",
    "from backtesting import Backtest, Strategy\n",
    "from backtesting.test import BTCUSD\n",
    "\n",
    "import config\n",
    "\n"
   ]
  },
  {
   "cell_type": "markdown",
   "metadata": {},
   "source": [
    "### Define Backtest Dataser"
   ]
  },
  {
   "cell_type": "code",
   "execution_count": 14,
   "metadata": {},
   "outputs": [],
   "source": [
    "# Load the dataset (which contains more features)\n",
    "backtest_dataset = pd.read_csv(\"../datasets/BTCUSDT_train_features.csv\") \n",
    "\n"
   ]
  },
  {
   "cell_type": "code",
   "execution_count": null,
   "metadata": {},
   "outputs": [],
   "source": [
    "hmmodel = joblib.load(\"../models/hmm.pkl\")\n",
    "\n",
    "training_df = pd.read_csv(\"../datasets/BTCUSDT_train_features.csv\")\n",
    "\n",
    "volume_mean = training_df['volume'].mean()\n",
    "volume_std = training_df['volume'].std()\n",
    "\n",
    "rsi_mean = training_df['rsi'].mean()\n",
    "rsi_std = training_df['rsi'].std()\n",
    "\n",
    "macd_mean = training_df['macd'].mean()\n",
    "macd_std = training_df['macd'].std()\n",
    "\n",
    "ema12_mean = training_df['ema_12'].mean()\n",
    "ema12_std = training_df['ema_12'].std()\n",
    "\n",
    "ema26_mean = training_df['ema_26'].mean()\n",
    "ema26_std = training_df['ema_26'].std()\n",
    "\n",
    "sma20_mean = training_df['sma_20'].mean()\n",
    "sma20_std = training_df['sma_20'].std()\n",
    "\n",
    "volatility_mean = training_df['volatility'].mean()\n",
    "volatility_std = training_df['volatility'].std()\n",
    "\n",
    "def HMM_predictor(yesterday_close, today_index):\n",
    "\n",
    "    today_df = backtest_dataset.iloc[today_index]\n",
    "\n",
    "    today_vol = today_df['volume']\n",
    "    today_rsi = today_df['rsi']\n",
    "    today_macd = today_df['macd']\n",
    "    today_ema12 = today_df['ema_12']\n",
    "    today_ema26 = today_df['ema_26']\n",
    "    today_sma20 = today_df['sma_20']\n",
    "    today_volatility = today_df['volatility']\n",
    "    today_close = today_df['close']\n",
    "    \n",
    "    # Calculate features\n",
    "    log_return = np.log(today_close/ yesterday_close)\n",
    "    volume_norm = (today_vol - volume_mean) / volume_std\n",
    "    rsi_norm = (today_rsi - rsi_mean) / rsi_std\n",
    "    macd_norm = (today_macd - macd_mean) / macd_std\n",
    "    ema12_norm = (today_ema12 - ema12_mean) / ema12_std\n",
    "    ema26_norm = (today_ema26 - ema26_mean) / ema26_std\n",
    "    sma20_norm = (today_sma20 - sma20_mean) / sma20_std\n",
    "    volatility_norm = (today_volatility - volatility_mean) / volatility_std\n",
    "\n",
    "    # Format as 2D array\n",
    "    new_obs = np.array([[log_return, volume_norm, rsi_norm, macd_norm, ema12_norm, ema26_norm, sma20_norm, volatility_norm]])\n",
    "\n",
    "    # Predict hidden state\n",
    "    state_today = hmmodel.predict(new_obs)\n",
    "    \n",
    "    market_state_today = config.STATE_LABELS[state_today[0]]\n",
    "\n",
    "    return market_state_today"
   ]
  },
  {
   "cell_type": "code",
   "execution_count": 16,
   "metadata": {},
   "outputs": [],
   "source": [
    "\n",
    "# class HMMStrategy(Strategy):\n",
    "#     def init(self):\n",
    "#         self.data_close = self.data.Close\n",
    "#         self.data_volume = self.data.Volume\n",
    "\n",
    "#     def next(self):\n",
    "#         print(\"Current position: \", self.position)\n",
    "#         if len(self.data_close) < 2:\n",
    "#             return  # Not enough data\n",
    "        \n",
    "\n",
    "#         # Get today's and yesterday's close and today's volume\n",
    "#         today_close = self.data_close[-1]\n",
    "#         yesterday_close = self.data_close[-2]\n",
    "#         today_vol = self.data_volume[-1]\n",
    "\n",
    "#         # Predict state using HMM\n",
    "#         predicted_state = HMM_predictor(today_close, yesterday_close, today_vol)\n",
    "#         print(f\"Predicted state: {predicted_state}\")\n",
    "\n",
    "#         # Define your action based on predicted state (assume 2 = bullish, 0 = bearish, 1 = neutral)\n",
    "#         if predicted_state == 1:\n",
    "#             # Bullish -> enter long\n",
    "#             if not self.position:\n",
    "#                 self.buy()\n",
    "#                 print(\"Buying\")\n",
    "#         elif predicted_state in [0,2]:\n",
    "#             # Bearish -> close long if exists\n",
    "#             if self.position:\n",
    "#                 self.position.close()\n",
    "#                 print(\"Closing position\")\n"
   ]
  },
  {
   "cell_type": "code",
   "execution_count": 17,
   "metadata": {},
   "outputs": [],
   "source": [
    "class HMMStrategy(Strategy):\n",
    "    def init(self):\n",
    "        self.holding_period = 0\n",
    "\n",
    "    def next(self):\n",
    "        today_index = self.data.index[-1]  \n",
    "        yesterday_close = self.data.Close[-2]\n",
    "        print(\"\\nCurrent index: \", today_index)\n",
    "        print(\"Yesterday close: \", yesterday_close)\n",
    "\n",
    "        predicted_state = HMM_predictor(yesterday_close, today_index)\n",
    "        print(f\"Predicted state: {predicted_state}\")\n",
    "        \n",
    "        print(\"Self holding period: \", self.holding_period)\n",
    "        if self.position:\n",
    "            self.holding_period += 1\n",
    "        else:\n",
    "            self.holding_period = 0\n",
    "\n",
    "      \n",
    "        if self.holding_period >= 30 or predicted_state == \"bearish\" or predicted_state == \"neutral\" : ## Bearish or neutral or holding period is over\n",
    "            if self.position:\n",
    "                self.position.close()\n",
    "                self.holding_period = 0\n",
    "                print(\"Closing position\")\n",
    "        elif predicted_state == \"bullish\": ## Bullish\n",
    "            if not self.position:\n",
    "                self.buy()\n",
    "                print(\"Buying\")\n"
   ]
  },
  {
   "cell_type": "code",
   "execution_count": 18,
   "metadata": {},
   "outputs": [
    {
     "name": "stderr",
     "output_type": "stream",
     "text": [
      "C:\\Users\\JTYAP\\AppData\\Local\\Temp\\ipykernel_7048\\1118971592.py:18: UserWarning: Data index is not datetime. Assuming simple periods, but `pd.DateTimeIndex` is advised.\n",
      "  bt = Backtest(backtest_df, HMMStrategy, cash=1000000, commission=0.0006)\n"
     ]
    },
    {
     "name": "stdout",
     "output_type": "stream",
     "text": [
      "\n",
      "Current index:  1\n",
      "Yesterday close:  13138.11\n"
     ]
    },
    {
     "ename": "ValueError",
     "evalue": "operands could not be broadcast together with shapes (1,1,8) (3,18) ",
     "output_type": "error",
     "traceback": [
      "\u001b[31m---------------------------------------------------------------------------\u001b[39m",
      "\u001b[31mValueError\u001b[39m                                Traceback (most recent call last)",
      "\u001b[36mCell\u001b[39m\u001b[36m \u001b[39m\u001b[32mIn[18]\u001b[39m\u001b[32m, line 19\u001b[39m\n\u001b[32m     15\u001b[39m backtest_df[\u001b[33m'\u001b[39m\u001b[33mDate\u001b[39m\u001b[33m'\u001b[39m] = pd.to_datetime(backtest_df[\u001b[33m'\u001b[39m\u001b[33mDate\u001b[39m\u001b[33m'\u001b[39m])\n\u001b[32m     18\u001b[39m bt = Backtest(backtest_df, HMMStrategy, cash=\u001b[32m1000000\u001b[39m, commission=\u001b[32m0.0006\u001b[39m)\n\u001b[32m---> \u001b[39m\u001b[32m19\u001b[39m stats = \u001b[43mbt\u001b[49m\u001b[43m.\u001b[49m\u001b[43mrun\u001b[49m\u001b[43m(\u001b[49m\u001b[43m)\u001b[49m\n\u001b[32m     20\u001b[39m \u001b[38;5;66;03m# bt.plot()\u001b[39;00m\n\u001b[32m     21\u001b[39m \n\u001b[32m     22\u001b[39m \u001b[38;5;66;03m# print(BTCUSD)\u001b[39;00m\n\u001b[32m   (...)\u001b[39m\u001b[32m     25\u001b[39m \u001b[38;5;66;03m# stats = bt.run()\u001b[39;00m\n\u001b[32m     26\u001b[39m \u001b[38;5;66;03m# bt.plot()\u001b[39;00m\n",
      "\u001b[36mFile \u001b[39m\u001b[32mc:\\Users\\JTYAP\\AppData\\Local\\Programs\\Python\\Python313\\Lib\\site-packages\\backtesting\\backtesting.py:1326\u001b[39m, in \u001b[36mBacktest.run\u001b[39m\u001b[34m(self, **kwargs)\u001b[39m\n\u001b[32m   1323\u001b[39m         \u001b[38;5;28;01mbreak\u001b[39;00m\n\u001b[32m   1325\u001b[39m     \u001b[38;5;66;03m# Next tick, a moment before bar close\u001b[39;00m\n\u001b[32m-> \u001b[39m\u001b[32m1326\u001b[39m     \u001b[43mstrategy\u001b[49m\u001b[43m.\u001b[49m\u001b[43mnext\u001b[49m\u001b[43m(\u001b[49m\u001b[43m)\u001b[49m\n\u001b[32m   1327\u001b[39m \u001b[38;5;28;01melse\u001b[39;00m:\n\u001b[32m   1328\u001b[39m     \u001b[38;5;28;01mif\u001b[39;00m \u001b[38;5;28mself\u001b[39m._finalize_trades \u001b[38;5;129;01mis\u001b[39;00m \u001b[38;5;28;01mTrue\u001b[39;00m:\n\u001b[32m   1329\u001b[39m         \u001b[38;5;66;03m# Close any remaining open trades so they produce some stats\u001b[39;00m\n",
      "\u001b[36mCell\u001b[39m\u001b[36m \u001b[39m\u001b[32mIn[17]\u001b[39m\u001b[32m, line 11\u001b[39m, in \u001b[36mHMMStrategy.next\u001b[39m\u001b[34m(self)\u001b[39m\n\u001b[32m      8\u001b[39m \u001b[38;5;28mprint\u001b[39m(\u001b[33m\"\u001b[39m\u001b[38;5;130;01m\\n\u001b[39;00m\u001b[33mCurrent index: \u001b[39m\u001b[33m\"\u001b[39m, today_index)\n\u001b[32m      9\u001b[39m \u001b[38;5;28mprint\u001b[39m(\u001b[33m\"\u001b[39m\u001b[33mYesterday close: \u001b[39m\u001b[33m\"\u001b[39m, yesterday_close)\n\u001b[32m---> \u001b[39m\u001b[32m11\u001b[39m predicted_state = \u001b[43mHMM_predictor\u001b[49m\u001b[43m(\u001b[49m\u001b[43myesterday_close\u001b[49m\u001b[43m,\u001b[49m\u001b[43m \u001b[49m\u001b[43mtoday_index\u001b[49m\u001b[43m)\u001b[49m\n\u001b[32m     12\u001b[39m \u001b[38;5;28mprint\u001b[39m(\u001b[33mf\u001b[39m\u001b[33m\"\u001b[39m\u001b[33mPredicted state: \u001b[39m\u001b[38;5;132;01m{\u001b[39;00mpredicted_state\u001b[38;5;132;01m}\u001b[39;00m\u001b[33m\"\u001b[39m)\n\u001b[32m     14\u001b[39m \u001b[38;5;28mprint\u001b[39m(\u001b[33m\"\u001b[39m\u001b[33mSelf holding period: \u001b[39m\u001b[33m\"\u001b[39m, \u001b[38;5;28mself\u001b[39m.holding_period)\n",
      "\u001b[36mCell\u001b[39m\u001b[36m \u001b[39m\u001b[32mIn[15]\u001b[39m\u001b[32m, line 56\u001b[39m, in \u001b[36mHMM_predictor\u001b[39m\u001b[34m(yesterday_close, today_index)\u001b[39m\n\u001b[32m     53\u001b[39m new_obs = np.array([[log_return, volume_norm, rsi_norm, macd_norm, ema12_norm, ema26_norm, sma20_norm, volatility_norm]])\n\u001b[32m     55\u001b[39m \u001b[38;5;66;03m# Predict hidden state\u001b[39;00m\n\u001b[32m---> \u001b[39m\u001b[32m56\u001b[39m state_today = \u001b[43mhmmodel\u001b[49m\u001b[43m.\u001b[49m\u001b[43mpredict\u001b[49m\u001b[43m(\u001b[49m\u001b[43mnew_obs\u001b[49m\u001b[43m)\u001b[49m\n\u001b[32m     58\u001b[39m market_state_today = config.STATE_LABELS[state_today[\u001b[32m0\u001b[39m]]\n\u001b[32m     60\u001b[39m \u001b[38;5;28;01mreturn\u001b[39;00m market_state_today\n",
      "\u001b[36mFile \u001b[39m\u001b[32mc:\\Users\\JTYAP\\AppData\\Local\\Programs\\Python\\Python313\\Lib\\site-packages\\hmmlearn\\base.py:375\u001b[39m, in \u001b[36m_AbstractHMM.predict\u001b[39m\u001b[34m(self, X, lengths)\u001b[39m\n\u001b[32m    358\u001b[39m \u001b[38;5;28;01mdef\u001b[39;00m\u001b[38;5;250m \u001b[39m\u001b[34mpredict\u001b[39m(\u001b[38;5;28mself\u001b[39m, X, lengths=\u001b[38;5;28;01mNone\u001b[39;00m):\n\u001b[32m    359\u001b[39m \u001b[38;5;250m    \u001b[39m\u001b[33;03m\"\"\"\u001b[39;00m\n\u001b[32m    360\u001b[39m \u001b[33;03m    Find most likely state sequence corresponding to ``X``.\u001b[39;00m\n\u001b[32m    361\u001b[39m \n\u001b[32m   (...)\u001b[39m\u001b[32m    373\u001b[39m \u001b[33;03m        Labels for each sample from ``X``.\u001b[39;00m\n\u001b[32m    374\u001b[39m \u001b[33;03m    \"\"\"\u001b[39;00m\n\u001b[32m--> \u001b[39m\u001b[32m375\u001b[39m     _, state_sequence = \u001b[38;5;28;43mself\u001b[39;49m\u001b[43m.\u001b[49m\u001b[43mdecode\u001b[49m\u001b[43m(\u001b[49m\u001b[43mX\u001b[49m\u001b[43m,\u001b[49m\u001b[43m \u001b[49m\u001b[43mlengths\u001b[49m\u001b[43m)\u001b[49m\n\u001b[32m    376\u001b[39m     \u001b[38;5;28;01mreturn\u001b[39;00m state_sequence\n",
      "\u001b[36mFile \u001b[39m\u001b[32mc:\\Users\\JTYAP\\AppData\\Local\\Programs\\Python\\Python313\\Lib\\site-packages\\hmmlearn\\base.py:352\u001b[39m, in \u001b[36m_AbstractHMM.decode\u001b[39m\u001b[34m(self, X, lengths, algorithm)\u001b[39m\n\u001b[32m    349\u001b[39m sub_state_sequences = []\n\u001b[32m    350\u001b[39m \u001b[38;5;28;01mfor\u001b[39;00m sub_X \u001b[38;5;129;01min\u001b[39;00m _utils.split_X_lengths(X, lengths):\n\u001b[32m    351\u001b[39m     \u001b[38;5;66;03m# XXX decoder works on a single sample at a time!\u001b[39;00m\n\u001b[32m--> \u001b[39m\u001b[32m352\u001b[39m     sub_log_prob, sub_state_sequence = \u001b[43mdecoder\u001b[49m\u001b[43m(\u001b[49m\u001b[43msub_X\u001b[49m\u001b[43m)\u001b[49m\n\u001b[32m    353\u001b[39m     log_prob += sub_log_prob\n\u001b[32m    354\u001b[39m     sub_state_sequences.append(sub_state_sequence)\n",
      "\u001b[36mFile \u001b[39m\u001b[32mc:\\Users\\JTYAP\\AppData\\Local\\Programs\\Python\\Python313\\Lib\\site-packages\\hmmlearn\\base.py:291\u001b[39m, in \u001b[36m_AbstractHMM._decode_viterbi\u001b[39m\u001b[34m(self, X)\u001b[39m\n\u001b[32m    290\u001b[39m \u001b[38;5;28;01mdef\u001b[39;00m\u001b[38;5;250m \u001b[39m\u001b[34m_decode_viterbi\u001b[39m(\u001b[38;5;28mself\u001b[39m, X):\n\u001b[32m--> \u001b[39m\u001b[32m291\u001b[39m     log_frameprob = \u001b[38;5;28;43mself\u001b[39;49m\u001b[43m.\u001b[49m\u001b[43m_compute_log_likelihood\u001b[49m\u001b[43m(\u001b[49m\u001b[43mX\u001b[49m\u001b[43m)\u001b[49m\n\u001b[32m    292\u001b[39m     \u001b[38;5;28;01mreturn\u001b[39;00m _hmmc.viterbi(\u001b[38;5;28mself\u001b[39m.startprob_, \u001b[38;5;28mself\u001b[39m.transmat_, log_frameprob)\n",
      "\u001b[36mFile \u001b[39m\u001b[32mc:\\Users\\JTYAP\\AppData\\Local\\Programs\\Python\\Python313\\Lib\\site-packages\\hmmlearn\\_emissions.py:130\u001b[39m, in \u001b[36mBaseGaussianHMM._compute_log_likelihood\u001b[39m\u001b[34m(self, X)\u001b[39m\n\u001b[32m    129\u001b[39m \u001b[38;5;28;01mdef\u001b[39;00m\u001b[38;5;250m \u001b[39m\u001b[34m_compute_log_likelihood\u001b[39m(\u001b[38;5;28mself\u001b[39m, X):\n\u001b[32m--> \u001b[39m\u001b[32m130\u001b[39m     \u001b[38;5;28;01mreturn\u001b[39;00m \u001b[43mlog_multivariate_normal_density\u001b[49m\u001b[43m(\u001b[49m\n\u001b[32m    131\u001b[39m \u001b[43m        \u001b[49m\u001b[43mX\u001b[49m\u001b[43m,\u001b[49m\u001b[43m \u001b[49m\u001b[38;5;28;43mself\u001b[39;49m\u001b[43m.\u001b[49m\u001b[43mmeans_\u001b[49m\u001b[43m,\u001b[49m\u001b[43m \u001b[49m\u001b[38;5;28;43mself\u001b[39;49m\u001b[43m.\u001b[49m\u001b[43m_covars_\u001b[49m\u001b[43m,\u001b[49m\u001b[43m \u001b[49m\u001b[38;5;28;43mself\u001b[39;49m\u001b[43m.\u001b[49m\u001b[43mcovariance_type\u001b[49m\u001b[43m)\u001b[49m\n",
      "\u001b[36mFile \u001b[39m\u001b[32mc:\\Users\\JTYAP\\AppData\\Local\\Programs\\Python\\Python313\\Lib\\site-packages\\hmmlearn\\stats.py:42\u001b[39m, in \u001b[36mlog_multivariate_normal_density\u001b[39m\u001b[34m(X, means, covars, covariance_type)\u001b[39m\n\u001b[32m      6\u001b[39m \u001b[38;5;250m\u001b[39m\u001b[33;03m\"\"\"\u001b[39;00m\n\u001b[32m      7\u001b[39m \u001b[33;03mCompute the log probability under a multivariate Gaussian distribution.\u001b[39;00m\n\u001b[32m      8\u001b[39m \n\u001b[32m   (...)\u001b[39m\u001b[32m     35\u001b[39m \u001b[33;03m    X under each of the n_components multivariate Gaussian distributions.\u001b[39;00m\n\u001b[32m     36\u001b[39m \u001b[33;03m\"\"\"\u001b[39;00m\n\u001b[32m     37\u001b[39m log_multivariate_normal_density_dict = {\n\u001b[32m     38\u001b[39m     \u001b[33m'\u001b[39m\u001b[33mspherical\u001b[39m\u001b[33m'\u001b[39m: _log_multivariate_normal_density_spherical,\n\u001b[32m     39\u001b[39m     \u001b[33m'\u001b[39m\u001b[33mtied\u001b[39m\u001b[33m'\u001b[39m: _log_multivariate_normal_density_tied,\n\u001b[32m     40\u001b[39m     \u001b[33m'\u001b[39m\u001b[33mdiag\u001b[39m\u001b[33m'\u001b[39m: _log_multivariate_normal_density_diag,\n\u001b[32m     41\u001b[39m     \u001b[33m'\u001b[39m\u001b[33mfull\u001b[39m\u001b[33m'\u001b[39m: _log_multivariate_normal_density_full}\n\u001b[32m---> \u001b[39m\u001b[32m42\u001b[39m \u001b[38;5;28;01mreturn\u001b[39;00m \u001b[43mlog_multivariate_normal_density_dict\u001b[49m\u001b[43m[\u001b[49m\u001b[43mcovariance_type\u001b[49m\u001b[43m]\u001b[49m\u001b[43m(\u001b[49m\n\u001b[32m     43\u001b[39m \u001b[43m    \u001b[49m\u001b[43mX\u001b[49m\u001b[43m,\u001b[49m\u001b[43m \u001b[49m\u001b[43mmeans\u001b[49m\u001b[43m,\u001b[49m\u001b[43m \u001b[49m\u001b[43mcovars\u001b[49m\n\u001b[32m     44\u001b[39m \u001b[43m\u001b[49m\u001b[43m)\u001b[49m\n",
      "\u001b[36mFile \u001b[39m\u001b[32mc:\\Users\\JTYAP\\AppData\\Local\\Programs\\Python\\Python313\\Lib\\site-packages\\hmmlearn\\stats.py:56\u001b[39m, in \u001b[36m_log_multivariate_normal_density_diag\u001b[39m\u001b[34m(X, means, covars)\u001b[39m\n\u001b[32m     52\u001b[39m covars = np.maximum(covars, np.finfo(\u001b[38;5;28mfloat\u001b[39m).tiny)\n\u001b[32m     53\u001b[39m \u001b[38;5;28;01mwith\u001b[39;00m np.errstate(over=\u001b[33m\"\u001b[39m\u001b[33mignore\u001b[39m\u001b[33m\"\u001b[39m):\n\u001b[32m     54\u001b[39m     \u001b[38;5;28;01mreturn\u001b[39;00m -\u001b[32m0.5\u001b[39m * (nf * np.log(\u001b[32m2\u001b[39m * np.pi)\n\u001b[32m     55\u001b[39m                    + np.log(covars).sum(axis=-\u001b[32m1\u001b[39m)\n\u001b[32m---> \u001b[39m\u001b[32m56\u001b[39m                    + ((\u001b[43mX\u001b[49m\u001b[43m[\u001b[49m\u001b[43m:\u001b[49m\u001b[43m,\u001b[49m\u001b[43m \u001b[49m\u001b[38;5;28;43;01mNone\u001b[39;49;00m\u001b[43m,\u001b[49m\u001b[43m \u001b[49m\u001b[43m:\u001b[49m\u001b[43m]\u001b[49m\u001b[43m \u001b[49m\u001b[43m-\u001b[49m\u001b[43m \u001b[49m\u001b[43mmeans\u001b[49m) ** \u001b[32m2\u001b[39m / covars).sum(axis=-\u001b[32m1\u001b[39m))\n",
      "\u001b[31mValueError\u001b[39m: operands could not be broadcast together with shapes (1,1,8) (3,18) "
     ]
    }
   ],
   "source": [
    "# Extract the relevant columns for backtesting\n",
    "backtest_df = pd.DataFrame(backtest_dataset.iloc[:, :6])\n",
    "\n",
    "# Rename the columns to match Backtesting.py requirements\n",
    "backtest_df.rename(columns={\n",
    "    'timestamp': 'Date',\n",
    "    'open': 'Open',\n",
    "    'high': 'High',\n",
    "    'low': 'Low',\n",
    "    'close': 'Close',\n",
    "    'volume': 'Volume'\n",
    "}, inplace=True)\n",
    "\n",
    "# Convert the 'Date' column to datetime\n",
    "backtest_df['Date'] = pd.to_datetime(backtest_df['Date'])\n",
    "\n",
    "\n",
    "bt = Backtest(backtest_df, HMMStrategy, cash=1000000, commission=0.0006)\n",
    "stats = bt.run()\n",
    "# bt.plot()\n",
    "\n",
    "# print(BTCUSD)\n",
    "\n",
    "# bt = Backtest(BTCUSD, HMMStrategy, cash=100000, commission=0.0006)\n",
    "# stats = bt.run()\n",
    "# bt.plot()\n"
   ]
  },
  {
   "cell_type": "code",
   "execution_count": null,
   "metadata": {},
   "outputs": [
    {
     "name": "stdout",
     "output_type": "stream",
     "text": [
      "Start                                     0.0\n",
      "End                                   26946.0\n",
      "Duration                              26946.0\n",
      "Exposure Time [%]                         0.0\n",
      "Equity Final [$]                    1000000.0\n",
      "Equity Peak [$]                     1000000.0\n",
      "Return [%]                                0.0\n",
      "Buy & Hold Return [%]               182.98035\n",
      "Return (Ann.) [%]                         0.0\n",
      "Volatility (Ann.) [%]                     NaN\n",
      "Sharpe Ratio                              NaN\n",
      "Sortino Ratio                             NaN\n",
      "Calmar Ratio                              NaN\n",
      "Alpha [%]                                 0.0\n",
      "Beta                                      0.0\n",
      "Max. Drawdown [%]                        -0.0\n",
      "Avg. Drawdown [%]                         NaN\n",
      "Max. Drawdown Duration                    NaN\n",
      "Avg. Drawdown Duration                    NaN\n",
      "# Trades                                  0.0\n",
      "Win Rate [%]                              NaN\n",
      "Best Trade [%]                            NaN\n",
      "Worst Trade [%]                           NaN\n",
      "Avg. Trade [%]                            NaN\n",
      "Max. Trade Duration                       NaN\n",
      "Avg. Trade Duration                       NaN\n",
      "Profit Factor                             NaN\n",
      "Expectancy [%]                            NaN\n",
      "SQN                                       NaN\n",
      "Kelly Criterion                           NaN\n",
      "_strategy                         HMMStrategy\n",
      "_equity_curve                       Equity...\n",
      "_trades                   Empty DataFrame\n",
      "...\n",
      "dtype: object\n"
     ]
    }
   ],
   "source": [
    "print (stats)"
   ]
  }
 ],
 "metadata": {
  "kernelspec": {
   "display_name": "Python 3",
   "language": "python",
   "name": "python3"
  },
  "language_info": {
   "codemirror_mode": {
    "name": "ipython",
    "version": 3
   },
   "file_extension": ".py",
   "mimetype": "text/x-python",
   "name": "python",
   "nbconvert_exporter": "python",
   "pygments_lexer": "ipython3",
   "version": "3.13.2"
  }
 },
 "nbformat": 4,
 "nbformat_minor": 2
}
