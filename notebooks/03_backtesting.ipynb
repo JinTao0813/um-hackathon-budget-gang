{
 "cells": [
  {
   "cell_type": "code",
   "execution_count": 2,
   "metadata": {},
   "outputs": [
    {
     "name": "stdout",
     "output_type": "stream",
     "text": [
      "Requirement already satisfied: pandas in /Library/Frameworks/Python.framework/Versions/3.13/lib/python3.13/site-packages (2.2.3)\n",
      "Collecting backtesting\n",
      "  Downloading backtesting-0.6.4-py3-none-any.whl.metadata (7.0 kB)\n",
      "Requirement already satisfied: numpy>=1.26.0 in /Library/Frameworks/Python.framework/Versions/3.13/lib/python3.13/site-packages (from pandas) (2.2.4)\n",
      "Requirement already satisfied: python-dateutil>=2.8.2 in /Users/winnee/Library/Python/3.13/lib/python/site-packages (from pandas) (2.9.0.post0)\n",
      "Requirement already satisfied: pytz>=2020.1 in /Library/Frameworks/Python.framework/Versions/3.13/lib/python3.13/site-packages (from pandas) (2025.2)\n",
      "Requirement already satisfied: tzdata>=2022.7 in /Library/Frameworks/Python.framework/Versions/3.13/lib/python3.13/site-packages (from pandas) (2025.2)\n",
      "Collecting bokeh!=3.0.*,!=3.2.*,>=1.4.0 (from backtesting)\n",
      "  Downloading bokeh-3.7.2-py3-none-any.whl.metadata (12 kB)\n",
      "Collecting Jinja2>=2.9 (from bokeh!=3.0.*,!=3.2.*,>=1.4.0->backtesting)\n",
      "  Downloading jinja2-3.1.6-py3-none-any.whl.metadata (2.9 kB)\n",
      "Requirement already satisfied: contourpy>=1.2 in /Library/Frameworks/Python.framework/Versions/3.13/lib/python3.13/site-packages (from bokeh!=3.0.*,!=3.2.*,>=1.4.0->backtesting) (1.3.1)\n",
      "Collecting narwhals>=1.13 (from bokeh!=3.0.*,!=3.2.*,>=1.4.0->backtesting)\n",
      "  Downloading narwhals-1.34.0-py3-none-any.whl.metadata (9.2 kB)\n",
      "Requirement already satisfied: packaging>=16.8 in /Users/winnee/Library/Python/3.13/lib/python/site-packages (from bokeh!=3.0.*,!=3.2.*,>=1.4.0->backtesting) (24.2)\n",
      "Requirement already satisfied: pillow>=7.1.0 in /Library/Frameworks/Python.framework/Versions/3.13/lib/python3.13/site-packages (from bokeh!=3.0.*,!=3.2.*,>=1.4.0->backtesting) (11.1.0)\n",
      "Collecting PyYAML>=3.10 (from bokeh!=3.0.*,!=3.2.*,>=1.4.0->backtesting)\n",
      "  Downloading PyYAML-6.0.2-cp313-cp313-macosx_11_0_arm64.whl.metadata (2.1 kB)\n",
      "Requirement already satisfied: tornado>=6.2 in /Users/winnee/Library/Python/3.13/lib/python/site-packages (from bokeh!=3.0.*,!=3.2.*,>=1.4.0->backtesting) (6.4.2)\n",
      "Collecting xyzservices>=2021.09.1 (from bokeh!=3.0.*,!=3.2.*,>=1.4.0->backtesting)\n",
      "  Downloading xyzservices-2025.1.0-py3-none-any.whl.metadata (4.3 kB)\n",
      "Requirement already satisfied: six>=1.5 in /Users/winnee/Library/Python/3.13/lib/python/site-packages (from python-dateutil>=2.8.2->pandas) (1.17.0)\n",
      "Collecting MarkupSafe>=2.0 (from Jinja2>=2.9->bokeh!=3.0.*,!=3.2.*,>=1.4.0->backtesting)\n",
      "  Downloading MarkupSafe-3.0.2-cp313-cp313-macosx_11_0_arm64.whl.metadata (4.0 kB)\n",
      "Downloading backtesting-0.6.4-py3-none-any.whl (191 kB)\n",
      "Downloading bokeh-3.7.2-py3-none-any.whl (7.0 MB)\n",
      "\u001b[2K   \u001b[90m━━━━━━━━━━━━━━━━━━━━━━━━━━━━━━━━━━━━━━━━\u001b[0m \u001b[32m7.0/7.0 MB\u001b[0m \u001b[31m3.4 MB/s\u001b[0m eta \u001b[36m0:00:00\u001b[0ma \u001b[36m0:00:01\u001b[0m\n",
      "\u001b[?25hDownloading jinja2-3.1.6-py3-none-any.whl (134 kB)\n",
      "Downloading narwhals-1.34.0-py3-none-any.whl (325 kB)\n",
      "Downloading PyYAML-6.0.2-cp313-cp313-macosx_11_0_arm64.whl (171 kB)\n",
      "Downloading xyzservices-2025.1.0-py3-none-any.whl (88 kB)\n",
      "Downloading MarkupSafe-3.0.2-cp313-cp313-macosx_11_0_arm64.whl (12 kB)\n",
      "Installing collected packages: xyzservices, PyYAML, narwhals, MarkupSafe, Jinja2, bokeh, backtesting\n",
      "\u001b[33m  WARNING: The script bokeh is installed in '/Library/Frameworks/Python.framework/Versions/3.13/bin' which is not on PATH.\n",
      "  Consider adding this directory to PATH or, if you prefer to suppress this warning, use --no-warn-script-location.\u001b[0m\u001b[33m\n",
      "\u001b[0mSuccessfully installed Jinja2-3.1.6 MarkupSafe-3.0.2 PyYAML-6.0.2 backtesting-0.6.4 bokeh-3.7.2 narwhals-1.34.0 xyzservices-2025.1.0\n",
      "Note: you may need to restart the kernel to use updated packages.\n"
     ]
    }
   ],
   "source": [
    "%pip install pandas backtesting"
   ]
  },
  {
   "cell_type": "code",
   "execution_count": 8,
   "metadata": {},
   "outputs": [],
   "source": [
    "import pandas as pd\n",
    "\n",
    "from backtesting import Backtest, Strategy\n",
    "from backtesting.test import BTCUSD\n"
   ]
  },
  {
   "cell_type": "code",
   "execution_count": null,
   "metadata": {},
   "outputs": [
    {
     "name": "stdout",
     "output_type": "stream",
     "text": [
      "            Open  High   Low  Close        Volume\n",
      "2012-01-31  4.58  7.38  3.80   5.55   2012.253436\n",
      "2012-02-29  5.55  6.50  3.80   4.99   4761.609081\n",
      "2012-03-31  4.99  5.44  4.54   4.92   9049.626282\n",
      "2012-04-30  4.92  5.43  4.69   5.00  16484.167772\n",
      "2012-05-31  5.00  5.15  4.86   5.14  18520.103801\n"
     ]
    }
   ],
   "source": [
    "class HMMStrategy(Strategy):\n",
    "    def init(self):\n",
    "        # Load state column as a strategy indicator\n",
    "        self.state = self.data.df['state'].values\n",
    "\n",
    "    def next(self):\n",
    "        current_state = self.state[self.i]\n",
    "        \n",
    "        # Example rule:\n",
    "        # Buy when bullish, sell when bearish\n",
    "        if current_state == 2:  # bullish\n",
    "            if not self.position:\n",
    "                self.buy()\n",
    "        elif current_state == 0:  # bearish\n",
    "            if self.position:\n",
    "                self.position.close()"
   ]
  },
  {
   "cell_type": "code",
   "execution_count": null,
   "metadata": {},
   "outputs": [],
   "source": [
    "df.rename(columns={'open': 'Open', 'high': 'High', 'low': 'Low', 'close': 'Close', 'volume': 'Volume'}, inplace=True)\n",
    "\n",
    "# Drop NaN or misaligned rows\n",
    "df = df.dropna()\n",
    "\n",
    "# Run backtest\n",
    "bt = Backtest(df, HMMStrategy, cash=10000, commission=0.006)\n",
    "stats = bt.run()\n",
    "bt.plot()"
   ]
  }
 ],
 "metadata": {
  "kernelspec": {
   "display_name": "Python 3",
   "language": "python",
   "name": "python3"
  },
  "language_info": {
   "codemirror_mode": {
    "name": "ipython",
    "version": 3
   },
   "file_extension": ".py",
   "mimetype": "text/x-python",
   "name": "python",
   "nbconvert_exporter": "python",
   "pygments_lexer": "ipython3",
   "version": "3.13.2"
  }
 },
 "nbformat": 4,
 "nbformat_minor": 2
}
