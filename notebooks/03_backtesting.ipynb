{
 "cells": [
  {
   "cell_type": "code",
   "execution_count": 1,
   "metadata": {},
   "outputs": [
    {
     "name": "stdout",
     "output_type": "stream",
     "text": [
      "Requirement already satisfied: numpy in c:\\users\\jtyap\\appdata\\local\\programs\\python\\python313\\lib\\site-packages (2.2.4)\n",
      "Requirement already satisfied: pandas in c:\\users\\jtyap\\appdata\\local\\programs\\python\\python313\\lib\\site-packages (2.2.3)\n",
      "Collecting backtesting\n",
      "  Downloading backtesting-0.6.4-py3-none-any.whl.metadata (7.0 kB)\n",
      "Requirement already satisfied: joblib in c:\\users\\jtyap\\appdata\\local\\programs\\python\\python313\\lib\\site-packages (1.4.2)\n",
      "Requirement already satisfied: python-dateutil>=2.8.2 in c:\\users\\jtyap\\appdata\\roaming\\python\\python313\\site-packages (from pandas) (2.9.0.post0)\n",
      "Requirement already satisfied: pytz>=2020.1 in c:\\users\\jtyap\\appdata\\local\\programs\\python\\python313\\lib\\site-packages (from pandas) (2025.2)\n",
      "Requirement already satisfied: tzdata>=2022.7 in c:\\users\\jtyap\\appdata\\local\\programs\\python\\python313\\lib\\site-packages (from pandas) (2025.2)\n",
      "Collecting bokeh!=3.0.*,!=3.2.*,>=1.4.0 (from backtesting)\n",
      "  Downloading bokeh-3.7.2-py3-none-any.whl.metadata (12 kB)\n",
      "Collecting Jinja2>=2.9 (from bokeh!=3.0.*,!=3.2.*,>=1.4.0->backtesting)\n",
      "  Downloading jinja2-3.1.6-py3-none-any.whl.metadata (2.9 kB)\n",
      "Requirement already satisfied: contourpy>=1.2 in c:\\users\\jtyap\\appdata\\local\\programs\\python\\python313\\lib\\site-packages (from bokeh!=3.0.*,!=3.2.*,>=1.4.0->backtesting) (1.3.1)\n",
      "Collecting narwhals>=1.13 (from bokeh!=3.0.*,!=3.2.*,>=1.4.0->backtesting)\n",
      "  Downloading narwhals-1.34.0-py3-none-any.whl.metadata (9.2 kB)\n",
      "Requirement already satisfied: packaging>=16.8 in c:\\users\\jtyap\\appdata\\roaming\\python\\python313\\site-packages (from bokeh!=3.0.*,!=3.2.*,>=1.4.0->backtesting) (24.2)\n",
      "Requirement already satisfied: pillow>=7.1.0 in c:\\users\\jtyap\\appdata\\local\\programs\\python\\python313\\lib\\site-packages (from bokeh!=3.0.*,!=3.2.*,>=1.4.0->backtesting) (11.1.0)\n",
      "Collecting PyYAML>=3.10 (from bokeh!=3.0.*,!=3.2.*,>=1.4.0->backtesting)\n",
      "  Downloading PyYAML-6.0.2-cp313-cp313-win_amd64.whl.metadata (2.1 kB)\n",
      "Requirement already satisfied: tornado>=6.2 in c:\\users\\jtyap\\appdata\\roaming\\python\\python313\\site-packages (from bokeh!=3.0.*,!=3.2.*,>=1.4.0->backtesting) (6.4.2)\n",
      "Collecting xyzservices>=2021.09.1 (from bokeh!=3.0.*,!=3.2.*,>=1.4.0->backtesting)\n",
      "  Downloading xyzservices-2025.1.0-py3-none-any.whl.metadata (4.3 kB)\n",
      "Requirement already satisfied: six>=1.5 in c:\\users\\jtyap\\appdata\\roaming\\python\\python313\\site-packages (from python-dateutil>=2.8.2->pandas) (1.17.0)\n",
      "Collecting MarkupSafe>=2.0 (from Jinja2>=2.9->bokeh!=3.0.*,!=3.2.*,>=1.4.0->backtesting)\n",
      "  Downloading MarkupSafe-3.0.2-cp313-cp313-win_amd64.whl.metadata (4.1 kB)\n",
      "Downloading backtesting-0.6.4-py3-none-any.whl (191 kB)\n",
      "Downloading bokeh-3.7.2-py3-none-any.whl (7.0 MB)\n",
      "   ---------------------------------------- 0.0/7.0 MB ? eta -:--:--\n",
      "   ----------- ---------------------------- 2.1/7.0 MB 11.3 MB/s eta 0:00:01\n",
      "   -------------------------- ------------- 4.7/7.0 MB 11.6 MB/s eta 0:00:01\n",
      "   ---------------------------------------- 7.0/7.0 MB 11.4 MB/s eta 0:00:00\n",
      "Downloading jinja2-3.1.6-py3-none-any.whl (134 kB)\n",
      "Downloading narwhals-1.34.0-py3-none-any.whl (325 kB)\n",
      "Downloading PyYAML-6.0.2-cp313-cp313-win_amd64.whl (156 kB)\n",
      "Downloading xyzservices-2025.1.0-py3-none-any.whl (88 kB)\n",
      "Downloading MarkupSafe-3.0.2-cp313-cp313-win_amd64.whl (15 kB)\n",
      "Installing collected packages: xyzservices, PyYAML, narwhals, MarkupSafe, Jinja2, bokeh, backtesting\n",
      "Successfully installed Jinja2-3.1.6 MarkupSafe-3.0.2 PyYAML-6.0.2 backtesting-0.6.4 bokeh-3.7.2 narwhals-1.34.0 xyzservices-2025.1.0\n",
      "Note: you may need to restart the kernel to use updated packages.\n"
     ]
    },
    {
     "name": "stderr",
     "output_type": "stream",
     "text": [
      "\n",
      "[notice] A new release of pip is available: 24.3.1 -> 25.0.1\n",
      "[notice] To update, run: python.exe -m pip install --upgrade pip\n"
     ]
    }
   ],
   "source": [
    "%pip install numpy pandas backtesting joblib"
   ]
  },
  {
   "cell_type": "code",
   "execution_count": 2,
   "metadata": {},
   "outputs": [
    {
     "name": "stderr",
     "output_type": "stream",
     "text": [
      "c:\\Users\\JTYAP\\AppData\\Local\\Programs\\Python\\Python313\\Lib\\site-packages\\backtesting\\_plotting.py:55: UserWarning: Jupyter Notebook detected. Setting Bokeh output to notebook. This may not work in Jupyter clients without JavaScript support, such as old IDEs. Reset with `backtesting.set_bokeh_output(notebook=False)`.\n",
      "  warnings.warn('Jupyter Notebook detected. '\n"
     ]
    },
    {
     "data": {
      "text/html": [
       "    <style>\n",
       "        .bk-notebook-logo {\n",
       "            display: block;\n",
       "            width: 20px;\n",
       "            height: 20px;\n",
       "            background-image: url(data:image/png;base64,iVBORw0KGgoAAAANSUhEUgAAABQAAAAUCAYAAACNiR0NAAAABHNCSVQICAgIfAhkiAAAAAlwSFlzAAALEgAACxIB0t1+/AAAABx0RVh0U29mdHdhcmUAQWRvYmUgRmlyZXdvcmtzIENTNui8sowAAAOkSURBVDiNjZRtaJVlGMd/1/08zzln5zjP1LWcU9N0NkN8m2CYjpgQYQXqSs0I84OLIC0hkEKoPtiH3gmKoiJDU7QpLgoLjLIQCpEsNJ1vqUOdO7ppbuec5+V+rj4ctwzd8IIbbi6u+8f1539dt3A78eXC7QizUF7gyV1fD1Yqg4JWz84yffhm0qkFqBogB9rM8tZdtwVsPUhWhGcFJngGeWrPzHm5oaMmkfEg1usvLFyc8jLRqDOMru7AyC8saQr7GG7f5fvDeH7Ej8CM66nIF+8yngt6HWaKh7k49Soy9nXurCi1o3qUbS3zWfrYeQDTB/Qj6kX6Ybhw4B+bOYoLKCC9H3Nu/leUTZ1JdRWkkn2ldcCamzrcf47KKXdAJllSlxAOkRgyHsGC/zRday5Qld9DyoM4/q/rUoy/CXh3jzOu3bHUVZeU+DEn8FInkPBFlu3+nW3Nw0mk6vCDiWg8CeJaxEwuHS3+z5RgY+YBR6V1Z1nxSOfoaPa4LASWxxdNp+VWTk7+4vzaou8v8PN+xo+KY2xsw6une2frhw05CTYOmQvsEhjhWjn0bmXPjpE1+kplmmkP3suftwTubK9Vq22qKmrBhpY4jvd5afdRA3wGjFAgcnTK2s4hY0/GPNIb0nErGMCRxWOOX64Z8RAC4oCXdklmEvcL8o0BfkNK4lUg9HTl+oPlQxdNo3Mg4Nv175e/1LDGzZen30MEjRUtmXSfiTVu1kK8W4txyV6BMKlbgk3lMwYCiusNy9fVfvvwMxv8Ynl6vxoByANLTWplvuj/nF9m2+PDtt1eiHPBr1oIfhCChQMBw6Aw0UulqTKZdfVvfG7VcfIqLG9bcldL/+pdWTLxLUy8Qq38heUIjh4XlzZxzQm19lLFlr8vdQ97rjZVOLf8nclzckbcD4wxXMidpX30sFd37Fv/GtwwhzhxGVAprjbg0gCAEeIgwCZyTV2Z1REEW8O4py0wsjeloKoMr6iCY6dP92H6Vw/oTyICIthibxjm/DfN9lVz8IqtqKYLUXfoKVMVQVVJOElGjrnnUt9T9wbgp8AyYKaGlqingHZU/uG2NTZSVqwHQTWkx9hxjkpWDaCg6Ckj5qebgBVbT3V3NNXMSiWSDdGV3hrtzla7J+duwPOToIg42ChPQOQjspnSlp1V+Gjdged7+8UN5CRAV7a5EdFNwCjEaBR27b3W890TE7g24NAP/mMDXRWrGoFPQI9ls/MWO2dWFAar/xcOIImbbpA3zgAAAABJRU5ErkJggg==);\n",
       "        }\n",
       "    </style>\n",
       "    <div>\n",
       "        <a href=\"https://bokeh.org\" target=\"_blank\" class=\"bk-notebook-logo\"></a>\n",
       "        <span id=\"da270649-bf85-4c70-9021-4b8410a2140e\">Loading BokehJS ...</span>\n",
       "    </div>\n"
      ]
     },
     "metadata": {},
     "output_type": "display_data"
    },
    {
     "data": {
      "application/javascript": "'use strict';\n(function(root) {\n  function now() {\n    return new Date();\n  }\n\n  const force = true;\n\n  if (typeof root._bokeh_onload_callbacks === \"undefined\" || force === true) {\n    root._bokeh_onload_callbacks = [];\n    root._bokeh_is_loading = undefined;\n  }\n\nconst JS_MIME_TYPE = 'application/javascript';\n  const HTML_MIME_TYPE = 'text/html';\n  const EXEC_MIME_TYPE = 'application/vnd.bokehjs_exec.v0+json';\n  const CLASS_NAME = 'output_bokeh rendered_html';\n\n  /**\n   * Render data to the DOM node\n   */\n  function render(props, node) {\n    const script = document.createElement(\"script\");\n    node.appendChild(script);\n  }\n\n  /**\n   * Handle when an output is cleared or removed\n   */\n  function handleClearOutput(event, handle) {\n    function drop(id) {\n      const view = Bokeh.index.get_by_id(id)\n      if (view != null) {\n        view.model.document.clear()\n        Bokeh.index.delete(view)\n      }\n    }\n\n    const cell = handle.cell;\n\n    const id = cell.output_area._bokeh_element_id;\n    const server_id = cell.output_area._bokeh_server_id;\n\n    // Clean up Bokeh references\n    if (id != null) {\n      drop(id)\n    }\n\n    if (server_id !== undefined) {\n      // Clean up Bokeh references\n      const cmd_clean = \"from bokeh.io.state import curstate; print(curstate().uuid_to_server['\" + server_id + \"'].get_sessions()[0].document.roots[0]._id)\";\n      cell.notebook.kernel.execute(cmd_clean, {\n        iopub: {\n          output: function(msg) {\n            const id = msg.content.text.trim()\n            drop(id)\n          }\n        }\n      });\n      // Destroy server and session\n      const cmd_destroy = \"import bokeh.io.notebook as ion; ion.destroy_server('\" + server_id + \"')\";\n      cell.notebook.kernel.execute(cmd_destroy);\n    }\n  }\n\n  /**\n   * Handle when a new output is added\n   */\n  function handleAddOutput(event, handle) {\n    const output_area = handle.output_area;\n    const output = handle.output;\n\n    // limit handleAddOutput to display_data with EXEC_MIME_TYPE content only\n    if ((output.output_type != \"display_data\") || (!Object.prototype.hasOwnProperty.call(output.data, EXEC_MIME_TYPE))) {\n      return\n    }\n\n    const toinsert = output_area.element.find(\".\" + CLASS_NAME.split(' ')[0]);\n\n    if (output.metadata[EXEC_MIME_TYPE][\"id\"] !== undefined) {\n      toinsert[toinsert.length - 1].firstChild.textContent = output.data[JS_MIME_TYPE];\n      // store reference to embed id on output_area\n      output_area._bokeh_element_id = output.metadata[EXEC_MIME_TYPE][\"id\"];\n    }\n    if (output.metadata[EXEC_MIME_TYPE][\"server_id\"] !== undefined) {\n      const bk_div = document.createElement(\"div\");\n      bk_div.innerHTML = output.data[HTML_MIME_TYPE];\n      const script_attrs = bk_div.children[0].attributes;\n      for (let i = 0; i < script_attrs.length; i++) {\n        toinsert[toinsert.length - 1].firstChild.setAttribute(script_attrs[i].name, script_attrs[i].value);\n        toinsert[toinsert.length - 1].firstChild.textContent = bk_div.children[0].textContent\n      }\n      // store reference to server id on output_area\n      output_area._bokeh_server_id = output.metadata[EXEC_MIME_TYPE][\"server_id\"];\n    }\n  }\n\n  function register_renderer(events, OutputArea) {\n\n    function append_mime(data, metadata, element) {\n      // create a DOM node to render to\n      const toinsert = this.create_output_subarea(\n        metadata,\n        CLASS_NAME,\n        EXEC_MIME_TYPE\n      );\n      this.keyboard_manager.register_events(toinsert);\n      // Render to node\n      const props = {data: data, metadata: metadata[EXEC_MIME_TYPE]};\n      render(props, toinsert[toinsert.length - 1]);\n      element.append(toinsert);\n      return toinsert\n    }\n\n    /* Handle when an output is cleared or removed */\n    events.on('clear_output.CodeCell', handleClearOutput);\n    events.on('delete.Cell', handleClearOutput);\n\n    /* Handle when a new output is added */\n    events.on('output_added.OutputArea', handleAddOutput);\n\n    /**\n     * Register the mime type and append_mime function with output_area\n     */\n    OutputArea.prototype.register_mime_type(EXEC_MIME_TYPE, append_mime, {\n      /* Is output safe? */\n      safe: true,\n      /* Index of renderer in `output_area.display_order` */\n      index: 0\n    });\n  }\n\n  // register the mime type if in Jupyter Notebook environment and previously unregistered\n  if (root.Jupyter !== undefined) {\n    const events = require('base/js/events');\n    const OutputArea = require('notebook/js/outputarea').OutputArea;\n\n    if (OutputArea.prototype.mime_types().indexOf(EXEC_MIME_TYPE) == -1) {\n      register_renderer(events, OutputArea);\n    }\n  }\n  if (typeof (root._bokeh_timeout) === \"undefined\" || force === true) {\n    root._bokeh_timeout = Date.now() + 5000;\n    root._bokeh_failed_load = false;\n  }\n\n  const NB_LOAD_WARNING = {'data': {'text/html':\n     \"<div style='background-color: #fdd'>\\n\"+\n     \"<p>\\n\"+\n     \"BokehJS does not appear to have successfully loaded. If loading BokehJS from CDN, this \\n\"+\n     \"may be due to a slow or bad network connection. Possible fixes:\\n\"+\n     \"</p>\\n\"+\n     \"<ul>\\n\"+\n     \"<li>re-rerun `output_notebook()` to attempt to load from CDN again, or</li>\\n\"+\n     \"<li>use INLINE resources instead, as so:</li>\\n\"+\n     \"</ul>\\n\"+\n     \"<code>\\n\"+\n     \"from bokeh.resources import INLINE\\n\"+\n     \"output_notebook(resources=INLINE)\\n\"+\n     \"</code>\\n\"+\n     \"</div>\"}};\n\n  function display_loaded(error = null) {\n    const el = document.getElementById(\"da270649-bf85-4c70-9021-4b8410a2140e\");\n    if (el != null) {\n      const html = (() => {\n        if (typeof root.Bokeh === \"undefined\") {\n          if (error == null) {\n            return \"BokehJS is loading ...\";\n          } else {\n            return \"BokehJS failed to load.\";\n          }\n        } else {\n          const prefix = `BokehJS ${root.Bokeh.version}`;\n          if (error == null) {\n            return `${prefix} successfully loaded.`;\n          } else {\n            return `${prefix} <b>encountered errors</b> while loading and may not function as expected.`;\n          }\n        }\n      })();\n      el.innerHTML = html;\n\n      if (error != null) {\n        const wrapper = document.createElement(\"div\");\n        wrapper.style.overflow = \"auto\";\n        wrapper.style.height = \"5em\";\n        wrapper.style.resize = \"vertical\";\n        const content = document.createElement(\"div\");\n        content.style.fontFamily = \"monospace\";\n        content.style.whiteSpace = \"pre-wrap\";\n        content.style.backgroundColor = \"rgb(255, 221, 221)\";\n        content.textContent = error.stack ?? error.toString();\n        wrapper.append(content);\n        el.append(wrapper);\n      }\n    } else if (Date.now() < root._bokeh_timeout) {\n      setTimeout(() => display_loaded(error), 100);\n    }\n  }\n\n  function run_callbacks() {\n    try {\n      root._bokeh_onload_callbacks.forEach(function(callback) {\n        if (callback != null)\n          callback();\n      });\n    } finally {\n      delete root._bokeh_onload_callbacks\n    }\n    console.debug(\"Bokeh: all callbacks have finished\");\n  }\n\n  function load_libs(css_urls, js_urls, callback) {\n    if (css_urls == null) css_urls = [];\n    if (js_urls == null) js_urls = [];\n\n    root._bokeh_onload_callbacks.push(callback);\n    if (root._bokeh_is_loading > 0) {\n      console.debug(\"Bokeh: BokehJS is being loaded, scheduling callback at\", now());\n      return null;\n    }\n    if (js_urls == null || js_urls.length === 0) {\n      run_callbacks();\n      return null;\n    }\n    console.debug(\"Bokeh: BokehJS not loaded, scheduling load and callback at\", now());\n    root._bokeh_is_loading = css_urls.length + js_urls.length;\n\n    function on_load() {\n      root._bokeh_is_loading--;\n      if (root._bokeh_is_loading === 0) {\n        console.debug(\"Bokeh: all BokehJS libraries/stylesheets loaded\");\n        run_callbacks()\n      }\n    }\n\n    function on_error(url) {\n      console.error(\"failed to load \" + url);\n    }\n\n    for (let i = 0; i < css_urls.length; i++) {\n      const url = css_urls[i];\n      const element = document.createElement(\"link\");\n      element.onload = on_load;\n      element.onerror = on_error.bind(null, url);\n      element.rel = \"stylesheet\";\n      element.type = \"text/css\";\n      element.href = url;\n      console.debug(\"Bokeh: injecting link tag for BokehJS stylesheet: \", url);\n      document.body.appendChild(element);\n    }\n\n    for (let i = 0; i < js_urls.length; i++) {\n      const url = js_urls[i];\n      const element = document.createElement('script');\n      element.onload = on_load;\n      element.onerror = on_error.bind(null, url);\n      element.async = false;\n      element.src = url;\n      console.debug(\"Bokeh: injecting script tag for BokehJS library: \", url);\n      document.head.appendChild(element);\n    }\n  };\n\n  function inject_raw_css(css) {\n    const element = document.createElement(\"style\");\n    element.appendChild(document.createTextNode(css));\n    document.body.appendChild(element);\n  }\n\n  const js_urls = [\"https://cdn.bokeh.org/bokeh/release/bokeh-3.7.2.min.js\", \"https://cdn.bokeh.org/bokeh/release/bokeh-gl-3.7.2.min.js\", \"https://cdn.bokeh.org/bokeh/release/bokeh-widgets-3.7.2.min.js\", \"https://cdn.bokeh.org/bokeh/release/bokeh-tables-3.7.2.min.js\", \"https://cdn.bokeh.org/bokeh/release/bokeh-mathjax-3.7.2.min.js\"];\n  const css_urls = [];\n\n  const inline_js = [    function(Bokeh) {\n      Bokeh.set_log_level(\"info\");\n    },\nfunction(Bokeh) {\n    }\n  ];\n\n  function run_inline_js() {\n    if (root.Bokeh !== undefined || force === true) {\n      try {\n            for (let i = 0; i < inline_js.length; i++) {\n      inline_js[i].call(root, root.Bokeh);\n    }\n\n      } catch (error) {display_loaded(error);throw error;\n      }if (force === true) {\n        display_loaded();\n      }} else if (Date.now() < root._bokeh_timeout) {\n      setTimeout(run_inline_js, 100);\n    } else if (!root._bokeh_failed_load) {\n      console.log(\"Bokeh: BokehJS failed to load within specified timeout.\");\n      root._bokeh_failed_load = true;\n    } else if (force !== true) {\n      const cell = $(document.getElementById(\"da270649-bf85-4c70-9021-4b8410a2140e\")).parents('.cell').data().cell;\n      cell.output_area.append_execute_result(NB_LOAD_WARNING)\n    }\n  }\n\n  if (root._bokeh_is_loading === 0) {\n    console.debug(\"Bokeh: BokehJS loaded, going straight to plotting\");\n    run_inline_js();\n  } else {\n    load_libs(css_urls, js_urls, function() {\n      console.debug(\"Bokeh: BokehJS plotting callback run at\", now());\n      run_inline_js();\n    });\n  }\n}(window));",
      "application/vnd.bokehjs_load.v0+json": ""
     },
     "metadata": {},
     "output_type": "display_data"
    }
   ],
   "source": [
    "import pandas as pd\n",
    "\n",
    "import joblib\n",
    "\n",
    "import numpy as np\n",
    "from backtesting import Backtest, Strategy\n",
    "from backtesting.test import BTCUSD\n",
    "\n",
    "\n"
   ]
  },
  {
   "cell_type": "code",
   "execution_count": null,
   "metadata": {},
   "outputs": [],
   "source": [
    "hmmodel = joblib.load(\"../models/hmm.pkl\")\n",
    "\n",
    "training_df = pd.read_csv(\"../datasets/BTCUSDT_train_features.csv\")\n",
    "\n",
    "\n",
    "volume_mean = training_df['volume'].mean()\n",
    "volume_std = training_df['volume'].std()\n",
    "\n",
    "volume_mean = training_df['volume'].mean()\n",
    "volume_std = training_df['volume'].std()\n",
    "\n",
    "rsi_mean = training_df['rsi'].mean()\n",
    "rsi_std = training_df['rsi'].std()\n",
    "\n",
    "macd_mean = training_df['macd'].mean()\n",
    "macd_std = training_df['macd'].std()\n",
    "\n",
    "ema12_mean = training_df['ema_12'].mean()\n",
    "ema12_std = training_df['ema_12'].std()\n",
    "\n",
    "ema26_mean = training_df['ema_26'].mean()\n",
    "ema26_std = training_df['ema_26'].std()\n",
    "\n",
    "sma20_mean = training_df['sma_20'].mean()\n",
    "sma20_std = training_df['sma_20'].std()\n",
    "\n",
    "volatility_mean = training_df['volatility'].mean()\n",
    "volatility_std = training_df['volatility'].std()\n",
    "\n",
    "def HMM_predictor(today_close, yesterday_close, today_vol, today_rsi, today_macd, today_ema12, today_ema26, today_sma20, today_volatility):\n",
    "\n",
    "    # Calculate features\n",
    "    log_return = np.log(today_close / yesterday_close)\n",
    "    volume_norm = (today_vol - volume_mean) / volume_std\n",
    "    rsi_norm = (today_rsi - rsi_mean) / rsi_std\n",
    "    macd_norm = (today_macd - macd_mean) / macd_std\n",
    "    ema12_norm = (today_ema12 - ema12_mean) / ema12_std\n",
    "    ema26_norm = (today_ema26 - ema26_mean) / ema26_std\n",
    "    sma20_norm = (today_sma20 - sma20_mean) / sma20_std\n",
    "    volatility_norm = (today_volatility - volatility_mean) / volatility_std\n",
    "\n",
    "    # Format as 2D array\n",
    "    new_obs = np.array([[log_return, volume_norm, rsi_norm, macd_norm, ema12_norm, ema26_norm, sma20_norm, volatility_norm]])\n",
    "\n",
    "    # Predict hidden state\n",
    "    state_today = hmmodel.predict(new_obs)\n",
    "\n",
    "    return state_today[0]"
   ]
  },
  {
   "cell_type": "code",
   "execution_count": 4,
   "metadata": {},
   "outputs": [],
   "source": [
    "\n",
    "# class HMMStrategy(Strategy):\n",
    "#     def init(self):\n",
    "#         self.data_close = self.data.Close\n",
    "#         self.data_volume = self.data.Volume\n",
    "\n",
    "#     def next(self):\n",
    "#         print(\"Current position: \", self.position)\n",
    "#         if len(self.data_close) < 2:\n",
    "#             return  # Not enough data\n",
    "        \n",
    "\n",
    "#         # Get today's and yesterday's close and today's volume\n",
    "#         today_close = self.data_close[-1]\n",
    "#         yesterday_close = self.data_close[-2]\n",
    "#         today_vol = self.data_volume[-1]\n",
    "\n",
    "#         # Predict state using HMM\n",
    "#         predicted_state = HMM_predictor(today_close, yesterday_close, today_vol)\n",
    "#         print(f\"Predicted state: {predicted_state}\")\n",
    "\n",
    "#         # Define your action based on predicted state (assume 2 = bullish, 0 = bearish, 1 = neutral)\n",
    "#         if predicted_state == 1:\n",
    "#             # Bullish -> enter long\n",
    "#             if not self.position:\n",
    "#                 self.buy()\n",
    "#                 print(\"Buying\")\n",
    "#         elif predicted_state in [0,2]:\n",
    "#             # Bearish -> close long if exists\n",
    "#             if self.position:\n",
    "#                 self.position.close()\n",
    "#                 print(\"Closing position\")\n"
   ]
  },
  {
   "cell_type": "code",
   "execution_count": 5,
   "metadata": {},
   "outputs": [],
   "source": [
    "class HMMStrategy(Strategy):\n",
    "    def init(self):\n",
    "        self.holding_period = 0\n",
    "\n",
    "    def next(self):\n",
    "        today_close = self.data.Close[-1]\n",
    "        yesterday_close = self.data.Close[-2]\n",
    "        today_vol = self.data.Volume[-1]\n",
    "\n",
    "        predicted_state = HMM_predictor(today_close, yesterday_close, today_vol)\n",
    "        print(f\"Predicted state: {predicted_state}\")\n",
    "        \n",
    "        print(\"Self holding period: \", self.holding_period)\n",
    "        if self.position:\n",
    "            self.holding_period += 1\n",
    "        else:\n",
    "            self.holding_period = 0\n",
    "\n",
    "      \n",
    "        if self.holding_period >= 30 or predicted_state == 2:\n",
    "            if self.position:\n",
    "                self.position.close()\n",
    "                self.holding_period = 0\n",
    "                print(\"Closing position\")\n",
    "        elif predicted_state == 1:\n",
    "            if not self.position:\n",
    "                self.buy()\n",
    "                print(\"Buying\")\n"
   ]
  },
  {
   "cell_type": "code",
   "execution_count": 6,
   "metadata": {},
   "outputs": [
    {
     "name": "stdout",
     "output_type": "stream",
     "text": [
      "                      Date      Open      High       Low     Close  \\\n",
      "0      2020-12-31 16:00:00  28820.87  28854.99  28308.28  28399.99   \n",
      "1      2020-12-31 17:00:00  28399.98  28777.00  28379.00  28595.26   \n",
      "2      2020-12-31 18:00:00  28594.03  28947.00  28500.00  28917.86   \n",
      "3      2020-12-31 19:00:00  28920.73  29055.00  28795.46  28949.67   \n",
      "4      2020-12-31 20:00:00  28949.64  29197.99  28921.01  29185.05   \n",
      "...                    ...       ...       ...       ...       ...   \n",
      "26991  2024-01-30 11:00:00  43472.51  43558.98  43407.26  43526.96   \n",
      "26992  2024-01-30 12:00:00  43526.95  43872.99  43253.55  43394.50   \n",
      "26993  2024-01-30 13:00:00  43388.55  43480.75  43144.99  43291.84   \n",
      "26994  2024-01-30 14:00:00  43290.68  43507.24  43115.47  43479.72   \n",
      "26995  2024-01-30 15:00:00  43479.72  43630.93  43293.12  43379.53   \n",
      "\n",
      "            Volume  \n",
      "0      1120.673910  \n",
      "1      1360.142505  \n",
      "2      1380.669440  \n",
      "3      1558.176088  \n",
      "4      1306.598512  \n",
      "...            ...  \n",
      "26991   321.065704  \n",
      "26992  1045.114230  \n",
      "26993   641.664111  \n",
      "26994   762.811522  \n",
      "26995  1261.506661  \n",
      "\n",
      "[26996 rows x 6 columns]\n"
     ]
    },
    {
     "name": "stderr",
     "output_type": "stream",
     "text": [
      "C:\\Users\\JTYAP\\AppData\\Local\\Temp\\ipykernel_11604\\3656171639.py:8: UserWarning: Data index is not datetime. Assuming simple periods, but `pd.DateTimeIndex` is advised.\n",
      "  bt = Backtest(backtest_df, HMMStrategy, cash=1000000, commission=0.0006)\n"
     ]
    },
    {
     "ename": "ValueError",
     "evalue": "operands could not be broadcast together with shapes (1,2) (8,) ",
     "output_type": "error",
     "traceback": [
      "\u001b[31m---------------------------------------------------------------------------\u001b[39m",
      "\u001b[31mValueError\u001b[39m                                Traceback (most recent call last)",
      "\u001b[36mCell\u001b[39m\u001b[36m \u001b[39m\u001b[32mIn[6]\u001b[39m\u001b[32m, line 9\u001b[39m\n\u001b[32m      5\u001b[39m \u001b[38;5;28mprint\u001b[39m(backtest_df)\n\u001b[32m      8\u001b[39m bt = Backtest(backtest_df, HMMStrategy, cash=\u001b[32m1000000\u001b[39m, commission=\u001b[32m0.0006\u001b[39m)\n\u001b[32m----> \u001b[39m\u001b[32m9\u001b[39m stats = \u001b[43mbt\u001b[49m\u001b[43m.\u001b[49m\u001b[43mrun\u001b[49m\u001b[43m(\u001b[49m\u001b[43m)\u001b[49m\n\u001b[32m     10\u001b[39m \u001b[38;5;66;03m# bt.plot()\u001b[39;00m\n\u001b[32m     11\u001b[39m \n\u001b[32m     12\u001b[39m \u001b[38;5;66;03m# print(BTCUSD)\u001b[39;00m\n\u001b[32m   (...)\u001b[39m\u001b[32m     15\u001b[39m \u001b[38;5;66;03m# stats = bt.run()\u001b[39;00m\n\u001b[32m     16\u001b[39m \u001b[38;5;66;03m# bt.plot()\u001b[39;00m\n",
      "\u001b[36mFile \u001b[39m\u001b[32mc:\\Users\\JTYAP\\AppData\\Local\\Programs\\Python\\Python313\\Lib\\site-packages\\backtesting\\backtesting.py:1326\u001b[39m, in \u001b[36mBacktest.run\u001b[39m\u001b[34m(self, **kwargs)\u001b[39m\n\u001b[32m   1323\u001b[39m         \u001b[38;5;28;01mbreak\u001b[39;00m\n\u001b[32m   1325\u001b[39m     \u001b[38;5;66;03m# Next tick, a moment before bar close\u001b[39;00m\n\u001b[32m-> \u001b[39m\u001b[32m1326\u001b[39m     \u001b[43mstrategy\u001b[49m\u001b[43m.\u001b[49m\u001b[43mnext\u001b[49m\u001b[43m(\u001b[49m\u001b[43m)\u001b[49m\n\u001b[32m   1327\u001b[39m \u001b[38;5;28;01melse\u001b[39;00m:\n\u001b[32m   1328\u001b[39m     \u001b[38;5;28;01mif\u001b[39;00m \u001b[38;5;28mself\u001b[39m._finalize_trades \u001b[38;5;129;01mis\u001b[39;00m \u001b[38;5;28;01mTrue\u001b[39;00m:\n\u001b[32m   1329\u001b[39m         \u001b[38;5;66;03m# Close any remaining open trades so they produce some stats\u001b[39;00m\n",
      "\u001b[36mCell\u001b[39m\u001b[36m \u001b[39m\u001b[32mIn[5]\u001b[39m\u001b[32m, line 10\u001b[39m, in \u001b[36mHMMStrategy.next\u001b[39m\u001b[34m(self)\u001b[39m\n\u001b[32m      7\u001b[39m yesterday_close = \u001b[38;5;28mself\u001b[39m.data.Close[-\u001b[32m2\u001b[39m]\n\u001b[32m      8\u001b[39m today_vol = \u001b[38;5;28mself\u001b[39m.data.Volume[-\u001b[32m1\u001b[39m]\n\u001b[32m---> \u001b[39m\u001b[32m10\u001b[39m predicted_state = \u001b[43mHMM_predictor\u001b[49m\u001b[43m(\u001b[49m\u001b[43mtoday_close\u001b[49m\u001b[43m,\u001b[49m\u001b[43m \u001b[49m\u001b[43myesterday_close\u001b[49m\u001b[43m,\u001b[49m\u001b[43m \u001b[49m\u001b[43mtoday_vol\u001b[49m\u001b[43m)\u001b[49m\n\u001b[32m     11\u001b[39m \u001b[38;5;28mprint\u001b[39m(\u001b[33mf\u001b[39m\u001b[33m\"\u001b[39m\u001b[33mPredicted state: \u001b[39m\u001b[38;5;132;01m{\u001b[39;00mpredicted_state\u001b[38;5;132;01m}\u001b[39;00m\u001b[33m\"\u001b[39m)\n\u001b[32m     13\u001b[39m \u001b[38;5;28mprint\u001b[39m(\u001b[33m\"\u001b[39m\u001b[33mSelf holding period: \u001b[39m\u001b[33m\"\u001b[39m, \u001b[38;5;28mself\u001b[39m.holding_period)\n",
      "\u001b[36mCell\u001b[39m\u001b[36m \u001b[39m\u001b[32mIn[3]\u001b[39m\u001b[32m, line 18\u001b[39m, in \u001b[36mHMM_predictor\u001b[39m\u001b[34m(today_close, yesterday_close, today_vol)\u001b[39m\n\u001b[32m     15\u001b[39m new_obs = np.array([[log_return, volume_norm]])\n\u001b[32m     17\u001b[39m \u001b[38;5;66;03m# Predict hidden state\u001b[39;00m\n\u001b[32m---> \u001b[39m\u001b[32m18\u001b[39m state_today = \u001b[43mhmmodel\u001b[49m\u001b[43m.\u001b[49m\u001b[43mpredict\u001b[49m\u001b[43m(\u001b[49m\u001b[43mnew_obs\u001b[49m\u001b[43m)\u001b[49m\n\u001b[32m     21\u001b[39m \u001b[38;5;28;01mreturn\u001b[39;00m \u001b[38;5;28mint\u001b[39m(state_today[\u001b[32m0\u001b[39m])\n",
      "\u001b[36mFile \u001b[39m\u001b[32mc:\\Users\\JTYAP\\AppData\\Local\\Programs\\Python\\Python313\\Lib\\site-packages\\hmmlearn\\base.py:375\u001b[39m, in \u001b[36m_AbstractHMM.predict\u001b[39m\u001b[34m(self, X, lengths)\u001b[39m\n\u001b[32m    358\u001b[39m \u001b[38;5;28;01mdef\u001b[39;00m\u001b[38;5;250m \u001b[39m\u001b[34mpredict\u001b[39m(\u001b[38;5;28mself\u001b[39m, X, lengths=\u001b[38;5;28;01mNone\u001b[39;00m):\n\u001b[32m    359\u001b[39m \u001b[38;5;250m    \u001b[39m\u001b[33;03m\"\"\"\u001b[39;00m\n\u001b[32m    360\u001b[39m \u001b[33;03m    Find most likely state sequence corresponding to ``X``.\u001b[39;00m\n\u001b[32m    361\u001b[39m \n\u001b[32m   (...)\u001b[39m\u001b[32m    373\u001b[39m \u001b[33;03m        Labels for each sample from ``X``.\u001b[39;00m\n\u001b[32m    374\u001b[39m \u001b[33;03m    \"\"\"\u001b[39;00m\n\u001b[32m--> \u001b[39m\u001b[32m375\u001b[39m     _, state_sequence = \u001b[38;5;28;43mself\u001b[39;49m\u001b[43m.\u001b[49m\u001b[43mdecode\u001b[49m\u001b[43m(\u001b[49m\u001b[43mX\u001b[49m\u001b[43m,\u001b[49m\u001b[43m \u001b[49m\u001b[43mlengths\u001b[49m\u001b[43m)\u001b[49m\n\u001b[32m    376\u001b[39m     \u001b[38;5;28;01mreturn\u001b[39;00m state_sequence\n",
      "\u001b[36mFile \u001b[39m\u001b[32mc:\\Users\\JTYAP\\AppData\\Local\\Programs\\Python\\Python313\\Lib\\site-packages\\hmmlearn\\base.py:352\u001b[39m, in \u001b[36m_AbstractHMM.decode\u001b[39m\u001b[34m(self, X, lengths, algorithm)\u001b[39m\n\u001b[32m    349\u001b[39m sub_state_sequences = []\n\u001b[32m    350\u001b[39m \u001b[38;5;28;01mfor\u001b[39;00m sub_X \u001b[38;5;129;01min\u001b[39;00m _utils.split_X_lengths(X, lengths):\n\u001b[32m    351\u001b[39m     \u001b[38;5;66;03m# XXX decoder works on a single sample at a time!\u001b[39;00m\n\u001b[32m--> \u001b[39m\u001b[32m352\u001b[39m     sub_log_prob, sub_state_sequence = \u001b[43mdecoder\u001b[49m\u001b[43m(\u001b[49m\u001b[43msub_X\u001b[49m\u001b[43m)\u001b[49m\n\u001b[32m    353\u001b[39m     log_prob += sub_log_prob\n\u001b[32m    354\u001b[39m     sub_state_sequences.append(sub_state_sequence)\n",
      "\u001b[36mFile \u001b[39m\u001b[32mc:\\Users\\JTYAP\\AppData\\Local\\Programs\\Python\\Python313\\Lib\\site-packages\\hmmlearn\\base.py:291\u001b[39m, in \u001b[36m_AbstractHMM._decode_viterbi\u001b[39m\u001b[34m(self, X)\u001b[39m\n\u001b[32m    290\u001b[39m \u001b[38;5;28;01mdef\u001b[39;00m\u001b[38;5;250m \u001b[39m\u001b[34m_decode_viterbi\u001b[39m(\u001b[38;5;28mself\u001b[39m, X):\n\u001b[32m--> \u001b[39m\u001b[32m291\u001b[39m     log_frameprob = \u001b[38;5;28;43mself\u001b[39;49m\u001b[43m.\u001b[49m\u001b[43m_compute_log_likelihood\u001b[49m\u001b[43m(\u001b[49m\u001b[43mX\u001b[49m\u001b[43m)\u001b[49m\n\u001b[32m    292\u001b[39m     \u001b[38;5;28;01mreturn\u001b[39;00m _hmmc.viterbi(\u001b[38;5;28mself\u001b[39m.startprob_, \u001b[38;5;28mself\u001b[39m.transmat_, log_frameprob)\n",
      "\u001b[36mFile \u001b[39m\u001b[32mc:\\Users\\JTYAP\\AppData\\Local\\Programs\\Python\\Python313\\Lib\\site-packages\\hmmlearn\\_emissions.py:130\u001b[39m, in \u001b[36mBaseGaussianHMM._compute_log_likelihood\u001b[39m\u001b[34m(self, X)\u001b[39m\n\u001b[32m    129\u001b[39m \u001b[38;5;28;01mdef\u001b[39;00m\u001b[38;5;250m \u001b[39m\u001b[34m_compute_log_likelihood\u001b[39m(\u001b[38;5;28mself\u001b[39m, X):\n\u001b[32m--> \u001b[39m\u001b[32m130\u001b[39m     \u001b[38;5;28;01mreturn\u001b[39;00m \u001b[43mlog_multivariate_normal_density\u001b[49m\u001b[43m(\u001b[49m\n\u001b[32m    131\u001b[39m \u001b[43m        \u001b[49m\u001b[43mX\u001b[49m\u001b[43m,\u001b[49m\u001b[43m \u001b[49m\u001b[38;5;28;43mself\u001b[39;49m\u001b[43m.\u001b[49m\u001b[43mmeans_\u001b[49m\u001b[43m,\u001b[49m\u001b[43m \u001b[49m\u001b[38;5;28;43mself\u001b[39;49m\u001b[43m.\u001b[49m\u001b[43m_covars_\u001b[49m\u001b[43m,\u001b[49m\u001b[43m \u001b[49m\u001b[38;5;28;43mself\u001b[39;49m\u001b[43m.\u001b[49m\u001b[43mcovariance_type\u001b[49m\u001b[43m)\u001b[49m\n",
      "\u001b[36mFile \u001b[39m\u001b[32mc:\\Users\\JTYAP\\AppData\\Local\\Programs\\Python\\Python313\\Lib\\site-packages\\hmmlearn\\stats.py:42\u001b[39m, in \u001b[36mlog_multivariate_normal_density\u001b[39m\u001b[34m(X, means, covars, covariance_type)\u001b[39m\n\u001b[32m      6\u001b[39m \u001b[38;5;250m\u001b[39m\u001b[33;03m\"\"\"\u001b[39;00m\n\u001b[32m      7\u001b[39m \u001b[33;03mCompute the log probability under a multivariate Gaussian distribution.\u001b[39;00m\n\u001b[32m      8\u001b[39m \n\u001b[32m   (...)\u001b[39m\u001b[32m     35\u001b[39m \u001b[33;03m    X under each of the n_components multivariate Gaussian distributions.\u001b[39;00m\n\u001b[32m     36\u001b[39m \u001b[33;03m\"\"\"\u001b[39;00m\n\u001b[32m     37\u001b[39m log_multivariate_normal_density_dict = {\n\u001b[32m     38\u001b[39m     \u001b[33m'\u001b[39m\u001b[33mspherical\u001b[39m\u001b[33m'\u001b[39m: _log_multivariate_normal_density_spherical,\n\u001b[32m     39\u001b[39m     \u001b[33m'\u001b[39m\u001b[33mtied\u001b[39m\u001b[33m'\u001b[39m: _log_multivariate_normal_density_tied,\n\u001b[32m     40\u001b[39m     \u001b[33m'\u001b[39m\u001b[33mdiag\u001b[39m\u001b[33m'\u001b[39m: _log_multivariate_normal_density_diag,\n\u001b[32m     41\u001b[39m     \u001b[33m'\u001b[39m\u001b[33mfull\u001b[39m\u001b[33m'\u001b[39m: _log_multivariate_normal_density_full}\n\u001b[32m---> \u001b[39m\u001b[32m42\u001b[39m \u001b[38;5;28;01mreturn\u001b[39;00m \u001b[43mlog_multivariate_normal_density_dict\u001b[49m\u001b[43m[\u001b[49m\u001b[43mcovariance_type\u001b[49m\u001b[43m]\u001b[49m\u001b[43m(\u001b[49m\n\u001b[32m     43\u001b[39m \u001b[43m    \u001b[49m\u001b[43mX\u001b[49m\u001b[43m,\u001b[49m\u001b[43m \u001b[49m\u001b[43mmeans\u001b[49m\u001b[43m,\u001b[49m\u001b[43m \u001b[49m\u001b[43mcovars\u001b[49m\n\u001b[32m     44\u001b[39m \u001b[43m\u001b[49m\u001b[43m)\u001b[49m\n",
      "\u001b[36mFile \u001b[39m\u001b[32mc:\\Users\\JTYAP\\AppData\\Local\\Programs\\Python\\Python313\\Lib\\site-packages\\hmmlearn\\stats.py:93\u001b[39m, in \u001b[36m_log_multivariate_normal_density_full\u001b[39m\u001b[34m(X, means, covars, min_covar)\u001b[39m\n\u001b[32m     89\u001b[39m             \u001b[38;5;28;01mraise\u001b[39;00m \u001b[38;5;167;01mValueError\u001b[39;00m(\u001b[33m\"\u001b[39m\u001b[33m'\u001b[39m\u001b[33mcovars\u001b[39m\u001b[33m'\u001b[39m\u001b[33m must be symmetric, \u001b[39m\u001b[33m\"\u001b[39m\n\u001b[32m     90\u001b[39m                              \u001b[33m\"\u001b[39m\u001b[33mpositive-definite\u001b[39m\u001b[33m\"\u001b[39m)\n\u001b[32m     92\u001b[39m     cv_log_det = \u001b[32m2\u001b[39m * np.sum(np.log(np.diagonal(cv_chol)))\n\u001b[32m---> \u001b[39m\u001b[32m93\u001b[39m     cv_sol = linalg.solve_triangular(cv_chol, (\u001b[43mX\u001b[49m\u001b[43m \u001b[49m\u001b[43m-\u001b[49m\u001b[43m \u001b[49m\u001b[43mmu\u001b[49m).T, lower=\u001b[38;5;28;01mTrue\u001b[39;00m).T\n\u001b[32m     94\u001b[39m     log_prob.append(-\u001b[32m.5\u001b[39m * (nf * np.log(\u001b[32m2\u001b[39m * np.pi)\n\u001b[32m     95\u001b[39m                            + (cv_sol ** \u001b[32m2\u001b[39m).sum(axis=\u001b[32m1\u001b[39m)\n\u001b[32m     96\u001b[39m                            + cv_log_det))\n\u001b[32m     98\u001b[39m \u001b[38;5;28;01mreturn\u001b[39;00m np.transpose(log_prob)\n",
      "\u001b[31mValueError\u001b[39m: operands could not be broadcast together with shapes (1,2) (8,) "
     ]
    }
   ],
   "source": [
    "backtest_df = pd.read_csv(\"../datasets/BTC-USD_1h_Backtest_2021_to_2023.csv\")\n",
    "\n",
    "backtest_df.rename(columns={'timestamp': 'Date', 'open': 'Open', 'high': 'High', 'low': 'Low', 'close': 'Close', 'volume': 'Volume'}, inplace=True)\n",
    "\n",
    "print(backtest_df)\n",
    "\n",
    "\n",
    "bt = Backtest(backtest_df, HMMStrategy, cash=1000000, commission=0.0006)\n",
    "stats = bt.run()\n",
    "# bt.plot()\n",
    "\n",
    "# print(BTCUSD)\n",
    "\n",
    "# bt = Backtest(BTCUSD, HMMStrategy, cash=100000, commission=0.0006)\n",
    "# stats = bt.run()\n",
    "# bt.plot()\n"
   ]
  },
  {
   "cell_type": "code",
   "execution_count": null,
   "metadata": {},
   "outputs": [
    {
     "name": "stdout",
     "output_type": "stream",
     "text": [
      "Start                                     0.0\n",
      "End                                   26995.0\n",
      "Duration                              26995.0\n",
      "Exposure Time [%]                    99.81849\n",
      "Equity Final [$]                 379462.89169\n",
      "Equity Peak [$]                 1905541.37112\n",
      "Commissions [$]                  692902.97327\n",
      "Return [%]                          -62.05371\n",
      "Buy & Hold Return [%]                52.74488\n",
      "Return (Ann.) [%]                         0.0\n",
      "Volatility (Ann.) [%]                     NaN\n",
      "Sharpe Ratio                              NaN\n",
      "Sortino Ratio                             NaN\n",
      "Calmar Ratio                              0.0\n",
      "Alpha [%]                          -109.19783\n",
      "Beta                                  0.89381\n",
      "Max. Drawdown [%]                     -89.557\n",
      "Avg. Drawdown [%]                    -5.29069\n",
      "Max. Drawdown Duration                24509.0\n",
      "Avg. Drawdown Duration              612.56818\n",
      "# Trades                                920.0\n",
      "Win Rate [%]                         51.52174\n",
      "Best Trade [%]                       18.70085\n",
      "Worst Trade [%]                     -15.73735\n",
      "Avg. Trade [%]                        0.00586\n",
      "Max. Trade Duration                      30.0\n",
      "Avg. Trade Duration                  28.29022\n",
      "Profit Factor                         1.05917\n",
      "Expectancy [%]                        0.07555\n",
      "SQN                                   0.06968\n",
      "Kelly Criterion                       0.00418\n",
      "_strategy                         HMMStrategy\n",
      "_equity_curve                         Equi...\n",
      "_trades                        Size  Entry...\n",
      "dtype: object\n"
     ]
    }
   ],
   "source": [
    "print (stats)"
   ]
  }
 ],
 "metadata": {
  "kernelspec": {
   "display_name": "Python 3",
   "language": "python",
   "name": "python3"
  },
  "language_info": {
   "codemirror_mode": {
    "name": "ipython",
    "version": 3
   },
   "file_extension": ".py",
   "mimetype": "text/x-python",
   "name": "python",
   "nbconvert_exporter": "python",
   "pygments_lexer": "ipython3",
   "version": "3.13.2"
  }
 },
 "nbformat": 4,
 "nbformat_minor": 2
}
