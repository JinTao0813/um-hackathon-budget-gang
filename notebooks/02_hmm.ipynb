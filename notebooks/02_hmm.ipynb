{
 "cells": [
  {
   "cell_type": "markdown",
   "metadata": {},
   "source": [
    "### Install modules in terminal"
   ]
  },
  {
   "cell_type": "code",
   "execution_count": 74,
   "metadata": {},
   "outputs": [
    {
     "name": "stdout",
     "output_type": "stream",
     "text": [
      "Requirement already satisfied: pandas in /Library/Frameworks/Python.framework/Versions/3.13/lib/python3.13/site-packages (2.2.3)\n",
      "Requirement already satisfied: scikit-learn in /Library/Frameworks/Python.framework/Versions/3.13/lib/python3.13/site-packages (1.6.1)\n",
      "Requirement already satisfied: numpy in /Library/Frameworks/Python.framework/Versions/3.13/lib/python3.13/site-packages (2.2.4)\n",
      "Requirement already satisfied: hmmlearn in /Library/Frameworks/Python.framework/Versions/3.13/lib/python3.13/site-packages (0.3.3)\n",
      "Requirement already satisfied: matplotlib in /Library/Frameworks/Python.framework/Versions/3.13/lib/python3.13/site-packages (3.10.1)\n",
      "Requirement already satisfied: python-dateutil>=2.8.2 in /Users/winnee/Library/Python/3.13/lib/python/site-packages (from pandas) (2.9.0.post0)\n",
      "Requirement already satisfied: pytz>=2020.1 in /Library/Frameworks/Python.framework/Versions/3.13/lib/python3.13/site-packages (from pandas) (2025.2)\n",
      "Requirement already satisfied: tzdata>=2022.7 in /Library/Frameworks/Python.framework/Versions/3.13/lib/python3.13/site-packages (from pandas) (2025.2)\n",
      "Requirement already satisfied: scipy>=1.6.0 in /Library/Frameworks/Python.framework/Versions/3.13/lib/python3.13/site-packages (from scikit-learn) (1.15.2)\n",
      "Requirement already satisfied: joblib>=1.2.0 in /Library/Frameworks/Python.framework/Versions/3.13/lib/python3.13/site-packages (from scikit-learn) (1.4.2)\n",
      "Requirement already satisfied: threadpoolctl>=3.1.0 in /Library/Frameworks/Python.framework/Versions/3.13/lib/python3.13/site-packages (from scikit-learn) (3.6.0)\n",
      "Requirement already satisfied: contourpy>=1.0.1 in /Library/Frameworks/Python.framework/Versions/3.13/lib/python3.13/site-packages (from matplotlib) (1.3.1)\n",
      "Requirement already satisfied: cycler>=0.10 in /Library/Frameworks/Python.framework/Versions/3.13/lib/python3.13/site-packages (from matplotlib) (0.12.1)\n",
      "Requirement already satisfied: fonttools>=4.22.0 in /Library/Frameworks/Python.framework/Versions/3.13/lib/python3.13/site-packages (from matplotlib) (4.57.0)\n",
      "Requirement already satisfied: kiwisolver>=1.3.1 in /Library/Frameworks/Python.framework/Versions/3.13/lib/python3.13/site-packages (from matplotlib) (1.4.8)\n",
      "Requirement already satisfied: packaging>=20.0 in /Users/winnee/Library/Python/3.13/lib/python/site-packages (from matplotlib) (24.2)\n",
      "Requirement already satisfied: pillow>=8 in /Library/Frameworks/Python.framework/Versions/3.13/lib/python3.13/site-packages (from matplotlib) (11.1.0)\n",
      "Requirement already satisfied: pyparsing>=2.3.1 in /Library/Frameworks/Python.framework/Versions/3.13/lib/python3.13/site-packages (from matplotlib) (3.2.3)\n",
      "Requirement already satisfied: six>=1.5 in /Users/winnee/Library/Python/3.13/lib/python/site-packages (from python-dateutil>=2.8.2->pandas) (1.17.0)\n",
      "Note: you may need to restart the kernel to use updated packages.\n"
     ]
    }
   ],
   "source": [
    "%pip install pandas scikit-learn numpy hmmlearn matplotlib"
   ]
  },
  {
   "cell_type": "markdown",
   "metadata": {},
   "source": [
    "### Import modules"
   ]
  },
  {
   "cell_type": "code",
   "execution_count": 75,
   "metadata": {},
   "outputs": [],
   "source": [
    "import pandas as pd\n",
    "\n",
    "import numpy as np\n",
    "\n",
    "import hmmlearn.hmm\n",
    "from hmmlearn.hmm import MultinomialHMM, GaussianHMM\n",
    "\n",
    "import matplotlib.pyplot as plt"
   ]
  },
  {
   "cell_type": "markdown",
   "metadata": {},
   "source": [
    "### HMM Model with 2024 data"
   ]
  },
  {
   "cell_type": "code",
   "execution_count": 76,
   "metadata": {},
   "outputs": [
    {
     "name": "stdout",
     "output_type": "stream",
     "text": [
      "                 timestamp      open      high       low     close  \\\n",
      "0      2018-01-01 17:00:00  13093.10  13248.60  13093.09  13138.11   \n",
      "1      2018-01-01 18:00:00  13138.12  13321.23  13114.47  13189.98   \n",
      "2      2018-01-01 19:00:00  13189.98  13350.00  13156.91  13345.47   \n",
      "3      2018-01-01 20:00:00  13345.47  13544.24  13345.46  13469.01   \n",
      "4      2018-01-01 21:00:00  13469.01  13772.59  13432.00  13565.00   \n",
      "...                    ...       ...       ...       ...       ...   \n",
      "26942  2021-01-29 11:00:00  36686.34  37307.28  36491.79  37108.69   \n",
      "26943  2021-01-29 12:00:00  37106.18  37988.28  36622.22  37967.31   \n",
      "26944  2021-01-29 13:00:00  37967.74  38570.13  37171.79  38458.99   \n",
      "26945  2021-01-29 14:00:00  38499.99  38534.47  36570.00  37185.49   \n",
      "26946  2021-01-29 15:00:00  37185.49  37619.92  36868.50  37178.27   \n",
      "\n",
      "            volume        rsi         macd        ema_12        ema_26  \\\n",
      "0       380.269338  35.795321  -191.147212  13323.908819  13515.056031   \n",
      "1       552.892055  38.149617  -187.671940  13303.304385  13490.976325   \n",
      "2       453.701579  44.696273  -170.406676  13309.791403  13480.198079   \n",
      "3       575.894732  49.288985  -145.082761  13334.286572  13479.369332   \n",
      "4       827.499202  52.583897  -115.931399  13369.780945  13485.712345   \n",
      "...            ...        ...          ...           ...           ...   \n",
      "26942  2525.469529  74.305396  1120.649570  34872.977883  33752.328314   \n",
      "26943  2301.741373  77.107612  1284.479799  35349.028978  34064.549179   \n",
      "26944  2596.404427  78.550221  1437.421206  35827.484520  34390.063314   \n",
      "26945  3409.786366  66.807150  1439.276482  36036.408440  34597.131958   \n",
      "26946  3430.543420  66.746227  1423.752081  36212.079449  34788.327368   \n",
      "\n",
      "           sma_20   volatility  return_pct  log_return  \n",
      "0      13460.9650   245.088554    0.343769    0.003432  \n",
      "1      13423.1140   223.588964    0.394806    0.003940  \n",
      "2      13397.2310   198.529381    1.178849    0.011720  \n",
      "3      13391.3350   194.305192    0.925707    0.009214  \n",
      "4      13402.3000   197.751572    0.712673    0.007101  \n",
      "...           ...          ...         ...         ...  \n",
      "26942  33874.3400  1607.010590    1.121229    0.011150  \n",
      "26943  34148.3555  1812.140040    2.313798    0.022874  \n",
      "26944  34453.8375  1998.314328    1.295009    0.012867  \n",
      "26945  34678.2625  2042.186954   -3.311319   -0.033674  \n",
      "26946  34904.9105  2056.181679   -0.019416   -0.000194  \n",
      "\n",
      "[26947 rows x 14 columns]\n"
     ]
    }
   ],
   "source": [
    "training_df = pd.read_csv(\"../datasets/BTCUSDT_train_features.csv\")\n",
    "\n",
    "print(training_df)\n"
   ]
  },
  {
   "cell_type": "code",
   "execution_count": 77,
   "metadata": {},
   "outputs": [
    {
     "name": "stdout",
     "output_type": "stream",
     "text": [
      "                timestamp      open     close  log_return  state\n",
      "0     2018-01-01 17:00:00  13093.10  13138.11    0.003432      0\n",
      "1     2018-01-01 18:00:00  13138.12  13189.98    0.003940      0\n",
      "2     2018-01-01 19:00:00  13189.98  13345.47    0.011720      0\n",
      "3     2018-01-01 20:00:00  13345.47  13469.01    0.009214      0\n",
      "4     2018-01-01 21:00:00  13469.01  13565.00    0.007101      0\n",
      "...                   ...       ...       ...         ...    ...\n",
      "26942 2021-01-29 11:00:00  36686.34  37108.69    0.011150      2\n",
      "26943 2021-01-29 12:00:00  37106.18  37967.31    0.022874      2\n",
      "26944 2021-01-29 13:00:00  37967.74  38458.99    0.012867      2\n",
      "26945 2021-01-29 14:00:00  38499.99  37185.49   -0.033674      2\n",
      "26946 2021-01-29 15:00:00  37185.49  37178.27   -0.000194      2\n",
      "\n",
      "[26947 rows x 5 columns]\n"
     ]
    }
   ],
   "source": [
    "# Load your data\n",
    "df = training_df\n",
    "\n",
    "# Convert to datetime\n",
    "df['timestamp'] = pd.to_datetime(df['timestamp'])\n",
    "\n",
    "# Sort by time just in case\n",
    "df = df.sort_values('timestamp')\n",
    "\n",
    "\n",
    "# Drop NaN from the first row (due to shift)\n",
    "df = df.dropna()\n",
    "\n",
    "# Prepare observation sequence (log returns and normalized volume)\n",
    "df['volume_norm'] = (df['volume'] - df['volume'].mean()) / df['volume'].std()\n",
    "\n",
    "\n",
    "observations = df[['log_return', 'volume_norm']].values\n",
    "\n",
    "\n",
    "# Fit a Gaussian HMM with N hidden states\n",
    "hmmodel = GaussianHMM(n_components=3, covariance_type=\"full\", n_iter=1000) \n",
    "hmmodel.fit(observations)\n",
    "\n",
    "# Predict the hidden states\n",
    "hidden_states = hmmodel.predict(observations)\n",
    "\n",
    "# Add hidden states to dataframe\n",
    "df['state'] = hidden_states\n",
    "\n",
    "print(df[['timestamp', 'open', 'close', 'log_return', 'state']])\n"
   ]
  },
  {
   "cell_type": "code",
   "execution_count": 78,
   "metadata": {},
   "outputs": [
    {
     "data": {
      "image/png": "[encoded data removed]",
      "text/plain": [
       "<Figure size 640x480 with 1 Axes>"
      ]
     },
     "metadata": {},
     "output_type": "display_data"
    }
   ],
   "source": [
    "for i in range(hmmodel.n_components):\n",
    "    state_series = df[df['state'] == i]\n",
    "    plt.plot(state_series['timestamp'], state_series['close'], label=f'State {i}')\n",
    "\n",
    "    #the state 0 represents a bear market (steady growth with low volatility) and state 1 represents a bull market (downward trend and high volatility)\n",
    "\n",
    "plt.legend()\n",
    "plt.title(\"HMM Inferred Regimes on Bitcoin Prices\")\n",
    "plt.show()"
   ]
  },
  {
   "cell_type": "markdown",
   "metadata": {},
   "source": [
    "### Identify the meaning of the state number"
   ]
  },
  {
   "cell_type": "code",
   "execution_count": 84,
   "metadata": {},
   "outputs": [
    {
     "name": "stdout",
     "output_type": "stream",
     "text": [
      "Percentage of each state:\n",
      "state\n",
      "1    51.671800\n",
      "0    37.265744\n",
      "2    11.062456\n",
      "Name: proportion, dtype: float64\n",
      "\n",
      "=== State Analysis (to identify the meaning of each state, the highest the log return, the market is bullish) === \n",
      "      log_return           volume_norm\n",
      "            mean       std        mean\n",
      "state                                 \n",
      "0       0.000222  0.006766    0.057107\n",
      "1       0.000054  0.002612   -0.472346\n",
      "2      -0.000648  0.022410    2.013913\n",
      "\n",
      "State considered Bullish = 0\n",
      "State considered Bearish = 2\n",
      "State considered Neutral = 1\n",
      "                timestamp      open     close  log_return  state market_state\n",
      "0     2018-01-01 17:00:00  13093.10  13138.11    0.003432      0      bullish\n",
      "1     2018-01-01 18:00:00  13138.12  13189.98    0.003940      0      bullish\n",
      "2     2018-01-01 19:00:00  13189.98  13345.47    0.011720      0      bullish\n",
      "3     2018-01-01 20:00:00  13345.47  13469.01    0.009214      0      bullish\n",
      "4     2018-01-01 21:00:00  13469.01  13565.00    0.007101      0      bullish\n",
      "...                   ...       ...       ...         ...    ...          ...\n",
      "26942 2021-01-29 11:00:00  36686.34  37108.69    0.011150      2      bearish\n",
      "26943 2021-01-29 12:00:00  37106.18  37967.31    0.022874      2      bearish\n",
      "26944 2021-01-29 13:00:00  37967.74  38458.99    0.012867      2      bearish\n",
      "26945 2021-01-29 14:00:00  38499.99  37185.49   -0.033674      2      bearish\n",
      "26946 2021-01-29 15:00:00  37185.49  37178.27   -0.000194      2      bearish\n",
      "\n",
      "[26947 rows x 6 columns]\n"
     ]
    }
   ],
   "source": [
    "# Calculate average return, volatility, and volume per state\n",
    "state_analysis = df.groupby('state').agg({\n",
    "    'log_return': ['mean', 'std'],\n",
    "    'volume_norm': 'mean'\n",
    "})\n",
    "\n",
    "# Calculate the relative frequency (percentage) of each state\n",
    "state_percentages = df['state'].value_counts(normalize=True) * 100\n",
    "\n",
    "print(\"Percentage of each state:\")\n",
    "print(state_percentages)\n",
    "\n",
    "\n",
    "print(\"\\n=== State Analysis (to identify the meaning of each state, the highest the log return, the market is bullish) === \")\n",
    "print(state_analysis)\n",
    "\n",
    "# Determine which state is most bullish (highest average return)\n",
    "bullish_state = state_analysis['log_return']['mean'].idxmax()\n",
    "print(\"\\nState considered Bullish =\", bullish_state)\n",
    "\n",
    "# Determine which state is most bearish (lowest average return)\n",
    "bearish_state = state_analysis['log_return']['mean'].idxmin()\n",
    "print(\"State considered Bearish =\", bearish_state)\n",
    "\n",
    "# Determine the Neutral state (neither max nor min return)\n",
    "neutral_state = list(set(df['state'].unique()) - {bullish_state, bearish_state})[0]\n",
    "print(\"State considered Neutral =\", neutral_state)\n",
    "\n",
    "# Add market_state labels based on analysis\n",
    "state_mapping = {\n",
    "    bullish_state: 'bullish',\n",
    "    bearish_state: 'bearish',\n",
    "    neutral_state: 'neutral'\n",
    "}\n",
    "df['market_state'] = df['state'].map(state_mapping)\n",
    "print(df[['timestamp', 'open', 'close', 'log_return', 'state', 'market_state']])\n"
   ]
  },
  {
   "cell_type": "markdown",
   "metadata": {},
   "source": [
    "### Simple Prediction Example"
   ]
  },
  {
   "cell_type": "code",
   "execution_count": null,
   "metadata": {},
   "outputs": [
    {
     "name": "stdout",
     "output_type": "stream",
     "text": [
      "Predicted hidden state: 2\n"
     ]
    }
   ],
   "source": [
    "# Example data\n",
    "today_close = 44957.63\n",
    "yesterday_close = 44122.03\n",
    "today_vol = 46593616092.15278\n",
    "volume_mean = df['volume'].mean()\n",
    "volume_std = df['volume'].std()\n",
    "\n",
    "# Calculate features\n",
    "log_return = np.log(today_close / yesterday_close)\n",
    "volume_norm = (today_vol - volume_mean) / volume_std\n",
    "\n",
    "# Format as 2D array\n",
    "new_obs = np.array([[log_return, volume_norm]])\n",
    "\n",
    "# Predict hidden state\n",
    "state_today = hmmodel.predict(new_obs)\n",
    "\n",
    "print(f\"Predicted hidden state: {state_today[0]}\")\n"
   ]
  }
 ],
 "metadata": {
  "kernelspec": {
   "display_name": "Python 3",
   "language": "python",
   "name": "python3"
  },
  "language_info": {
   "codemirror_mode": {
    "name": "ipython",
    "version": 3
   },
   "file_extension": ".py",
   "mimetype": "text/x-python",
   "name": "python",
   "nbconvert_exporter": "python",
   "pygments_lexer": "ipython3",
   "version": "3.13.2"
  }
 },
 "nbformat": 4,
 "nbformat_minor": 2
}
