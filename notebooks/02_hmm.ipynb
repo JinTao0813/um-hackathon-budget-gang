{
 "cells": [
  {
   "cell_type": "markdown",
   "metadata": {},
   "source": [
    "### Install modules in terminal"
   ]
  },
  {
   "cell_type": "code",
   "execution_count": 1,
   "metadata": {},
   "outputs": [
    {
     "name": "stdout",
     "output_type": "stream",
     "text": [
      "Collecting pandas\n",
      "  Downloading pandas-2.2.3-cp313-cp313-win_amd64.whl.metadata (19 kB)\n",
      "Collecting scikit-learn\n",
      "  Downloading scikit_learn-1.6.1-cp313-cp313-win_amd64.whl.metadata (15 kB)\n",
      "Collecting numpy\n",
      "  Downloading numpy-2.2.4-cp313-cp313-win_amd64.whl.metadata (60 kB)\n",
      "Collecting hmmlearn\n",
      "  Downloading hmmlearn-0.3.3-cp313-cp313-win_amd64.whl.metadata (3.1 kB)\n",
      "Collecting matplotlib\n",
      "  Downloading matplotlib-3.10.1-cp313-cp313-win_amd64.whl.metadata (11 kB)\n",
      "Collecting joblib\n",
      "  Using cached joblib-1.4.2-py3-none-any.whl.metadata (5.4 kB)\n",
      "Requirement already satisfied: python-dateutil>=2.8.2 in c:\\users\\jtyap\\appdata\\roaming\\python\\python313\\site-packages (from pandas) (2.9.0.post0)\n",
      "Collecting pytz>=2020.1 (from pandas)\n",
      "  Downloading pytz-2025.2-py2.py3-none-any.whl.metadata (22 kB)\n",
      "Collecting tzdata>=2022.7 (from pandas)\n",
      "  Downloading tzdata-2025.2-py2.py3-none-any.whl.metadata (1.4 kB)\n",
      "Collecting scipy>=1.6.0 (from scikit-learn)\n",
      "  Downloading scipy-1.15.2-cp313-cp313-win_amd64.whl.metadata (60 kB)\n",
      "Collecting threadpoolctl>=3.1.0 (from scikit-learn)\n",
      "  Downloading threadpoolctl-3.6.0-py3-none-any.whl.metadata (13 kB)\n",
      "Collecting contourpy>=1.0.1 (from matplotlib)\n",
      "  Downloading contourpy-1.3.1-cp313-cp313-win_amd64.whl.metadata (5.4 kB)\n",
      "Collecting cycler>=0.10 (from matplotlib)\n",
      "  Using cached cycler-0.12.1-py3-none-any.whl.metadata (3.8 kB)\n",
      "Collecting fonttools>=4.22.0 (from matplotlib)\n",
      "  Downloading fonttools-4.57.0-cp313-cp313-win_amd64.whl.metadata (104 kB)\n",
      "Collecting kiwisolver>=1.3.1 (from matplotlib)\n",
      "  Downloading kiwisolver-1.4.8-cp313-cp313-win_amd64.whl.metadata (6.3 kB)\n",
      "Requirement already satisfied: packaging>=20.0 in c:\\users\\jtyap\\appdata\\roaming\\python\\python313\\site-packages (from matplotlib) (24.2)\n",
      "Collecting pillow>=8 (from matplotlib)\n",
      "  Downloading pillow-11.1.0-cp313-cp313-win_amd64.whl.metadata (9.3 kB)\n",
      "Collecting pyparsing>=2.3.1 (from matplotlib)\n",
      "  Downloading pyparsing-3.2.3-py3-none-any.whl.metadata (5.0 kB)\n",
      "Requirement already satisfied: six>=1.5 in c:\\users\\jtyap\\appdata\\roaming\\python\\python313\\site-packages (from python-dateutil>=2.8.2->pandas) (1.17.0)\n",
      "Downloading pandas-2.2.3-cp313-cp313-win_amd64.whl (11.5 MB)\n",
      "   ---------------------------------------- 0.0/11.5 MB ? eta -:--:--\n",
      "   -------- ------------------------------- 2.4/11.5 MB 11.8 MB/s eta 0:00:01\n",
      "   ----------------- ---------------------- 5.0/11.5 MB 11.8 MB/s eta 0:00:01\n",
      "   ------------------------- -------------- 7.3/11.5 MB 11.9 MB/s eta 0:00:01\n",
      "   --------------------------------- ------ 9.7/11.5 MB 11.8 MB/s eta 0:00:01\n",
      "   ---------------------------------------- 11.5/11.5 MB 11.7 MB/s eta 0:00:00\n",
      "Downloading scikit_learn-1.6.1-cp313-cp313-win_amd64.whl (11.1 MB)\n",
      "   ---------------------------------------- 0.0/11.1 MB ? eta -:--:--\n",
      "   -------- ------------------------------- 2.4/11.1 MB 11.9 MB/s eta 0:00:01\n",
      "   ----------------- ---------------------- 4.7/11.1 MB 11.9 MB/s eta 0:00:01\n",
      "   ------------------------- -------------- 7.1/11.1 MB 11.9 MB/s eta 0:00:01\n",
      "   ----------------------------------- ---- 9.7/11.1 MB 11.9 MB/s eta 0:00:01\n",
      "   ---------------------------------------- 11.1/11.1 MB 11.7 MB/s eta 0:00:00\n",
      "Downloading numpy-2.2.4-cp313-cp313-win_amd64.whl (12.6 MB)\n",
      "   ---------------------------------------- 0.0/12.6 MB ? eta -:--:--\n",
      "   ------- -------------------------------- 2.4/12.6 MB 11.9 MB/s eta 0:00:01\n",
      "   -------------- ------------------------- 4.7/12.6 MB 11.8 MB/s eta 0:00:01\n",
      "   ---------------------- ----------------- 7.1/12.6 MB 11.8 MB/s eta 0:00:01\n",
      "   ------------------------------ --------- 9.7/12.6 MB 11.8 MB/s eta 0:00:01\n",
      "   -------------------------------------- - 12.1/12.6 MB 11.8 MB/s eta 0:00:01\n",
      "   ---------------------------------------- 12.6/12.6 MB 11.7 MB/s eta 0:00:00\n",
      "Downloading hmmlearn-0.3.3-cp313-cp313-win_amd64.whl (127 kB)\n",
      "Downloading matplotlib-3.10.1-cp313-cp313-win_amd64.whl (8.1 MB)\n",
      "   ---------------------------------------- 0.0/8.1 MB ? eta -:--:--\n",
      "   ------ --------------------------------- 1.3/8.1 MB 5.9 MB/s eta 0:00:02\n",
      "   ------------------- -------------------- 3.9/8.1 MB 9.4 MB/s eta 0:00:01\n",
      "   ------------------------------- -------- 6.3/8.1 MB 10.2 MB/s eta 0:00:01\n",
      "   ---------------------------------------- 8.1/8.1 MB 10.4 MB/s eta 0:00:00\n",
      "Using cached joblib-1.4.2-py3-none-any.whl (301 kB)\n",
      "Downloading contourpy-1.3.1-cp313-cp313-win_amd64.whl (220 kB)\n",
      "Using cached cycler-0.12.1-py3-none-any.whl (8.3 kB)\n",
      "Downloading fonttools-4.57.0-cp313-cp313-win_amd64.whl (2.2 MB)\n",
      "   ---------------------------------------- 0.0/2.2 MB ? eta -:--:--\n",
      "   ---------------------------------------- 2.2/2.2 MB 11.5 MB/s eta 0:00:00\n",
      "Downloading kiwisolver-1.4.8-cp313-cp313-win_amd64.whl (71 kB)\n",
      "Downloading pillow-11.1.0-cp313-cp313-win_amd64.whl (2.6 MB)\n",
      "   ---------------------------------------- 0.0/2.6 MB ? eta -:--:--\n",
      "   ----------------------------------- ---- 2.4/2.6 MB 11.8 MB/s eta 0:00:01\n",
      "   ---------------------------------------- 2.6/2.6 MB 11.4 MB/s eta 0:00:00\n",
      "Downloading pyparsing-3.2.3-py3-none-any.whl (111 kB)\n",
      "Downloading pytz-2025.2-py2.py3-none-any.whl (509 kB)\n",
      "Downloading scipy-1.15.2-cp313-cp313-win_amd64.whl (41.0 MB)\n",
      "   ---------------------------------------- 0.0/41.0 MB ? eta -:--:--\n",
      "   -- ------------------------------------- 2.4/41.0 MB 11.9 MB/s eta 0:00:04\n",
      "   ---- ----------------------------------- 5.0/41.0 MB 11.8 MB/s eta 0:00:04\n",
      "   ------- -------------------------------- 7.6/41.0 MB 11.8 MB/s eta 0:00:03\n",
      "   --------- ------------------------------ 10.0/41.0 MB 11.8 MB/s eta 0:00:03\n",
      "   ------------ --------------------------- 12.3/41.0 MB 11.8 MB/s eta 0:00:03\n",
      "   -------------- ------------------------- 14.7/41.0 MB 11.8 MB/s eta 0:00:03\n",
      "   ---------------- ----------------------- 17.3/41.0 MB 11.8 MB/s eta 0:00:03\n",
      "   ------------------- -------------------- 19.9/41.0 MB 11.8 MB/s eta 0:00:02\n",
      "   --------------------- ------------------ 22.3/41.0 MB 11.8 MB/s eta 0:00:02\n",
      "   ------------------------ --------------- 24.9/41.0 MB 11.8 MB/s eta 0:00:02\n",
      "   -------------------------- ------------- 27.3/41.0 MB 11.8 MB/s eta 0:00:02\n",
      "   ----------------------------- ---------- 29.9/41.0 MB 11.8 MB/s eta 0:00:01\n",
      "   ------------------------------- -------- 32.2/41.0 MB 11.8 MB/s eta 0:00:01\n",
      "   --------------------------------- ------ 34.6/41.0 MB 11.8 MB/s eta 0:00:01\n",
      "   ------------------------------------ --- 37.2/41.0 MB 11.8 MB/s eta 0:00:01\n",
      "   -------------------------------------- - 39.6/41.0 MB 11.8 MB/s eta 0:00:01\n",
      "   ---------------------------------------- 41.0/41.0 MB 11.7 MB/s eta 0:00:00\n",
      "Downloading threadpoolctl-3.6.0-py3-none-any.whl (18 kB)\n",
      "Downloading tzdata-2025.2-py2.py3-none-any.whl (347 kB)\n",
      "Installing collected packages: pytz, tzdata, threadpoolctl, pyparsing, pillow, numpy, kiwisolver, joblib, fonttools, cycler, scipy, pandas, contourpy, scikit-learn, matplotlib, hmmlearn\n",
      "Successfully installed contourpy-1.3.1 cycler-0.12.1 fonttools-4.57.0 hmmlearn-0.3.3 joblib-1.4.2 kiwisolver-1.4.8 matplotlib-3.10.1 numpy-2.2.4 pandas-2.2.3 pillow-11.1.0 pyparsing-3.2.3 pytz-2025.2 scikit-learn-1.6.1 scipy-1.15.2 threadpoolctl-3.6.0 tzdata-2025.2\n",
      "Note: you may need to restart the kernel to use updated packages.\n"
     ]
    },
    {
     "name": "stderr",
     "output_type": "stream",
     "text": [
      "\n",
      "[notice] A new release of pip is available: 24.3.1 -> 25.0.1\n",
      "[notice] To update, run: python.exe -m pip install --upgrade pip\n"
     ]
    }
   ],
   "source": [
    "%pip install pandas scikit-learn numpy hmmlearn matplotlib joblib"
   ]
  },
  {
   "cell_type": "markdown",
   "metadata": {},
   "source": [
    "### Import modules"
   ]
  },
  {
   "cell_type": "code",
   "execution_count": 2,
   "metadata": {},
   "outputs": [],
   "source": [
    "import pandas as pd\n",
    "\n",
    "import joblib\n",
    "import numpy as np\n",
    "\n",
    "import hmmlearn.hmm\n",
    "from hmmlearn.hmm import MultinomialHMM, GaussianHMM\n",
    "\n",
    "import matplotlib.pyplot as plt"
   ]
  },
  {
   "cell_type": "markdown",
   "metadata": {},
   "source": [
    "### HMM Model with 2024 data"
   ]
  },
  {
   "cell_type": "code",
   "execution_count": 3,
   "metadata": {},
   "outputs": [
    {
     "name": "stdout",
     "output_type": "stream",
     "text": [
      "                 timestamp      open      high       low     close  \\\n",
      "0      2018-01-01 17:00:00  13093.10  13248.60  13093.09  13138.11   \n",
      "1      2018-01-01 18:00:00  13138.12  13321.23  13114.47  13189.98   \n",
      "2      2018-01-01 19:00:00  13189.98  13350.00  13156.91  13345.47   \n",
      "3      2018-01-01 20:00:00  13345.47  13544.24  13345.46  13469.01   \n",
      "4      2018-01-01 21:00:00  13469.01  13772.59  13432.00  13565.00   \n",
      "...                    ...       ...       ...       ...       ...   \n",
      "26942  2021-01-29 11:00:00  36686.34  37307.28  36491.79  37108.69   \n",
      "26943  2021-01-29 12:00:00  37106.18  37988.28  36622.22  37967.31   \n",
      "26944  2021-01-29 13:00:00  37967.74  38570.13  37171.79  38458.99   \n",
      "26945  2021-01-29 14:00:00  38499.99  38534.47  36570.00  37185.49   \n",
      "26946  2021-01-29 15:00:00  37185.49  37619.92  36868.50  37178.27   \n",
      "\n",
      "            volume        rsi         macd        ema_12        ema_26  \\\n",
      "0       380.269338  35.795321  -191.147212  13323.908819  13515.056031   \n",
      "1       552.892055  38.149617  -187.671940  13303.304385  13490.976325   \n",
      "2       453.701579  44.696273  -170.406676  13309.791403  13480.198079   \n",
      "3       575.894732  49.288985  -145.082761  13334.286572  13479.369332   \n",
      "4       827.499202  52.583897  -115.931399  13369.780945  13485.712345   \n",
      "...            ...        ...          ...           ...           ...   \n",
      "26942  2525.469529  74.305396  1120.649570  34872.977883  33752.328314   \n",
      "26943  2301.741373  77.107612  1284.479799  35349.028978  34064.549179   \n",
      "26944  2596.404427  78.550221  1437.421206  35827.484520  34390.063314   \n",
      "26945  3409.786366  66.807150  1439.276482  36036.408440  34597.131958   \n",
      "26946  3430.543420  66.746227  1423.752081  36212.079449  34788.327368   \n",
      "\n",
      "           sma_20   volatility  return_pct  log_return  \n",
      "0      13460.9650   245.088554    0.343769    0.003432  \n",
      "1      13423.1140   223.588964    0.394806    0.003940  \n",
      "2      13397.2310   198.529381    1.178849    0.011720  \n",
      "3      13391.3350   194.305192    0.925707    0.009214  \n",
      "4      13402.3000   197.751572    0.712673    0.007101  \n",
      "...           ...          ...         ...         ...  \n",
      "26942  33874.3400  1607.010590    1.121229    0.011150  \n",
      "26943  34148.3555  1812.140040    2.313798    0.022874  \n",
      "26944  34453.8375  1998.314328    1.295009    0.012867  \n",
      "26945  34678.2625  2042.186954   -3.311319   -0.033674  \n",
      "26946  34904.9105  2056.181679   -0.019416   -0.000194  \n",
      "\n",
      "[26947 rows x 14 columns]\n"
     ]
    }
   ],
   "source": [
    "training_df = pd.read_csv(\"../datasets/BTCUSDT_train_features.csv\")\n",
    "\n",
    "print(training_df)\n"
   ]
  },
  {
   "cell_type": "code",
   "execution_count": 4,
   "metadata": {},
   "outputs": [
    {
     "name": "stderr",
     "output_type": "stream",
     "text": [
      "Model is not converging.  Current: 393136.5175567118 is not greater than 393136.580355316. Delta is -0.06279860419454053\n"
     ]
    },
    {
     "name": "stdout",
     "output_type": "stream",
     "text": [
      "                timestamp      open     close  log_return  state\n",
      "0     2018-01-01 17:00:00  13093.10  13138.11    0.003432      0\n",
      "1     2018-01-01 18:00:00  13138.12  13189.98    0.003940      0\n",
      "2     2018-01-01 19:00:00  13189.98  13345.47    0.011720      0\n",
      "3     2018-01-01 20:00:00  13345.47  13469.01    0.009214      0\n",
      "4     2018-01-01 21:00:00  13469.01  13565.00    0.007101      0\n",
      "...                   ...       ...       ...         ...    ...\n",
      "26942 2021-01-29 11:00:00  36686.34  37108.69    0.011150      1\n",
      "26943 2021-01-29 12:00:00  37106.18  37967.31    0.022874      1\n",
      "26944 2021-01-29 13:00:00  37967.74  38458.99    0.012867      1\n",
      "26945 2021-01-29 14:00:00  38499.99  37185.49   -0.033674      1\n",
      "26946 2021-01-29 15:00:00  37185.49  37178.27   -0.000194      1\n",
      "\n",
      "[26947 rows x 5 columns]\n"
     ]
    }
   ],
   "source": [
    "# Load your data\n",
    "df = training_df\n",
    "\n",
    "# Convert to datetime\n",
    "df['timestamp'] = pd.to_datetime(df['timestamp'])\n",
    "\n",
    "# Sort by time just in case\n",
    "df = df.sort_values('timestamp')\n",
    "\n",
    "# Drop NaN from the first row (due to shift)\n",
    "df = df.dropna()\n",
    "\n",
    "# Prepare observation sequence (log returns and normalized volume)\n",
    "df['volume_norm'] = (df['volume'] - df['volume'].mean()) / df['volume'].std()\n",
    "df['rsi_norm'] = (df['rsi'] - df['rsi'].mean()) / df['rsi'].std()\n",
    "df['macd_norm'] = (df['macd'] - df['macd'].mean()) / df['macd'].std()\n",
    "df['ema12_norm'] = (df['ema_12'] - df['ema_12'].mean()) / df['ema_12'].std()\n",
    "df['ema26_norm'] = (df['ema_26'] - df['ema_26'].mean()) / df['ema_26'].std()\n",
    "df['sma20_norm'] = (df['sma_20'] - df['sma_20'].mean()) / df['sma_20'].std()\n",
    "df['volatility_norm'] = (df['volatility'] - df['volatility'].mean()) / df['volatility'].std()\n",
    "\n",
    "df = df.dropna()\n",
    "\n",
    "observations = df[['log_return', 'volume_norm', 'rsi_norm', 'macd_norm', 'ema12_norm', 'ema26_norm', 'sma20_norm', 'volatility_norm']].values\n",
    "\n",
    "# Fit a Gaussian HMM with N hidden states\n",
    "hmmodel = GaussianHMM(n_components=3, covariance_type=\"full\", n_iter=1000) \n",
    "hmmodel.fit(observations)\n",
    "\n",
    "# Predict the hidden states\n",
    "hidden_states = hmmodel.predict(observations)\n",
    "\n",
    "# Add hidden states to dataframe\n",
    "df['state'] = hidden_states\n",
    "\n",
    "print(df[['timestamp', 'open', 'close', 'log_return', 'state']])\n"
   ]
  },
  {
   "cell_type": "code",
   "execution_count": 5,
   "metadata": {},
   "outputs": [
    {
     "data": {
      "image/png": "[encoded data removed]",
      "text/plain": [
       "<Figure size 640x480 with 1 Axes>"
      ]
     },
     "metadata": {},
     "output_type": "display_data"
    }
   ],
   "source": [
    "for i in range(hmmodel.n_components):\n",
    "    state_series = df[df['state'] == i]\n",
    "    plt.plot(state_series['timestamp'], state_series['close'], label=f'State {i}')\n",
    "\n",
    "    #the state 0 represents a bear market (steady growth with low volatility) and state 1 represents a bull market (downward trend and high volatility)\n",
    "\n",
    "plt.legend()\n",
    "plt.title(\"HMM Inferred Regimes on Bitcoin Prices\")\n",
    "plt.show()"
   ]
  },
  {
   "cell_type": "markdown",
   "metadata": {},
   "source": [
    "### Identify the meaning of the state number"
   ]
  },
  {
   "cell_type": "code",
   "execution_count": 6,
   "metadata": {},
   "outputs": [
    {
     "name": "stdout",
     "output_type": "stream",
     "text": [
      "Percentage of each state:\n",
      "state\n",
      "2    47.066464\n",
      "0    32.905333\n",
      "1    20.028204\n",
      "Name: proportion, dtype: float64\n",
      "\n",
      "=== State Analysis (to identify the meaning of each state, the highest the log return, the market is bullish) === \n",
      "      log_return           volume_norm  rsi_norm macd_norm ema12_norm  \\\n",
      "            mean       std        mean      mean      mean       mean   \n",
      "state                                                                   \n",
      "0      -0.000256  0.006986   -0.043937 -0.612323 -0.285526  -0.174596   \n",
      "1       0.000318  0.016702    1.008481  0.270581  0.238522   1.056292   \n",
      "2       0.000126  0.002995   -0.398421  0.312950  0.098120  -0.327420   \n",
      "\n",
      "      ema26_norm sma20_norm volatility_norm  \n",
      "            mean       mean            mean  \n",
      "state                                        \n",
      "0      -0.168819  -0.168502       -0.148950  \n",
      "1       1.054369   1.053678        1.268460  \n",
      "2      -0.330640  -0.330568       -0.435633  \n",
      "\n",
      "State considered Bullish = 1\n",
      "State considered Bearish = 0\n",
      "State considered Neutral = 2\n",
      "                timestamp      open     close  log_return  state market_state\n",
      "0     2018-01-01 17:00:00  13093.10  13138.11    0.003432      0      bearish\n",
      "1     2018-01-01 18:00:00  13138.12  13189.98    0.003940      0      bearish\n",
      "2     2018-01-01 19:00:00  13189.98  13345.47    0.011720      0      bearish\n",
      "3     2018-01-01 20:00:00  13345.47  13469.01    0.009214      0      bearish\n",
      "4     2018-01-01 21:00:00  13469.01  13565.00    0.007101      0      bearish\n",
      "...                   ...       ...       ...         ...    ...          ...\n",
      "26942 2021-01-29 11:00:00  36686.34  37108.69    0.011150      1      bullish\n",
      "26943 2021-01-29 12:00:00  37106.18  37967.31    0.022874      1      bullish\n",
      "26944 2021-01-29 13:00:00  37967.74  38458.99    0.012867      1      bullish\n",
      "26945 2021-01-29 14:00:00  38499.99  37185.49   -0.033674      1      bullish\n",
      "26946 2021-01-29 15:00:00  37185.49  37178.27   -0.000194      1      bullish\n",
      "\n",
      "[26947 rows x 6 columns]\n"
     ]
    }
   ],
   "source": [
    "# Calculate average return, volatility, and volume per state\n",
    "state_analysis = df.groupby('state').agg({\n",
    "    'log_return': ['mean', 'std'],\n",
    "    'volume_norm': 'mean',\n",
    "    'rsi_norm': 'mean',\n",
    "    'macd_norm': 'mean',\n",
    "    'ema12_norm': 'mean',\n",
    "    'ema26_norm': 'mean',\n",
    "    'sma20_norm': 'mean',\n",
    "    'volatility_norm': 'mean'\n",
    "})\n",
    "\n",
    "# Calculate the relative frequency (percentage) of each state\n",
    "state_percentages = df['state'].value_counts(normalize=True) * 100\n",
    "\n",
    "print(\"Percentage of each state:\")\n",
    "print(state_percentages)\n",
    "\n",
    "\n",
    "print(\"\\n=== State Analysis (to identify the meaning of each state, the highest the log return, the market is bullish) === \")\n",
    "print(state_analysis)\n",
    "\n",
    "# Determine which state is most bullish (highest average return)\n",
    "bullish_state = state_analysis['log_return']['mean'].idxmax()\n",
    "print(\"\\nState considered Bullish =\", bullish_state)\n",
    "\n",
    "# Determine which state is most bearish (lowest average return)\n",
    "bearish_state = state_analysis['log_return']['mean'].idxmin()\n",
    "print(\"State considered Bearish =\", bearish_state)\n",
    "\n",
    "# Determine the Neutral state (neither max nor min return)\n",
    "neutral_state = list(set(df['state'].unique()) - {bullish_state, bearish_state})[0]\n",
    "print(\"State considered Neutral =\", neutral_state)\n",
    "\n",
    "# Add market_state labels based on analysis\n",
    "state_mapping = {\n",
    "    bullish_state: 'bullish',\n",
    "    bearish_state: 'bearish',\n",
    "    neutral_state: 'neutral'\n",
    "}\n",
    "df['market_state'] = df['state'].map(state_mapping)\n",
    "print(df[['timestamp', 'open', 'close', 'log_return', 'state', 'market_state']])\n"
   ]
  },
  {
   "cell_type": "markdown",
   "metadata": {},
   "source": [
    "### Simple Prediction Example"
   ]
  },
  {
   "cell_type": "code",
   "execution_count": 7,
   "metadata": {},
   "outputs": [
    {
     "data": {
      "text/plain": [
       "['../models/hmm.pkl']"
      ]
     },
     "execution_count": 7,
     "metadata": {},
     "output_type": "execute_result"
    }
   ],
   "source": [
    "# # Example data\n",
    "# today_close = 44957.63\n",
    "# yesterday_close = 44122.03\n",
    "# today_vol = 46593616092.15278\n",
    "volume_mean = df['volume'].mean()\n",
    "volume_std = df['volume'].std()\n",
    "\n",
    "rsi_mean = df['rsi'].mean()\n",
    "rsi_std = df['rsi'].std()\n",
    "\n",
    "macd_mean = df['macd'].mean()\n",
    "macd_std = df['macd'].std()\n",
    "\n",
    "ema12_mean = df['ema_12'].mean()\n",
    "ema12_std = df['ema_12'].std()\n",
    "\n",
    "ema26_mean = df['ema_26'].mean()\n",
    "ema26_std = df['ema_26'].std()\n",
    "\n",
    "sma20_mean = df['sma_20'].mean()\n",
    "sma20_std = df['sma_20'].std()\n",
    "\n",
    "volatility_mean = df['volatility'].mean()\n",
    "volatility_std = df['volatility'].std()\n",
    "\n",
    "# # Calculate features\n",
    "# log_return = np.log(today_close / yesterday_close)\n",
    "# volume_norm = (today_vol - volume_mean) / volume_std\n",
    "\n",
    "# # Format as 2D array\n",
    "# new_obs = np.array([[log_return, volume_norm]])\n",
    "\n",
    "# # Predict hidden state\n",
    "# state_today = hmmodel.predict(new_obs)\n",
    "\n",
    "# print(f\"Predicted hidden state: {state_today[0]}\")\n",
    "\n",
    "def HMM_predictor(today_close, yesterday_close, today_vol, today_rsi, today_macd, today_ema12, today_ema26, today_sma20, today_volatility):\n",
    "\n",
    "    # Calculate features\n",
    "    log_return = np.log(today_close / yesterday_close)\n",
    "    volume_norm = (today_vol - volume_mean) / volume_std\n",
    "    rsi_norm = (today_rsi - rsi_mean) / rsi_std\n",
    "    macd_norm = (today_macd - macd_mean) / macd_std\n",
    "    ema12_norm = (today_ema12 - ema12_mean) / ema12_std\n",
    "    ema26_norm = (today_ema26 - ema26_mean) / ema26_std\n",
    "    sma20_norm = (today_sma20 - sma20_mean) / sma20_std\n",
    "    volatility_norm = (today_volatility - volatility_mean) / volatility_std\n",
    "\n",
    "    # Format as 2D array\n",
    "    new_obs = np.array([[log_return, volume_norm, rsi_norm, macd_norm, ema12_norm, ema26_norm, sma20_norm, volatility_norm]])\n",
    "\n",
    "    # Predict hidden state\n",
    "    state_today = hmmodel.predict(new_obs)\n",
    "\n",
    "    return state_today[0]\n",
    "\n",
    "joblib.dump(hmmodel, '../models/hmm.pkl')\n"
   ]
  }
 ],
 "metadata": {
  "kernelspec": {
   "display_name": "Python 3",
   "language": "python",
   "name": "python3"
  },
  "language_info": {
   "codemirror_mode": {
    "name": "ipython",
    "version": 3
   },
   "file_extension": ".py",
   "mimetype": "text/x-python",
   "name": "python",
   "nbconvert_exporter": "python",
   "pygments_lexer": "ipython3",
   "version": "3.13.2"
  }
 },
 "nbformat": 4,
 "nbformat_minor": 2
}
